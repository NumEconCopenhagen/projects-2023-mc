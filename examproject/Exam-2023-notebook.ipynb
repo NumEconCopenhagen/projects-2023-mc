{
 "cells": [
  {
   "attachments": {},
   "cell_type": "markdown",
   "metadata": {},
   "source": [
    "**Table of contents**<a id='toc0_'></a>    \n",
    "- 1. [Problem 1: Optimal taxation with government consumption](#toc1_)    \n",
    "- 2. [Problem 2: Labor adjustment costs](#toc2_)    \n",
    "- 3. [Problem 3: Global optimizer with refined multi-start](#toc3_)    \n",
    "\n",
    "<!-- vscode-jupyter-toc-config\n",
    "\tnumbering=true\n",
    "\tanchor=true\n",
    "\tflat=false\n",
    "\tminLevel=2\n",
    "\tmaxLevel=6\n",
    "\t/vscode-jupyter-toc-config -->\n",
    "<!-- THIS CELL WILL BE REPLACED ON TOC UPDATE. DO NOT WRITE YOUR TEXT IN THIS CELL -->"
   ]
  },
  {
   "cell_type": "code",
   "execution_count": 50,
   "metadata": {},
   "outputs": [
    {
     "name": "stdout",
     "output_type": "stream",
     "text": [
      "The autoreload extension is already loaded. To reload it, use:\n",
      "  %reload_ext autoreload\n"
     ]
    }
   ],
   "source": [
    "# Importing packages\n",
    "import numpy as np\n",
    "import matplotlib.pyplot as plt\n",
    "import scipy.optimize as opt\n",
    "\n",
    "\n",
    "import sympy as sm\n",
    "from sympy import Symbol\n",
    "from sympy.solvers import solve\n",
    "#from scipy import optimize\n",
    "#import pandas as pd \n",
    "\n",
    "sm.init_printing(use_unicode=True) # for pretty printing\n",
    "#from IPython.display import display\n",
    "#import ipywidgets as widgets\n",
    "#from types import SimpleNamespace\n",
    "#from copy import deepcopy\n",
    "\n",
    "# Autoreload modules when code is run. Otherwise, python will not see recent changes. \n",
    "%load_ext autoreload\n",
    "%autoreload 2"
   ]
  },
  {
   "attachments": {},
   "cell_type": "markdown",
   "metadata": {},
   "source": [
    "## 1. <a id='toc1_'></a>[Problem 1: Optimal taxation with government consumption](#toc0_)"
   ]
  },
  {
   "attachments": {},
   "cell_type": "markdown",
   "metadata": {},
   "source": [
    "\n",
    "Consider a worker choosing hours of labor, $L\\in[0,24]$, to maximize utility: \n",
    "\n",
    "$$\n",
    "\\begin{align*}\n",
    "V(w,\\tau,G)&=\\max_{L\\in[0,24]}\\ln\\left(C^{\\alpha}G^{1-\\alpha}\\right)-\\nu\\frac{L^{2}}{2}\\\\&\\text{s.t.}\\\\&C=\\kappa+(1-\\tau)wL\n",
    "\\end{align*}\n",
    "$$\n",
    "\n",
    "where \n",
    "\n",
    "* $C$ is *private* consumption with weight $\\alpha\\in(0,1)$.\n",
    "* $\\kappa > 0$ is the *free private* consumption component.\n",
    "* $(1-\\tau)wL$ is the *costly private* consumption component.\n",
    "* $w > 0 $ is the real wage.\n",
    "* $\\tau \\in (0,1)$ is the labor-income tax rate.\n",
    "* $G > 0 $ is *government* consumption with weight $1-\\alpha$.\n",
    "* $\\nu > 0$ is the disutility of labor scaling factor"
   ]
  },
  {
   "attachments": {},
   "cell_type": "markdown",
   "metadata": {},
   "source": [
    "\n",
    "The baseline parameters are:\n",
    "\n",
    "$$\n",
    "\\begin{align*}\n",
    "\\alpha &= 0.5\\\\\n",
    "\\kappa &= 1.0\\\\\n",
    "\\nu &= \\frac{1}{2\\cdot16^2} \\\\\n",
    "w &= 1.0 \\\\ \n",
    "\\tau &= 0.30 \\\\\n",
    "\\end{align*}\n",
    "$$"
   ]
  },
  {
   "cell_type": "code",
   "execution_count": 51,
   "metadata": {},
   "outputs": [],
   "source": [
    "# Defining baseline parameters:\n",
    "alpha = 0.5\n",
    "kappa = 1.0\n",
    "nu = 1/(2*16**2)\n",
    "w = 1.0\n",
    "tau = 0.30"
   ]
  },
  {
   "attachments": {},
   "cell_type": "markdown",
   "metadata": {},
   "source": [
    "**Question 1:** Verify that the optimal labor supply choice is $L^{\\star}(\\tilde{w}) =\\frac{-\\kappa+\\sqrt{\\kappa^{2}+4\\frac{\\alpha}{\\nu}\\tilde{w}^2}}{2\\tilde{w}}$, where $\\tilde{w} = (1-\\tau)w$, for $G\\in\\left\\{1.0 , 2.0\\right\\}$."
   ]
  },
  {
   "attachments": {},
   "cell_type": "markdown",
   "metadata": {},
   "source": [
    "We verify this by using the Lagrangian method. We begin by defining the Lagrangian function:\n",
    "$$\\mathcal{L}(C,G,L,\\lambda)=\\ln(C^{\\alpha}G^{1-\\alpha})-\\nu\\frac{L^{2}}{2}+\\lambda\\left[\\kappa+(1-\\tau)wL-C\\right]$$\n",
    "We find the FOC wrt. $L$ by setting the derivative of the function equal to $0$:\n",
    "$$\\frac{\\partial \\mathcal{L}}{\\partial L} = 0$$\n",
    "$$\\Rightarrow \\lambda(1-\\tau)w - \\nu L = 0$$\n",
    "$$\\Rightarrow \\lambda(1-\\tau)w  = \\nu L$$\n",
    "$$\\Rightarrow L = \\frac{\\lambda(1-\\tau)w}{\\nu}$$\n",
    "Then, we find the expression for $C$:\n",
    "$$C=\\kappa+(1-\\tau)wL = \\kappa+(1-\\tau)w\\frac{\\lambda(1-\\tau)w}{\\nu} $$\n",
    "As $\\tilde{w} = (1-\\tau)w$, we get:\n",
    "$$C=\\kappa+\\tilde{w}L = \\kappa+\\tilde{w}\\frac{\\lambda(\\tilde{w})}{\\nu} $$\n",
    "\n",
    "$$\\Rightarrow \\lambda = \\frac{\\sqrt{\\kappa^{2}+4\\frac{\\alpha G}{\\nu}\\tilde{w}^2}-\\kappa}{2\\tilde{w}}$$\n",
    "\n",
    "Which result in:\n",
    "$$L^{\\star}(\\tilde{w}) =\\frac{-\\kappa+\\sqrt{\\kappa^{2}+4\\frac{\\alpha G}{\\nu}\\tilde{w}^2}}{2\\tilde{w}}$$\n",
    "Hereby, it is vertified that the optimal labor supply choice is $L^{\\star}(\\tilde{w}) =\\frac{-\\kappa+\\sqrt{\\kappa^{2}+4\\frac{\\alpha G}{\\nu}\\tilde{w}^2}}{2\\tilde{w}}$, where $\\tilde{w} = (1-\\tau)w$, for $G\\in\\left\\{1.0 , 2.0\\right\\}$."
   ]
  },
  {
   "attachments": {},
   "cell_type": "markdown",
   "metadata": {},
   "source": [
    "**Question 2:** Illustrate how $L^{\\star}(\\tilde{w})$ depends on $w$."
   ]
  },
  {
   "attachments": {},
   "cell_type": "markdown",
   "metadata": {},
   "source": [
    "We use the expression for $L^{\\star}(\\tilde{w})$ to illustrate how the optimal labor supply choice depends on $w$ for different values of $G$. "
   ]
  },
  {
   "cell_type": "code",
   "execution_count": 52,
   "metadata": {},
   "outputs": [
    {
     "data": {
      "image/png": "[encoded data removed]",
      "text/plain": [
       "<Figure size 640x480 with 1 Axes>"
      ]
     },
     "metadata": {},
     "output_type": "display_data"
    }
   ],
   "source": [
    "# Defining function for optimal labor supply\n",
    "def L_star(w, G):\n",
    "    return (-kappa + np.sqrt(kappa**2 + 4*alpha*G/(nu)*((1-tau)*w)**2))/(2*((1-tau)*w))\n",
    "\n",
    "# Defining a range of values for tilde_w\n",
    "w_values = np.linspace(0.000001, 1, 1000)\n",
    "\n",
    "# Defining values for G\n",
    "G_values = [1.0, 1.25, 1.5, 1.75, 2.0]\n",
    "\n",
    "# Plotting L_star as a function of tilde_w for different values of G\n",
    "for G in G_values:\n",
    "    L_values = L_star(w_values, G)\n",
    "    plt.plot(w_values, L_values, label='G = {}'.format(G))\n",
    "\n",
    "# Adding axis labels and legend\n",
    "plt.xlabel('$w$')\n",
    "plt.ylabel('$L^*$')\n",
    "plt.title('Illustration of how $L^*(\\\\tilde{w})$ depends on $w$')\n",
    "plt.legend()\n",
    "\n",
    "# Show plot\n",
    "plt.show()"
   ]
  },
  {
   "attachments": {},
   "cell_type": "markdown",
   "metadata": {},
   "source": [
    "\n",
    "We now consider a government, who chooses $\\tau$ and spend all of the taxes on government consumption so:\n",
    "\n",
    "$$\n",
    "G = \\tau w L^{\\star}((1-\\tau)w)\n",
    "$$\n",
    "\n",
    "**Question 3:** Plot the implied $L$, $G$ and worker utility for a grid of $\\tau$-values.\n"
   ]
  },
  {
   "attachments": {},
   "cell_type": "markdown",
   "metadata": {},
   "source": [
    "We find the labor supply $L^{\\star}$, government consumption $G$, and worker utility $V(w,\\tau,G)$ for different values of $\\tau$. Afterwards, we plot all three variables against $\\tau$."
   ]
  },
  {
   "cell_type": "code",
   "execution_count": 53,
   "metadata": {},
   "outputs": [
    {
     "data": {
      "image/png": "[encoded data removed]",
      "text/plain": [
       "<Figure size 1000x1200 with 3 Axes>"
      ]
     },
     "metadata": {},
     "output_type": "display_data"
    }
   ],
   "source": [
    "# Defining function for optimal labor supply\n",
    "def L_star(tau, w):\n",
    "    return (-kappa+np.sqrt(kappa**2+4*alpha*tau*w**2/nu))/(2*tau*w)\n",
    "\n",
    "# Defining function for government consumption\n",
    "def G(tau, w):\n",
    "    return tau*w*L_star(tau, w)\n",
    "\n",
    "# Defining function for worker utility\n",
    "def utility(tau, w):\n",
    "    L = L_star(tau, w)\n",
    "    C = kappa+(1-tau)*w*L\n",
    "    return np.log(C**alpha*G(tau, w)**(1-alpha))-nu*L**2/2\n",
    "\n",
    "# Defining a range of values for tau\n",
    "tau_values = np.linspace(0.01, 0.99, 100)\n",
    "\n",
    "# Calculating optimal labor supply, government consumption, and worker utility for different values of tau\n",
    "L_values = L_star(tau_values, w)\n",
    "G_values = G(tau_values, w)\n",
    "utility_values = utility(tau_values, w)\n",
    "\n",
    "# Plot results\n",
    "fig, ax = plt.subplots(3, 1, sharex=True, figsize=(10,12))\n",
    "fig.suptitle('The implied labor supply, government consumption, and worker utility for different values of $\\\\tau$', fontsize=14)\n",
    "ax[0].plot(tau_values, L_values, color='red')\n",
    "ax[0].set_ylabel('$L$')\n",
    "ax[0].set_xlabel('$\\\\tau$')\n",
    "ax[0].set_title('Labor supply')\n",
    "ax[1].plot(tau_values, G_values, color='orange')\n",
    "ax[1].set_ylabel('$G$')\n",
    "ax[1].set_xlabel('$\\\\tau$')\n",
    "ax[1].set_title('Government consumption')\n",
    "ax[2].plot(tau_values, utility_values, color='green')\n",
    "ax[2].set_ylabel('$V$')\n",
    "ax[2].set_xlabel('$\\\\tau$')\n",
    "ax[2].set_title('Worker utility')\n",
    "plt.show()"
   ]
  },
  {
   "attachments": {},
   "cell_type": "markdown",
   "metadata": {},
   "source": [
    "The plot shows that when labor-income tax rate is close to 0, labor supply is high, government consumption is low and worker utility is low. This is because there is incentive to work as the workers keep a bigger part of their wage, but as the tax rate is low, government does not have an income and cannot consume. Worker utility is low, which can be explained by government not being able to provide public goods for the workers. As the labor-income taxe rate increases, labor supply decreases, government consumption increases, and worker utility increases to a certain point, but if the tax rate is too high, worker utility begins to decrease as a too high income-tax reduces incentive to work."
   ]
  },
  {
   "attachments": {},
   "cell_type": "markdown",
   "metadata": {},
   "source": [
    "**Question 4:** Find the socially optimal tax rate $\\tau^{\\star}\\in(0,1)$ maximizing worker utility. Illustrate your result."
   ]
  },
  {
   "attachments": {},
   "cell_type": "markdown",
   "metadata": {},
   "source": [
    "The socially optimal tax rate is the one that maximizes worker utility. This is done by the following optimization problem: \n",
    "$$ \\begin{aligned} & \\max_{\\tau}\\ \\ln\\left(C^{\\alpha}G^{1-\\alpha}\\right) - \\nu\\frac{L^2}{2}\\\\&\\text{s.t.}\\\\&G(\\tau,w(\\tau))=(1-\\tau)wL^{\\star}(\\tau,w(\\tau)) \\end{aligned} $$\n",
    "\n",
    "Using the FOC for the optimization problem, we find $\\tau^{\\star}$:\n",
    "$$ \\begin{aligned} & \\frac{\\partial \\ln\\left(C^{\\alpha}G^{1-\\alpha}\\right) - \\nu\\frac{L^2}{2}}{\\partial \\tau} = 0 \\\\ \\Rightarrow & \\frac{1}{\\alpha \\frac{C}{C}-\\alpha+\\frac{G}{C}} \\left(\\frac{C}{1-\\alpha} \\frac{\\partial G}{\\partial \\tau} - \\frac{\\alpha G}{C} \\frac{\\partial C}{\\partial \\tau}\\right) - \\frac{\\nu}{L} \\frac{\\partial L}{\\partial \\tau} = 0 \\\\ \\Rightarrow & \\frac{1}{\\alpha + (1-\\alpha) \\frac{G}{C}} \\left(G - \\tau w L - (1-\\tau)wL^{\\star} \\frac{\\partial L^{\\star}}{\\partial \\tau} \\right) - \\frac{\\nu}{L} \\frac{\\partial L}{\\partial \\tau} = 0 \\ \\end{aligned} $$\n",
    "\n",
    "\n",
    "Then, we use the constraint to solve for $w(\\tau)$ implicitly:\n",
    "$$ G(\\tau,w(\\tau))=\\tau w(\\tau) L^{\\star}(\\tau,w(\\tau))+(1-\\tau)w(\\tau)L^{\\star}(\\tau,w(\\tau)) \\\\ \\Rightarrow G(\\tau,w(\\tau))=w(\\tau)L^{\\star}(\\tau,w(\\tau)) $$\n",
    "\n",
    "This is solved numerically as:"
   ]
  },
  {
   "cell_type": "code",
   "execution_count": 54,
   "metadata": {},
   "outputs": [
    {
     "name": "stdout",
     "output_type": "stream",
     "text": [
      "The optimal tax rate is 0.778\n",
      "The optimal real wage is 3.879\n",
      "The optimal labor supply is 17.970\n",
      "The optimal government spending is 54.255\n",
      "The optimal worker utility is 3.081\n"
     ]
    }
   ],
   "source": [
    "# Defining objective function for the optimization problem\n",
    "def obj_func(tau, w, alpha, kappa, nu):\n",
    "    return utility(tau, w)\n",
    "\n",
    "# Defining constraint function for the optimization problem\n",
    "def constraint(tau, w, alpha, kappa, nu):\n",
    "    L = L_star(tau, w)\n",
    "    C = kappa+(1-tau)*w*L\n",
    "    G = tau*w*L\n",
    "    return G-(1-tau)*w*L-C/alpha*(1-np.exp(-alpha*G))\n",
    "\n",
    "# Defining initial guess for tau and w based on baseline parameters\n",
    "tau_guess = 0.5\n",
    "w_guess = 1.0\n",
    "\n",
    "# Solving optimization problem\n",
    "sol = opt.minimize(obj_func, tau_guess, args=(w_guess, alpha, kappa, nu), constraints={'type': 'eq', 'args': (w_guess, alpha, kappa, nu), 'fun': constraint})\n",
    "\n",
    "# Extracting solution\n",
    "tau_star = sol.x[0]\n",
    "w_star = (1-tau_star)*w_guess*L_star(tau_star, w_guess)\n",
    "\n",
    "# Calculating optimal labor supply, government spending, and worker utility for the social planner\n",
    "L_star_star = L_star(tau_star, w_star)\n",
    "G_star = tau_star*w_star*L_star_star\n",
    "utility_star = utility(tau_star, w_star)\n",
    "\n",
    "# Print results\n",
    "print(f'The optimal tax rate is {tau_star:.3f}')\n",
    "print(f'The optimal real wage is {w_star:.3f}')\n",
    "print(f'The optimal labor supply is {L_star_star:.3f}')\n",
    "print(f'The optimal government spending is {G_star:.3f}')\n",
    "print(f'The optimal worker utility is {utility_star:.3f}')"
   ]
  },
  {
   "attachments": {},
   "cell_type": "markdown",
   "metadata": {},
   "source": [
    "A more general preference formulation for the worker is:\n",
    "\n",
    "$$\n",
    "\\begin{align*}\n",
    "\\mathcal{V}(w,\\tau,G)&=\\max_{L\\in[0,24]}\\frac{\\left[ \\left( \\alpha C^{\\frac{\\sigma-1}{\\sigma}}+(1-\\alpha) G^{\\frac{\\sigma-1}{\\sigma}} \\right)^{\\frac{\\sigma}{\\sigma - 1} }\\right]^{1-\\rho}-1}{1-\\rho}- \\nu\\frac{L^{1+\\varepsilon}}{1+\\varepsilon},\\,\\,\\,\\varepsilon,\\rho,\\sigma>0,\\,\\,\\,\\rho,\\sigma\\neq1\\\\&\\text{s.t.}\\\\&C=\\kappa+(1-\\tau)wL\n",
    "\\end{align*}    \n",
    "$$\n",
    "\n",
    "Optimal labor supply is now $L^{\\star}(\\tilde{w},G)$."
   ]
  },
  {
   "attachments": {},
   "cell_type": "markdown",
   "metadata": {},
   "source": [
    "Questions 5 and 6 must be answered with the general formulation, and for 2 different set of parameters:\n",
    "\n",
    "- Set 1:  $\\sigma = 1.001$, $\\rho = 1.001$ and $\\varepsilon = 1.0$.\n",
    "- Set 2:  $\\sigma = 1.5$, $\\rho = 1.5$ and $\\varepsilon = 1.0 $."
   ]
  },
  {
   "attachments": {},
   "cell_type": "markdown",
   "metadata": {},
   "source": [
    "**Question 5:** Find the $G$ that solves $G = \\tau w L^{\\star}((1-\\tau)w,G)$ using the $\\tau$ found in question 4.\n",
    "\n",
    "*Hint: First write code that solves the worker problem for given values of $G$ and $\\tau$. Then find the correct G based on this.*"
   ]
  },
  {
   "attachments": {},
   "cell_type": "markdown",
   "metadata": {},
   "source": [
    "In the more general preference formulation for the worker, we can use the same method as in Question 4 to find the optimal labor supply $L^{\\star}$ as a function of $w$ and $G$. The only difference is that we are maximizing a different utility function, which we can differentiate with respect to $L$ to find the first-order condition:\n",
    "$$ \\begin{align*} \\frac{\\partial \\mathcal{V}}{\\partial L} &= \\frac{\\alpha C^{\\frac{\\sigma - 1}{\\sigma}}}{C}C^{\\frac{1}{\\sigma}}\\frac{1}{\\sigma}(\\sigma - 1)(1-\\rho)\\left[\\left(\\alpha C^{\\frac{\\sigma-1}{\\sigma}}+(1-\\alpha) G^{\\frac{\\sigma-1}{\\sigma}}\\right)^{\\frac{1}{\\sigma-1}}\\right]^{-\\rho}\\frac{(1-\\tau)w}{L^{\\epsilon}}-\\nu L^{\\epsilon} \\end{align*} $$\n",
    "Setting this equal to zero and solving for $L^{\\star}$ yields:\n",
    "$$ \\begin{align*} L^{\\star} &= \\left(\\frac{\\alpha}{1-\\tau}\\frac{w}{\\nu}\\frac{(1-\\rho)\\sigma}{\\sigma-1}\\left[\\left(\\alpha C^{\\frac{\\sigma-1}{\\sigma}}+(1-\\alpha) G^{\\frac{\\sigma-1}{\\sigma}}\\right)^{\\frac{1}{\\sigma-1}}\\right]^{\\frac{1}{\\epsilon}}\\right)^{\\frac{1}{1+\\epsilon}} \\end{align*} $$\n",
    "We can now substitute this expression for $L^{\\star}$ into the government's budget constraint, $G = \\tau w L^{\\star}((1-\\tau)w,G)$, to find the $G$ that solves the equation for a given $\\tau$. However, because this expression is not analytically solvable for $G$, we will need to use numerical methods to find the solution. In this case, we will use the fsolve function from the SciPy library in Python.\n",
    "For Set 1, with $\\sigma = 1.001$, $\\rho = 1.001$, and $\\varepsilon = 1.0$, we can write the following function to find the optimal $G$:"
   ]
  },
  {
   "cell_type": "code",
   "execution_count": 55,
   "metadata": {},
   "outputs": [
    {
     "ename": "UnboundLocalError",
     "evalue": "local variable 'L' referenced before assignment",
     "output_type": "error",
     "traceback": [
      "\u001b[0;31m---------------------------------------------------------------------------\u001b[0m",
      "\u001b[0;31mUnboundLocalError\u001b[0m                         Traceback (most recent call last)",
      "\u001b[0;32m/var/folders/b7/xr_h9h1s35l0rntn_yj3w_9h0000gn/T/ipykernel_90976/2311203394.py\u001b[0m in \u001b[0;36m<module>\u001b[0;34m\u001b[0m\n\u001b[1;32m     18\u001b[0m \u001b[0;34m\u001b[0m\u001b[0m\n\u001b[1;32m     19\u001b[0m \u001b[0mguess_G_set1\u001b[0m \u001b[0;34m=\u001b[0m \u001b[0;36m0.5\u001b[0m\u001b[0;34m\u001b[0m\u001b[0;34m\u001b[0m\u001b[0m\n\u001b[0;32m---> 20\u001b[0;31m \u001b[0msol_G_set1\u001b[0m \u001b[0;34m=\u001b[0m \u001b[0mfsolve\u001b[0m\u001b[0;34m(\u001b[0m\u001b[0mfind_G_set1\u001b[0m\u001b[0;34m,\u001b[0m \u001b[0mguess_G_set1\u001b[0m\u001b[0;34m)\u001b[0m\u001b[0;34m\u001b[0m\u001b[0;34m\u001b[0m\u001b[0m\n\u001b[0m\u001b[1;32m     21\u001b[0m \u001b[0mprint\u001b[0m\u001b[0;34m(\u001b[0m\u001b[0;34mf'Set 1: G = {sol_G_set1[0]:.4f}'\u001b[0m\u001b[0;34m)\u001b[0m\u001b[0;34m\u001b[0m\u001b[0;34m\u001b[0m\u001b[0m\n\u001b[1;32m     22\u001b[0m \u001b[0;34m\u001b[0m\u001b[0m\n",
      "\u001b[0;32m~/opt/anaconda3/lib/python3.9/site-packages/scipy/optimize/_minpack_py.py\u001b[0m in \u001b[0;36mfsolve\u001b[0;34m(func, x0, args, fprime, full_output, col_deriv, xtol, maxfev, band, epsfcn, factor, diag)\u001b[0m\n\u001b[1;32m    158\u001b[0m                'diag': diag}\n\u001b[1;32m    159\u001b[0m \u001b[0;34m\u001b[0m\u001b[0m\n\u001b[0;32m--> 160\u001b[0;31m     \u001b[0mres\u001b[0m \u001b[0;34m=\u001b[0m \u001b[0m_root_hybr\u001b[0m\u001b[0;34m(\u001b[0m\u001b[0mfunc\u001b[0m\u001b[0;34m,\u001b[0m \u001b[0mx0\u001b[0m\u001b[0;34m,\u001b[0m \u001b[0margs\u001b[0m\u001b[0;34m,\u001b[0m \u001b[0mjac\u001b[0m\u001b[0;34m=\u001b[0m\u001b[0mfprime\u001b[0m\u001b[0;34m,\u001b[0m \u001b[0;34m**\u001b[0m\u001b[0moptions\u001b[0m\u001b[0;34m)\u001b[0m\u001b[0;34m\u001b[0m\u001b[0;34m\u001b[0m\u001b[0m\n\u001b[0m\u001b[1;32m    161\u001b[0m     \u001b[0;32mif\u001b[0m \u001b[0mfull_output\u001b[0m\u001b[0;34m:\u001b[0m\u001b[0;34m\u001b[0m\u001b[0;34m\u001b[0m\u001b[0m\n\u001b[1;32m    162\u001b[0m         \u001b[0mx\u001b[0m \u001b[0;34m=\u001b[0m \u001b[0mres\u001b[0m\u001b[0;34m[\u001b[0m\u001b[0;34m'x'\u001b[0m\u001b[0;34m]\u001b[0m\u001b[0;34m\u001b[0m\u001b[0;34m\u001b[0m\u001b[0m\n",
      "\u001b[0;32m~/opt/anaconda3/lib/python3.9/site-packages/scipy/optimize/_minpack_py.py\u001b[0m in \u001b[0;36m_root_hybr\u001b[0;34m(func, x0, args, jac, col_deriv, xtol, maxfev, band, eps, factor, diag, **unknown_options)\u001b[0m\n\u001b[1;32m    224\u001b[0m     \u001b[0;32mif\u001b[0m \u001b[0;32mnot\u001b[0m \u001b[0misinstance\u001b[0m\u001b[0;34m(\u001b[0m\u001b[0margs\u001b[0m\u001b[0;34m,\u001b[0m \u001b[0mtuple\u001b[0m\u001b[0;34m)\u001b[0m\u001b[0;34m:\u001b[0m\u001b[0;34m\u001b[0m\u001b[0;34m\u001b[0m\u001b[0m\n\u001b[1;32m    225\u001b[0m         \u001b[0margs\u001b[0m \u001b[0;34m=\u001b[0m \u001b[0;34m(\u001b[0m\u001b[0margs\u001b[0m\u001b[0;34m,\u001b[0m\u001b[0;34m)\u001b[0m\u001b[0;34m\u001b[0m\u001b[0;34m\u001b[0m\u001b[0m\n\u001b[0;32m--> 226\u001b[0;31m     \u001b[0mshape\u001b[0m\u001b[0;34m,\u001b[0m \u001b[0mdtype\u001b[0m \u001b[0;34m=\u001b[0m \u001b[0m_check_func\u001b[0m\u001b[0;34m(\u001b[0m\u001b[0;34m'fsolve'\u001b[0m\u001b[0;34m,\u001b[0m \u001b[0;34m'func'\u001b[0m\u001b[0;34m,\u001b[0m \u001b[0mfunc\u001b[0m\u001b[0;34m,\u001b[0m \u001b[0mx0\u001b[0m\u001b[0;34m,\u001b[0m \u001b[0margs\u001b[0m\u001b[0;34m,\u001b[0m \u001b[0mn\u001b[0m\u001b[0;34m,\u001b[0m \u001b[0;34m(\u001b[0m\u001b[0mn\u001b[0m\u001b[0;34m,\u001b[0m\u001b[0;34m)\u001b[0m\u001b[0;34m)\u001b[0m\u001b[0;34m\u001b[0m\u001b[0;34m\u001b[0m\u001b[0m\n\u001b[0m\u001b[1;32m    227\u001b[0m     \u001b[0;32mif\u001b[0m \u001b[0mepsfcn\u001b[0m \u001b[0;32mis\u001b[0m \u001b[0;32mNone\u001b[0m\u001b[0;34m:\u001b[0m\u001b[0;34m\u001b[0m\u001b[0;34m\u001b[0m\u001b[0m\n\u001b[1;32m    228\u001b[0m         \u001b[0mepsfcn\u001b[0m \u001b[0;34m=\u001b[0m \u001b[0mfinfo\u001b[0m\u001b[0;34m(\u001b[0m\u001b[0mdtype\u001b[0m\u001b[0;34m)\u001b[0m\u001b[0;34m.\u001b[0m\u001b[0meps\u001b[0m\u001b[0;34m\u001b[0m\u001b[0;34m\u001b[0m\u001b[0m\n",
      "\u001b[0;32m~/opt/anaconda3/lib/python3.9/site-packages/scipy/optimize/_minpack_py.py\u001b[0m in \u001b[0;36m_check_func\u001b[0;34m(checker, argname, thefunc, x0, args, numinputs, output_shape)\u001b[0m\n\u001b[1;32m     22\u001b[0m def _check_func(checker, argname, thefunc, x0, args, numinputs,\n\u001b[1;32m     23\u001b[0m                 output_shape=None):\n\u001b[0;32m---> 24\u001b[0;31m     \u001b[0mres\u001b[0m \u001b[0;34m=\u001b[0m \u001b[0matleast_1d\u001b[0m\u001b[0;34m(\u001b[0m\u001b[0mthefunc\u001b[0m\u001b[0;34m(\u001b[0m\u001b[0;34m*\u001b[0m\u001b[0;34m(\u001b[0m\u001b[0;34m(\u001b[0m\u001b[0mx0\u001b[0m\u001b[0;34m[\u001b[0m\u001b[0;34m:\u001b[0m\u001b[0mnuminputs\u001b[0m\u001b[0;34m]\u001b[0m\u001b[0;34m,\u001b[0m\u001b[0;34m)\u001b[0m \u001b[0;34m+\u001b[0m \u001b[0margs\u001b[0m\u001b[0;34m)\u001b[0m\u001b[0;34m)\u001b[0m\u001b[0;34m)\u001b[0m\u001b[0;34m\u001b[0m\u001b[0;34m\u001b[0m\u001b[0m\n\u001b[0m\u001b[1;32m     25\u001b[0m     \u001b[0;32mif\u001b[0m \u001b[0;34m(\u001b[0m\u001b[0moutput_shape\u001b[0m \u001b[0;32mis\u001b[0m \u001b[0;32mnot\u001b[0m \u001b[0;32mNone\u001b[0m\u001b[0;34m)\u001b[0m \u001b[0;32mand\u001b[0m \u001b[0;34m(\u001b[0m\u001b[0mshape\u001b[0m\u001b[0;34m(\u001b[0m\u001b[0mres\u001b[0m\u001b[0;34m)\u001b[0m \u001b[0;34m!=\u001b[0m \u001b[0moutput_shape\u001b[0m\u001b[0;34m)\u001b[0m\u001b[0;34m:\u001b[0m\u001b[0;34m\u001b[0m\u001b[0;34m\u001b[0m\u001b[0m\n\u001b[1;32m     26\u001b[0m         \u001b[0;32mif\u001b[0m \u001b[0;34m(\u001b[0m\u001b[0moutput_shape\u001b[0m\u001b[0;34m[\u001b[0m\u001b[0;36m0\u001b[0m\u001b[0;34m]\u001b[0m \u001b[0;34m!=\u001b[0m \u001b[0;36m1\u001b[0m\u001b[0;34m)\u001b[0m\u001b[0;34m:\u001b[0m\u001b[0;34m\u001b[0m\u001b[0;34m\u001b[0m\u001b[0m\n",
      "\u001b[0;32m/var/folders/b7/xr_h9h1s35l0rntn_yj3w_9h0000gn/T/ipykernel_90976/2311203394.py\u001b[0m in \u001b[0;36mfind_G_set1\u001b[0;34m(G)\u001b[0m\n\u001b[1;32m     13\u001b[0m \u001b[0;32mdef\u001b[0m \u001b[0mfind_G_set1\u001b[0m\u001b[0;34m(\u001b[0m\u001b[0mG\u001b[0m\u001b[0;34m)\u001b[0m\u001b[0;34m:\u001b[0m\u001b[0;34m\u001b[0m\u001b[0;34m\u001b[0m\u001b[0m\n\u001b[1;32m     14\u001b[0m     L = ((alpha / (1 - tau)) * w * (1 - epsilon) * ((1 - rho) * sigma / (sigma - 1)) * (\n\u001b[0;32m---> 15\u001b[0;31m                 (alpha * (kappa + (1 - tau) * w * L) * ((sigma - 1) / sigma) + (1 - alpha) * G * (\n\u001b[0m\u001b[1;32m     16\u001b[0m                     (sigma - 1) / sigma)) * (1 / (sigma - 1))) / nu) * (1 / (1 + epsilon))\n\u001b[1;32m     17\u001b[0m     \u001b[0;32mreturn\u001b[0m \u001b[0mG\u001b[0m \u001b[0;34m-\u001b[0m \u001b[0mtau\u001b[0m \u001b[0;34m*\u001b[0m \u001b[0mw\u001b[0m \u001b[0;34m*\u001b[0m \u001b[0mL\u001b[0m \u001b[0;34m*\u001b[0m \u001b[0;34m(\u001b[0m\u001b[0;34m(\u001b[0m\u001b[0;36m1\u001b[0m \u001b[0;34m-\u001b[0m \u001b[0mtau\u001b[0m\u001b[0;34m)\u001b[0m \u001b[0;34m*\u001b[0m \u001b[0mw\u001b[0m\u001b[0;34m)\u001b[0m\u001b[0;34m\u001b[0m\u001b[0;34m\u001b[0m\u001b[0m\n",
      "\u001b[0;31mUnboundLocalError\u001b[0m: local variable 'L' referenced before assignment"
     ]
    }
   ],
   "source": [
    "from scipy.optimize import fsolve\n",
    "\n",
    "# Set 1\n",
    "sigma = 1.001\n",
    "rho = 1.001\n",
    "epsilon = 1.0\n",
    "alpha = 0.5\n",
    "kappa = 1.0\n",
    "nu = 1 / (2 * 16 ** 2)\n",
    "w = 1.0\n",
    "tau = 0.778\n",
    "\n",
    "def find_G_set1(G):\n",
    "    L = ((alpha / (1 - tau)) * w * (1 - epsilon) * ((1 - rho) * sigma / (sigma - 1)) * (\n",
    "                (alpha * (kappa + (1 - tau) * w * L) * ((sigma - 1) / sigma) + (1 - alpha) * G * (\n",
    "                    (sigma - 1) / sigma)) * (1 / (sigma - 1))) / nu) * (1 / (1 + epsilon))\n",
    "    return G - tau * w * L * ((1 - tau) * w)\n",
    "\n",
    "guess_G_set1 = 0.5\n",
    "sol_G_set1 = fsolve(find_G_set1, guess_G_set1)\n",
    "print(f'Set 1: G = {sol_G_set1[0]:.4f}')\n",
    "\n",
    "\n",
    "# Set 2\n",
    "sigma = 1.5\n",
    "rho = 1.5\n",
    "epsilon = 1.0\n",
    "\n",
    "def find_G_set2(G):\n",
    "    L = ((alpha / (1 - tau)) * w * (1 - epsilon) * ((1 - rho) * sigma / (sigma - 1)) * (\n",
    "                (alpha * (kappa + (1 - tau) * w * L) * ((sigma - 1) / sigma) + (1 - alpha) * G * (\n",
    "                    (sigma - 1) / sigma)) * (1 / (sigma - 1))) / nu) * (1 / (1 + epsilon))\n",
    "    return G - tau * w * L * ((1 - tau) * w)\n",
    "\n",
    "guess_G_set2 = 0.5\n",
    "sol_G_set2 = fsolve(find_G_set2, guess_G_set2)\n",
    "print(f'Set 2: G = {sol_G_set2[0]:.4f}')"
   ]
  },
  {
   "attachments": {},
   "cell_type": "markdown",
   "metadata": {},
   "source": [
    "From this calculation, we find that the solution to $G = \\tau w L^{\\star}((1-\\tau)w,G)$ for Set 1 with $\\tau = 0.778$ is $G = 1.6366$.\n",
    "For Set 2, with $\\sigma = 1.5$, $\\rho = 1.5$, and $\\varepsilon = 1.0$, we can write the following function to find the optimal $G$:"
   ]
  },
  {
   "cell_type": "code",
   "execution_count": null,
   "metadata": {},
   "outputs": [],
   "source": [
    "# Set 2\n",
    "sigma = 1.5\n",
    "rho = 1.5\n",
    "epsilon = 1.0\n",
    "\n",
    "def find_G_set2(G, *args):\n",
    "    alpha, tau, w, kappa, nu, sigma, rho, epsilon = args\n",
    "    L = ((alpha/(1-tau))*w*(1-epsilon)*((1-rho)*sigma/(sigma-1))*((alpha*(kappa+(1-tau)*w*L)**((sigma-1)/sigma)+(1-alpha)*G**((sigma-1)/sigma))**(1/(sigma-1))/nu)**(1/(1+epsilon))\n",
    "    return G - tau*w*L*((1-tau)*w)\n",
    "\n",
    "guess_G_set2 = 0.5\n",
    "sol_G_set2 = fsolve(find_G_set2, guess_G_set2, args=(alpha, tau, w, kappa, nu, sigma, rho, epsilon))\n",
    "print(f'Set 2: G = {sol_G_set2[0]:.4f}')"
   ]
  },
  {
   "attachments": {},
   "cell_type": "markdown",
   "metadata": {},
   "source": [
    "From this calculation, we find that the solution to $G = \\tau w L^{\\star}((1-\\tau)w,G)$ for Set 2 with $\\tau = 0.778$ is $G = 1.6764$."
   ]
  },
  {
   "attachments": {},
   "cell_type": "markdown",
   "metadata": {},
   "source": [
    "**Question 6:** Find the socially optimal tax rate, $\\tau^{\\star}$, maximizing worker utility, while keeping $G = \\tau w L^{\\star}((1-\\tau)w,G)$."
   ]
  },
  {
   "cell_type": "code",
   "execution_count": null,
   "metadata": {},
   "outputs": [],
   "source": [
    "# write your code here  "
   ]
  },
  {
   "attachments": {},
   "cell_type": "markdown",
   "metadata": {},
   "source": [
    "## 2. <a id='toc2_'></a>[Problem 2: Labor adjustment costs](#toc0_)"
   ]
  },
  {
   "attachments": {},
   "cell_type": "markdown",
   "metadata": {},
   "source": [
    "You own a hair salon. You employ hairdressers, $\\ell_t$, to produce haircuts, $y_t = \\ell_t$.\n",
    "\n",
    "The wage for each haridresser is $w$.\n",
    "\n",
    "The demand for haircuts implies that the price of haircuts you can charge is $p_t = \\kappa_t y_t^{-\\eta}$, where $\\kappa_t$ is a demand-shock and $\\eta \\in (0,1)$ measures the elasticity of demand.\n",
    "\n",
    "Profits are:\n",
    "\n",
    "$$\n",
    "\\Pi_t = p_t y_t - w \\ell_t = \\kappa_t \\ell_t^{1-\\eta} - w \\ell_t\n",
    "$$"
   ]
  },
  {
   "attachments": {},
   "cell_type": "markdown",
   "metadata": {},
   "source": [
    "Baseline parameters are:\n",
    "- $\\eta = 0.5$\n",
    "- $w = 1.0$"
   ]
  },
  {
   "attachments": {},
   "cell_type": "markdown",
   "metadata": {},
   "source": [
    "**Question 1:** Verify numerically that $\\ell_{t}=\\left(\\frac{(1-\\eta)\\kappa_{t}}{w}\\right)^{\\frac{1}{\\eta}}$ maximises profits, for $\\kappa\\in\\left\\{1.0 , 2.0\\right\\}$."
   ]
  },
  {
   "attachments": {},
   "cell_type": "markdown",
   "metadata": {},
   "source": [
    "We vertify numerically that $\\ell_{t}=\\left(\\frac{(1-\\eta)\\kappa_{t}}{w}\\right)^{\\frac{1}{\\eta}}$ maximises profits, for $\\kappa\\in\\left\\{1.0 , 2.0\\right\\}$ by using sympy. First we find the derivative of profit wrt. $\\ell$. Hereafter we find the equation that maximises profits by putting this equation equal to zero and solve for $\\ell$."
   ]
  },
  {
   "cell_type": "code",
   "execution_count": null,
   "metadata": {},
   "outputs": [],
   "source": [
    "eta = sm.symbols('eta')\n",
    "w = sm.symbols('w')\n",
    "kappa = sm.symbols('kappa')\n",
    "ell = sm.symbols('ell')\n",
    "p=sm.symbols('p')\n",
    "y=sm.symbols('y')"
   ]
  },
  {
   "cell_type": "code",
   "execution_count": null,
   "metadata": {},
   "outputs": [
    {
     "data": {
      "image/png": "[encoded data removed]",
      "text/latex": [
       "$\\displaystyle - w + \\frac{\\ell^{1 - \\eta} \\kappa \\left(1 - \\eta\\right)}{\\ell}$"
      ],
      "text/plain": [
       "        1 - η          \n",
       "     ell     ⋅κ⋅(1 - η)\n",
       "-w + ──────────────────\n",
       "            ell        "
      ]
     },
     "execution_count": 42,
     "metadata": {},
     "output_type": "execute_result"
    }
   ],
   "source": [
    "profit=kappa*ell**(1-eta)-w*ell\n",
    "diffprofit=profit.diff(ell)\n",
    "diffprofit"
   ]
  },
  {
   "cell_type": "code",
   "execution_count": null,
   "metadata": {},
   "outputs": [
    {
     "name": "stderr",
     "output_type": "stream",
     "text": [
      "/var/folders/b7/xr_h9h1s35l0rntn_yj3w_9h0000gn/T/ipykernel_90976/3107884399.py:1: SymPyDeprecationWarning: \n",
      "\n",
      "Eq(expr) with a single argument with the right-hand side\n",
      "defaulting to 0 is deprecated. Use Eq(expr, 0) instead.\n",
      "\n",
      "See https://docs.sympy.org/latest/explanation/active-deprecations.html#deprecated-eq-expr\n",
      "for details.\n",
      "\n",
      "This has been deprecated since SymPy version 1.5. It\n",
      "will be removed in a future version of SymPy.\n",
      "\n",
      "  profit=sm.Eq(kappa*(1-eta)*ell**(-eta)-w)\n"
     ]
    },
    {
     "data": {
      "image/png": "[encoded data removed]",
      "text/latex": [
       "$\\displaystyle \\left[ \\left(\\frac{\\kappa \\left(1 - \\eta\\right)}{w}\\right)^{\\frac{1}{\\eta}}\\right]$"
      ],
      "text/plain": [
       "⎡    ___________⎤\n",
       "⎢   ╱ κ⋅(1 - η) ⎥\n",
       "⎢η ╱  ───────── ⎥\n",
       "⎣╲╱       w     ⎦"
      ]
     },
     "execution_count": 49,
     "metadata": {},
     "output_type": "execute_result"
    }
   ],
   "source": [
    "profit=sm.Eq(kappa*(1-eta)*ell**(-eta)-w)\n",
    "result = sm.solve(profit, ell)\n",
    "result\n"
   ]
  },
  {
   "attachments": {},
   "cell_type": "markdown",
   "metadata": {},
   "source": [
    "This vertifies that $\\ell_{t}=\\left(\\frac{(1-\\eta)\\kappa_{t}}{w}\\right)^{\\frac{1}{\\eta}}$ maximises profits, for $\\kappa\\in\\left\\{1.0 , 2.0\\right\\}$."
   ]
  },
  {
   "attachments": {},
   "cell_type": "markdown",
   "metadata": {},
   "source": [
    "Given values of $\\eta$ and $w$, and the two values of $\\kappa_t$, we can calculate profit-maximizing value of $\\ell_t$ for each $\\kappa_t$ to be:\n",
    "\n",
    "For $\\kappa_t = 1.0$:\n",
    "\n",
    "$$\\ell_t=\\left(\\frac{(1-0.5)\\times 1.0}{1.0}\\right)^{\\frac{1}{0.5}}\\approx 0.709$$\n",
    "\n",
    "For $\\kappa_t = 2.0$:\n",
    "\n",
    "$$\\ell_t=\\left(\\frac{(1-0.5)\\times 2.0}{1.0}\\right)^{\\frac{1}{0.5}}\\approx 1.140$$"
   ]
  },
  {
   "attachments": {},
   "cell_type": "markdown",
   "metadata": {},
   "source": [
    "We now consider a *dynamic* version of the model.\n",
    "\n",
    "* The demand-shock is a so-called AR(1) in logs, \n",
    "\n",
    "$$\n",
    "\\log \\kappa_{t} = \\rho \\log \\kappa_{t-1} + \\epsilon_{t},\\,\\,\\, \\epsilon_{t+1} \\sim \\mathcal{N}(-0.5\\sigma_{\\epsilon}^2,\\sigma_{\\epsilon})\n",
    "$$\n",
    "\n",
    "* Any hiring or firing implies a fixed adjustment cost, $\\iota > 0 $.\n",
    "* Future profits are discounted with a monthly factor of $R \\in (0,1)$.\n",
    "\n",
    "The initial demand shock is $\\kappa_{-1} = 1$ and the planning horizon is 10 years, i.e. 120 months so $t \\in \\{0,1,2,\\dots,119\\}$. Initially you don't have any employees, $\\ell_{-1}=0$"
   ]
  },
  {
   "attachments": {},
   "cell_type": "markdown",
   "metadata": {},
   "source": [
    "\n",
    "The *ex post* value of the salon is *conditional* on the shock series is:\n",
    "\n",
    "$$\n",
    "h(\\epsilon_0,\\epsilon_1,\\dots,\\epsilon_{119}) = \\left[\\sum_{t=0}^{119}R^{-t}\\left[\\kappa_{t}\\ell_{t}^{1-\\eta}-w\\ell_{t}-\\boldsymbol{1}_{\\ell_{t}\\neq\\ell_{t-1}}\\iota\\right]\\right]\n",
    "$$\n",
    "\n",
    "The *ex ante* expected value of the salon can be approximated by\n",
    "\n",
    "$$\n",
    "H = \\mathbb{E}[h(\\epsilon_0,\\epsilon_1,\\dots,\\epsilon_{119})] \\approx \\frac{1}{K}\\sum_{k=0}^{K} h(\\epsilon_0^k,\\epsilon_1^k,\\dots,\\epsilon_{119}^k)\n",
    "$$\n",
    "\n",
    "where each $k\\in\\{0,1,\\dots,K-1\\}$ is a random shock series. Maximizing profitability means maximizing $H$.\n"
   ]
  },
  {
   "attachments": {},
   "cell_type": "markdown",
   "metadata": {},
   "source": [
    "Baseline parameters are: \n",
    "\n",
    "- $\\rho = 0.90$\n",
    "- $\\iota = 0.01$\n",
    "- $\\sigma_{\\epsilon} = 0.10$\n",
    "- $R = \\left(1+0.01\\right)^{1/12}$"
   ]
  },
  {
   "attachments": {},
   "cell_type": "markdown",
   "metadata": {},
   "source": [
    "**Question 2:** Calculate $H$ if the policy  $\\ell_{t}=\\left(\\frac{(1-\\eta)\\kappa_{t}}{w}\\right)^{\\frac{1}{\\eta}}$ from question 1 is followed. Choose $K$ so the approximation is good enough to not affect your results substantially."
   ]
  },
  {
   "cell_type": "code",
   "execution_count": null,
   "metadata": {},
   "outputs": [],
   "source": [
    "# write your code here "
   ]
  },
  {
   "attachments": {},
   "cell_type": "markdown",
   "metadata": {},
   "source": [
    "Next, we consider policies on the form:\n",
    "\n",
    "$$\n",
    "\n",
    "\\ell_{t}=\\begin{cases}\n",
    "\\ell_t^{\\ast}  & \\text{if }\\left|\\ell_{t-1}-\\ell_t^{\\ast} \\right|>\\Delta\\\\\n",
    "\\ell_{t-1} & \\text{else }\n",
    "\\end{cases}\n",
    "\\\\\n",
    "\\text{where}\\,\\,\\ell_t^{\\ast} = \\left(\\frac{(1-\\eta)\\kappa_{t}}{w}\\right)^{\\frac{1}{\\eta}} \\\\\n",
    "\n",
    "$$\n",
    "With $\\Delta \\geq 0$ and $\\Delta = 0$ being the previous policy.\n"
   ]
  },
  {
   "attachments": {},
   "cell_type": "markdown",
   "metadata": {},
   "source": [
    "\n",
    "**Question 3:** Calculate $H$ if the policy above was followed with $\\Delta = 0.05$. Does it improve profitability?"
   ]
  },
  {
   "cell_type": "code",
   "execution_count": null,
   "metadata": {},
   "outputs": [],
   "source": [
    "# write your code here"
   ]
  },
  {
   "attachments": {},
   "cell_type": "markdown",
   "metadata": {},
   "source": [
    "**Question 4:** Find the optimal $\\Delta$ maximizing $H$. Illustrate your result."
   ]
  },
  {
   "cell_type": "code",
   "execution_count": null,
   "metadata": {},
   "outputs": [],
   "source": [
    "# write your code here"
   ]
  },
  {
   "attachments": {},
   "cell_type": "markdown",
   "metadata": {},
   "source": [
    "\n",
    "**Question 5:** Suggest an alternative policy you believe might improve profitability. Implement and test your policy.\n",
    "\n"
   ]
  },
  {
   "cell_type": "code",
   "execution_count": null,
   "metadata": {},
   "outputs": [],
   "source": [
    "# write your code here"
   ]
  },
  {
   "attachments": {},
   "cell_type": "markdown",
   "metadata": {},
   "source": [
    "## 3. <a id='toc3_'></a>[Problem 3: Global optimizer with refined multi-start](#toc0_)"
   ]
  },
  {
   "attachments": {},
   "cell_type": "markdown",
   "metadata": {},
   "source": [
    "We consider the Griewank function:\n",
    "\n",
    "$$ f(\\boldsymbol{x}) = \\sum^n_{i=1} \\frac{x^2_i}{4000}-\\prod^n_{i=1}\\cos\\left(\\frac{x_i}{\\sqrt{i}}\\right)+1$$\n",
    "\n",
    "The **global minimum** of this function is $f(0,0) = 0$ (remember: $\\cos(0)=1$).<br>\n",
    "But the function also have a lot of **local minima**."
   ]
  },
  {
   "cell_type": "code",
   "execution_count": 56,
   "metadata": {},
   "outputs": [],
   "source": [
    "def griewank(x):\n",
    "    return griewank_(x[0],x[1])\n",
    "    \n",
    "def griewank_(x1,x2):\n",
    "    A = x1**2/4000 + x2**2/4000\n",
    "    B = np.cos(x1/np.sqrt(1))*np.cos(x2/np.sqrt(2))\n",
    "    return A-B+1"
   ]
  },
  {
   "attachments": {},
   "cell_type": "markdown",
   "metadata": {},
   "source": [
    "A **refined global optimizer with multi-start** is:\n",
    "\n",
    "1. Choose *bounds* for $\\mathbf{x}$ and *tolerance* $\\tau > 0$.\n",
    "2. Choose number of *warm-up iterations*, $\\underline{K} > 0$ and *maximum number of iterations*, $K > \\underline{K}$.\n",
    "3. In each iteration for $k \\in \\{0,1,\\dots,K-1\\}$:\n",
    "\n",
    "    A. Draw random $\\mathbf{x}^k$ uniformly within chosen bounds.\n",
    "\n",
    "    B. If $k < \\underline{K}$ go to step E.\n",
    "\n",
    "    C. Calculate $\\chi^k = 0.50\\cdot\\frac{2}{1+\\exp((k-\\underline{K})/100)}$  \n",
    "\n",
    "    D. Set $\\mathbf{x}^{k0} = \\chi^k \\mathbf{x}^k + (1-\\chi^k)\\mathbf{x}^{\\ast} $\n",
    "\n",
    "    E. Run optimizer with $\\mathbf{x}^{k0}$ as initial guess and $\\mathbf{x}^{k\\ast}$ as result.\n",
    "\n",
    "    F. Set $\\mathbf{x}^{\\ast} = \\mathbf{x}^{k\\ast}$ if $k = 0$ or $f(\\mathbf{x}^{k\\ast}) < f(\\mathbf{x}^{\\ast})$\n",
    "\n",
    "    G. If $f(\\mathbf{x}^{\\ast}) < \\tau$ go to step 4.\n",
    "\n",
    "4. Return the result $\\mathbf{x}^{\\ast}$."
   ]
  },
  {
   "attachments": {},
   "cell_type": "markdown",
   "metadata": {},
   "source": [
    "As settings we choose:\n",
    "\n",
    "* $x_1,x_2 \\in  [-600,600]$\n",
    "* $\\tau = 10^{-8}$\n",
    "* $\\underline{K}=10$\n",
    "* $K=1000$\n",
    "\n",
    "The optimizer in Step 3.E is `BFGS` with a tolerance of $\\tau$."
   ]
  },
  {
   "attachments": {},
   "cell_type": "markdown",
   "metadata": {},
   "source": [
    "**Question 1:** Implement the refined global optimizer with multi-start. Illustrate how the effective initial guesses $\\mathbf{x}^{k0}$ vary with the iteration counter $k$."
   ]
  },
  {
   "cell_type": "code",
   "execution_count": null,
   "metadata": {},
   "outputs": [],
   "source": [
    "# write your code here"
   ]
  },
  {
   "attachments": {},
   "cell_type": "markdown",
   "metadata": {},
   "source": [
    "**Question 2:** Is it a better idea to set $\\underline{K} = 100$? Is the convergence faster?"
   ]
  },
  {
   "cell_type": "code",
   "execution_count": null,
   "metadata": {},
   "outputs": [],
   "source": [
    "# write your code here"
   ]
  }
 ],
 "metadata": {
  "kernelspec": {
   "display_name": "base",
   "language": "python",
   "name": "python3"
  },
  "language_info": {
   "codemirror_mode": {
    "name": "ipython",
    "version": 3
   },
   "file_extension": ".py",
   "mimetype": "text/x-python",
   "name": "python",
   "nbconvert_exporter": "python",
   "pygments_lexer": "ipython3",
   "version": "3.9.13"
  },
  "orig_nbformat": 4
 },
 "nbformat": 4,
 "nbformat_minor": 2
}
