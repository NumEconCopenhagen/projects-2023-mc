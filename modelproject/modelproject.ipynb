{
 "cells": [
  {
   "attachments": {},
   "cell_type": "markdown",
   "metadata": {
    "toc-hr-collapsed": true
   },
   "source": [
    "# The Solow model with land"
   ]
  },
  {
   "attachments": {},
   "cell_type": "markdown",
   "metadata": {},
   "source": [
    "Imports and set magics:"
   ]
  },
  {
   "cell_type": "code",
   "execution_count": 3,
   "metadata": {},
   "outputs": [],
   "source": [
    "import numpy as np\n",
    "from scipy import optimize\n",
    "import sympy as sm\n",
    "from sympy import Symbol\n",
    "from sympy.solvers import solve\n",
    "sm.init_printing(use_unicode=True) # for pretty printing\n",
    "from IPython.display import display\n",
    "import matplotlib.pyplot as plt # baseline modul\n",
    "import ipywidgets as widgets\n",
    "\n",
    "# autoreload modules when code is run\n",
    "%load_ext autoreload\n",
    "%autoreload 2\n",
    "\n",
    "# local modules\n",
    "import modelproject"
   ]
  },
  {
   "attachments": {},
   "cell_type": "markdown",
   "metadata": {},
   "source": [
    "The **Solow model with land** contains:\n",
    "\n",
    "* $K_t$ is capital\n",
    "* $L_t$ is labor\n",
    "* $A_t$ is technology\n",
    "* $X$ is land\n",
    "* $Y_t = F(K_t,A_tL_t,X)$ is GDP\n",
    "\n",
    "**GDP** is defined as\n",
    "\n",
    "$ Y_{t}=K_{t}^{\\alpha}(A_{t}L_{t})^{\\beta}X^{\\kappa}$\n",
    "\n",
    "**Saving** is a constant fraction of GDP\n",
    "\n",
    "$ S_t = sY_t,\\, s\\in(0,1) $\n",
    "\n",
    "such that **capital accumulates** according to\n",
    "\n",
    "$ K_{t+1}=sY_t+(1-\\delta)K_t $\n",
    "\n",
    "**Labour and technology accoumulates** as\n",
    "\n",
    "$ L_{t+1} = (1+n)L_t $\n",
    "\n",
    "$ A_{t+1} = (1+g)A_t $\n",
    "\n",
    "The transition equation then normally becomes\n",
    "\n",
    "$ \\tilde{k}_{t+1}= \\frac{1}{(1+n)(1+g)}[\\tilde{k}_{t}^{\\alpha}(\\frac{X}{A_tL_t})^\\kappa+(1-\\delta)\\tilde{k}_{t}] $\n",
    "\n",
    "where $\\tilde{k}_{t}= \\dfrac{K_t}{A_tL_t}$\n",
    "\n",
    "But in this case we need to look at the capital-output ratio, so the **transition equation** becomes\n",
    "\n",
    "$ z_{t+1} = \\frac{K_{t+1}}{Y_{t+1}} = \\frac{K_{t+1}}{K_{t+1}^{\\alpha}(A_{t+1}L_{t+1})^{\\beta}X^{\\kappa}} = \\frac{K_{t+1}^{1-\\alpha}}{(A_{t+1}L_{t+1})^{\\beta}X^{\\kappa}} \\rightarrow z_{t+1} = \\frac{1}{((1+g)(1+n))^\\beta}(s+z_t(1-\\delta))^{1-\\alpha}z_t^\\alpha$"
   ]
  },
  {
   "cell_type": "markdown",
   "metadata": {},
   "source": [
    "# Steady state"
   ]
  },
  {
   "cell_type": "markdown",
   "metadata": {},
   "source": [
    "## Analytical solution"
   ]
  },
  {
   "attachments": {},
   "cell_type": "markdown",
   "metadata": {},
   "source": [
    "We use **sympy** to find an analytical expression for the steady state, i.e. solve\n",
    "\n",
    "$$ z^{\\ast} = \\frac{1}{((1+g)(1+n))^\\beta}(s+z^{\\ast}(1-\\delta))^{1-\\alpha}(z^{\\ast})^\\alpha $$"
   ]
  },
  {
   "cell_type": "code",
   "execution_count": null,
   "metadata": {},
   "outputs": [],
   "source": [
    "#We define all symbols\n",
    "k = sm.symbols('k') #physical capital\n",
    "X = sm.symbols('X') #land\n",
    "z = sm.symbols('z') # #physical capital/GDP ratio\n",
    "alpha = sm.symbols('alpha') #return on physical capital\n",
    "beta = sm.symbols('beta') #labour force income share\n",
    "kappa = sm.symbols('kappa') #return on land\n",
    "delta = sm.symbols('delta') #depreciation rate on capital\n",
    "s = sm.symbols('s') #savings/investment rate\n",
    "g = sm.symbols('g') #growth in technology\n",
    "n = sm.symbols('n') #growth in labour force"
   ]
  },
  {
   "cell_type": "code",
   "execution_count": null,
   "metadata": {},
   "outputs": [],
   "source": [
    "z =sm.Eq(((s+z*(1-delta))**(1-alpha)*z**alpha)/((1+g)*(1+n))**beta)"
   ]
  },
  {
   "cell_type": "code",
   "execution_count": null,
   "metadata": {},
   "outputs": [],
   "source": [
    "#Then we define the steady state equations\n",
    "#ss1 = sm.Eq(((s+z*(1-delta))**(1-alpha))*z**alpha/(((1+n)*(1+g))**beta), z)\n",
    "#ss1"
   ]
  },
  {
   "cell_type": "code",
   "execution_count": null,
   "metadata": {},
   "outputs": [],
   "source": [
    "sm.nonlinsolve([ss1], z)"
   ]
  },
  {
   "cell_type": "code",
   "execution_count": null,
   "metadata": {},
   "outputs": [],
   "source": [
    "#KAN MÅSKE SLETTES, DA VI IKKE HAR TO LIGNINGER?\n",
    "#We solve the steady state equations for z\n",
    "sss1 = sm.solve((ss1), z, implicit = True)\n",
    "sss1\n"
   ]
  },
  {
   "attachments": {},
   "cell_type": "markdown",
   "metadata": {},
   "source": [
    "When using $ 1 - \\alpha = \\beta + \\kappa $, this can be reduced to:"
   ]
  },
  {
   "attachments": {},
   "cell_type": "markdown",
   "metadata": {},
   "source": [
    "$$ z_t = z = z^{\\ast} = \\frac{s}{((1+g)(1+n))^\\frac{\\beta}{\\beta+\\kappa}-(1-\\delta)} $$"
   ]
  },
  {
   "cell_type": "code",
   "execution_count": null,
   "metadata": {},
   "outputs": [],
   "source": [
    "zss = sm.Eq(s/(((1+g)*(1+n))**(beta/(beta+kappa))-(1-delta)),z)\n",
    "zss"
   ]
  },
  {
   "cell_type": "code",
   "execution_count": null,
   "metadata": {},
   "outputs": [],
   "source": [
    "#We turn the solution into a Python funciton\n",
    "ss_func = sm.lambdify((s,g,n,kappa,beta,delta),sss1)"
   ]
  },
  {
   "cell_type": "markdown",
   "metadata": {},
   "source": [
    "## Numerical solution"
   ]
  },
  {
   "attachments": {},
   "cell_type": "markdown",
   "metadata": {},
   "source": [
    "We rewrite the equation for the steady state as\n",
    "\n",
    "$ 0 = \\frac{s}{((1+g)(1+n))^\\frac{\\beta}{\\beta+\\kappa}-(1-\\delta)} -z^{\\ast} $\n",
    "\n",
    "\n",
    "now it is a root-finding problem."
   ]
  },
  {
   "cell_type": "code",
   "execution_count": null,
   "metadata": {},
   "outputs": [],
   "source": [
    "#We define model parameters as plausible empirical values\n",
    "s = 0.2\n",
    "g = 0.02\n",
    "n = 0.01\n",
    "beta = 2/3\n",
    "kappa = 1/6\n",
    "alpha = 1/6\n",
    "delta = 0.06"
   ]
  },
  {
   "cell_type": "code",
   "execution_count": null,
   "metadata": {},
   "outputs": [],
   "source": [
    "#ss_func = sm.lambdify((s,g,n,kappa,beta,delta),zss)"
   ]
  },
  {
   "cell_type": "code",
   "execution_count": null,
   "metadata": {},
   "outputs": [],
   "source": [
    "z = 0.2/(((1+0.02)*(1+0.01))**((2/3)/((2/3)+(1/6)))-(1-0.06))\n",
    "z"
   ]
  },
  {
   "cell_type": "code",
   "execution_count": null,
   "metadata": {},
   "outputs": [],
   "source": [
    "#We solve numerically for the steady state:\n",
    "def trans_eq()\n",
    "    return\n",
    "\n",
    "\n",
    "def z_func(s,g,n,beta,kappa,delta):\n",
    "    result = lambda z: s/(((1+g)(1+n))**(beta/(beta+kappa))-(1-delta))\n",
    "    return \n",
    "    \n",
    "optimize.bisect(trans_eq, 1, 100, full_output=False)\n",
    "\n",
    "print(f'z={z_func(s,g,n,kappa,beta,delta):.3f}')\n"
   ]
  },
  {
   "cell_type": "code",
   "execution_count": null,
   "metadata": {},
   "outputs": [],
   "source": [
    "z"
   ]
  },
  {
   "cell_type": "code",
   "execution_count": null,
   "metadata": {},
   "outputs": [],
   "source": [
    "#We solve numerically for the steady state:\n",
    "\n",
    "def z_func(s,g,n,alpha,beta,delta):\n",
    "    \"\"\"args:\n",
    "    s    (float): Investments\n",
    "    g     (float): Growth in technology\n",
    "    n     (float): Growth in labour force\n",
    "    delta (float): Depreciation rate \n",
    "    alpha (float): Return on physical capital\n",
    "    beta   (float): Return on technology*labour \n",
    "\n",
    "    Returns: \n",
    "    The transition equation for z\n",
    "    \"\"\"\n",
    "    result = lambda z: ((s+z*(1-delta))**(1-alpha)*z**alpha)/((1+g)*(1+n))**beta-z\n",
    "    return optimize.bisect(result, 1, 100, full_output=False)\n",
    "\n",
    "print(f'z*={z_func(s,g,n,alpha,beta,delta):.3f}')\n"
   ]
  },
  {
   "cell_type": "markdown",
   "metadata": {},
   "source": [
    "As expected, the numerical and analytical steady state values are identical."
   ]
  },
  {
   "cell_type": "markdown",
   "metadata": {},
   "source": [
    "# Further analysis"
   ]
  },
  {
   "cell_type": "markdown",
   "metadata": {},
   "source": [
    "## Phase diagrams"
   ]
  },
  {
   "cell_type": "code",
   "execution_count": null,
   "metadata": {},
   "outputs": [],
   "source": [
    "def z_func(s,g,n,alpha,beta,delta,time):\n",
    "    \"\"\"\n",
    "    Args:\n",
    "    k      (int)  : Physical capital\n",
    "    alpha  (float): Return on physical capital\n",
    "    delta  (float): Depreciation rate on capital\n",
    "    s      (float): Savings/investments\n",
    "    n      (float): Increase in labour\n",
    "    B      (int)  : Factor productivity\n",
    "    time   (int)  : periods\n",
    "    \n",
    "    Returns:\n",
    "    The solow diagram with a diagonal line and the growth path of physical capital\"\"\"\n",
    "    \n",
    "    #An emty list is made to contain the k values\n",
    "    z_growth = [z]\n",
    "    \n",
    "    #An empty list is made to contain the diagonal line\n",
    "    diagonal = [0]\n",
    "\n",
    "\n",
    "    #45 degree line\n",
    "    for t in range(1,time):\n",
    "        line = (t*(1-delta))\n",
    "        diagonal.append(line)\n",
    "\n",
    "        \n",
    "    #We generate the growth in capital\n",
    "    for t in range(1,time):\n",
    "        z_tp1 = ((s)**(1-alpha)*t**alpha)\n",
    "        z_growth.append(z_tp1)\n",
    "    \n",
    "    #Create the plot\n",
    "    plt.rcParams['axes.facecolor'] = 'white'\n",
    "    plt.figure(figsize=(6,6))\n",
    "    plt.plot(z_growth[:time], label=r'$sBk_t^{\\alpha}$', color = 'magenta')\n",
    "    plt.plot(diagonal[:time], label = r'$(n+\\delta)k_t$', color = 'lime')\n",
    "    plt.xlim(0,time)\n",
    "    plt.ylim(0,diagonal[-1])\n",
    "    plt.xlabel('$z_t$')\n",
    "    plt.legend()\n",
    "    plt.title('Solow diagram')\n",
    "    \n",
    "    return plt.show()"
   ]
  },
  {
   "cell_type": "code",
   "execution_count": null,
   "metadata": {},
   "outputs": [],
   "source": [
    "widgets.interact(z_func, \n",
    "                z = widgets.fixed(0), \n",
    "                alpha = widgets.FloatSlider(description = r'$\\alpha$', min = 0, max = 0.9, step = 0.05, value = 0.3),\n",
    "                delta = widgets.FloatSlider(description = r'$\\delta$', min = 0, max = 0.1, step = 0.01, value = 0.01),\n",
    "                s = widgets.FloatSlider(description = '$s$', min = 0.01, max = 0.8, step = 0.05, value = 0.4),\n",
    "                n = widgets.FloatSlider(description ='$n$', min = 0.01, max = 0.1, step = 0.005, value = 0.01),\n",
    "                g = widgets.FloatSlider(description ='$g$', min = 0.02, max = 0.2, step = 0.005, value = 0.02),\n",
    "                beta = widgets.fixed(2/3),\n",
    "                time = widgets.IntSlider(description='time', min = 1, max = 1000, step = 10, value = 100))"
   ]
  },
  {
   "cell_type": "markdown",
   "metadata": {},
   "source": [
    "Here the steady state occurs when the two nullclines intersect as illustrated above. The steady state values in the diagram are consistent with prior numerical and analytical results. "
   ]
  },
  {
   "cell_type": "markdown",
   "metadata": {},
   "source": [
    "We wish to see what happens, when the savings rate in human capital rises from its initial value"
   ]
  },
  {
   "cell_type": "markdown",
   "metadata": {},
   "source": [
    "The new phase diagram shows how the steady state values of both $\\tilde{h}$ and $\\tilde{k}$ rises as a result of the higher savings rate. The rise in the physical capital per capita, $\\tilde{k}$ is caused by the increase in the total savings of physical capital occuring as a result of the higher levels of $Y$ induced by the new, higher value of $H$."
   ]
  },
  {
   "cell_type": "markdown",
   "metadata": {},
   "source": [
    "## Golden rule"
   ]
  },
  {
   "cell_type": "code",
   "execution_count": 24,
   "metadata": {},
   "outputs": [],
   "source": [
    "#We define model parameters as plausible empirical values\n",
    "s = 0.2\n",
    "g = 0.02\n",
    "n = 0.01\n",
    "beta = 2/3\n",
    "kappa = 1/6\n",
    "alpha = 1/6\n",
    "delta = 0.06"
   ]
  },
  {
   "cell_type": "markdown",
   "metadata": {},
   "source": [
    "We know that $\\tilde{y}_t^\\ast=\\tilde{k}_t^{\\ast \\alpha}\\tilde{h}_t^{\\ast \\varphi}$"
   ]
  },
  {
   "cell_type": "code",
   "execution_count": 25,
   "metadata": {},
   "outputs": [
    {
     "name": "stdout",
     "output_type": "stream",
     "text": [
      "(0.785834632693883+0.570942280631578j)\n"
     ]
    }
   ],
   "source": [
    "#We define the y steady state function\n",
    "def y_ss(s,g,n,alpha,kappa,delta,beta):\n",
    "    \"\"\"args:\n",
    "     s    (float): Investments\n",
    "    g     (float): Growth in technology\n",
    "    n     (float): Growth in labour force\n",
    "    delta (float): Depreciation rate \n",
    "    kappa (float): dgthf\n",
    "    alpha (float): Return on physical capital\n",
    "    beta   (float): Return on technology*labour \n",
    "    \n",
    "    Returns:\n",
    "    Steady state value for total income\n",
    "    \"\"\"\n",
    "    return ((s/((1+n)*(1+g))**(beta/(beta+kappa))-(1+delta))**(alpha/(beta+kappa)))\n",
    "\n",
    "print(y_ss(s,g,n,alpha,kappa,delta,beta))\n",
    "\n"
   ]
  },
  {
   "cell_type": "code",
   "execution_count": 26,
   "metadata": {},
   "outputs": [],
   "source": [
    "y = 0.785834632693883"
   ]
  },
  {
   "cell_type": "code",
   "execution_count": 27,
   "metadata": {},
   "outputs": [
    {
     "name": "stdout",
     "output_type": "stream",
     "text": [
      "(0.6286677061551065+0.4567538245052625j)\n"
     ]
    }
   ],
   "source": [
    "#We define the steady state function for c\n",
    "def c_ss(s,g,n,alpha,kappa,delta,beta):\n",
    "    \"\"\"args:\n",
    "    sh  (  float): Investments in human capital\n",
    "    sk     float): Investments in physical capital\n",
    "    g     (float): Growth in technology\n",
    "    n     (float): Growth in labour force\n",
    "    alpha (float): Return on physical capital\n",
    "    phi   (float): return on human capital\n",
    "    delta (float): depriciation rate\n",
    "    \n",
    "    Returns:\n",
    "    Golden rule for private consumption\n",
    "    \"\"\"\n",
    "    return ((1-s)*(s/((1+n)*(1+g))**(beta/(beta+kappa))-(1+delta))**(alpha/(beta+kappa)))\n",
    "\n",
    "print(c_ss(s,g,n,alpha,kappa,delta,beta))"
   ]
  },
  {
   "cell_type": "code",
   "execution_count": null,
   "metadata": {},
   "outputs": [],
   "source": [
    "c = 0.6286677061551065"
   ]
  },
  {
   "cell_type": "code",
   "execution_count": 29,
   "metadata": {},
   "outputs": [
    {
     "ename": "TypeError",
     "evalue": "c_ss() takes 7 positional arguments but 8 were given",
     "output_type": "error",
     "traceback": [
      "\u001b[0;31m---------------------------------------------------------------------------\u001b[0m",
      "\u001b[0;31mTypeError\u001b[0m                                 Traceback (most recent call last)",
      "\u001b[0;32m/var/folders/b7/xr_h9h1s35l0rntn_yj3w_9h0000gn/T/ipykernel_22728/944262228.py\u001b[0m in \u001b[0;36m<module>\u001b[0;34m\u001b[0m\n\u001b[1;32m      7\u001b[0m \u001b[0;31m#We loop over different values of sh to find the corresponding values of c\u001b[0m\u001b[0;34m\u001b[0m\u001b[0;34m\u001b[0m\u001b[0m\n\u001b[1;32m      8\u001b[0m \u001b[0;32mfor\u001b[0m \u001b[0mi\u001b[0m \u001b[0;32min\u001b[0m \u001b[0mnp\u001b[0m\u001b[0;34m.\u001b[0m\u001b[0marange\u001b[0m\u001b[0;34m(\u001b[0m\u001b[0;36m0\u001b[0m\u001b[0;34m,\u001b[0m\u001b[0;36m0.9\u001b[0m\u001b[0;34m,\u001b[0m\u001b[0;36m0.001\u001b[0m\u001b[0;34m)\u001b[0m\u001b[0;34m:\u001b[0m\u001b[0;34m\u001b[0m\u001b[0;34m\u001b[0m\u001b[0m\n\u001b[0;32m----> 9\u001b[0;31m     \u001b[0mc_values\u001b[0m\u001b[0;34m.\u001b[0m\u001b[0mappend\u001b[0m\u001b[0;34m(\u001b[0m\u001b[0mc_ss\u001b[0m\u001b[0;34m(\u001b[0m\u001b[0mi\u001b[0m\u001b[0;34m,\u001b[0m\u001b[0ms\u001b[0m\u001b[0;34m,\u001b[0m\u001b[0mg\u001b[0m\u001b[0;34m,\u001b[0m\u001b[0mn\u001b[0m\u001b[0;34m,\u001b[0m\u001b[0malpha\u001b[0m\u001b[0;34m,\u001b[0m\u001b[0mkappa\u001b[0m\u001b[0;34m,\u001b[0m\u001b[0mdelta\u001b[0m\u001b[0;34m,\u001b[0m\u001b[0mbeta\u001b[0m\u001b[0;34m)\u001b[0m\u001b[0;34m)\u001b[0m\u001b[0;34m\u001b[0m\u001b[0;34m\u001b[0m\u001b[0m\n\u001b[0m\u001b[1;32m     10\u001b[0m     \u001b[0mc_x\u001b[0m\u001b[0;34m.\u001b[0m\u001b[0mappend\u001b[0m\u001b[0;34m(\u001b[0m\u001b[0mi\u001b[0m\u001b[0;34m)\u001b[0m\u001b[0;34m\u001b[0m\u001b[0;34m\u001b[0m\u001b[0m\n\u001b[1;32m     11\u001b[0m \u001b[0;34m\u001b[0m\u001b[0m\n",
      "\u001b[0;31mTypeError\u001b[0m: c_ss() takes 7 positional arguments but 8 were given"
     ]
    }
   ],
   "source": [
    "#We create a plot to show the variation in c when sh changes, all things equal\n",
    "\n",
    "#we make an empty list to collect the differenc c-values\n",
    "c_values = []\n",
    "c_x = []\n",
    "\n",
    "#We loop over different values of sh to find the corresponding values of c\n",
    "for i in np.arange(0,0.9,0.001):\n",
    "    c_values.append(c_ss(i,s,g,n,alpha,kappa,delta,beta))\n",
    "    c_x.append(i)\n",
    "\n",
    "#Create the plot\n",
    "fig = plt.figure(figsize=(13,5))\n",
    "ax = fig.add_subplot(1,2,1)\n",
    "ax.plot(c_x,c_values, color='#a60550')\n",
    "ax.set_xlabel(r'$s_H$')\n",
    "ax.set_ylabel(r'$c^*$')\n",
    "\n",
    "#We mark the maximum value of c and the corresponding value of sh\n",
    "plt.axvline(0.45,ymax=0.95,color='gray',linestyle='--')\n",
    "plt.axhline(max(c_values),xmax=1,color='gray',linestyle='--')\n",
    "ax.set_title('$c^*$ for different $s_H$');"
   ]
  },
  {
   "cell_type": "code",
   "execution_count": null,
   "metadata": {},
   "outputs": [],
   "source": [
    "#We find the largest ss-value of consumption pr. worker\n",
    "print(f'The maximum private consumption per capita is: {max(c_values):.3f}')\n",
    "\n",
    "#We find the sh value resulting in the maximum c value\n",
    "print(f'The golden rule value of sh is: {(c_x[c_values.index(max(c_values))])}')"
   ]
  },
  {
   "cell_type": "markdown",
   "metadata": {},
   "source": [
    "The optimal savings rate that maximises consumption is thus 0.45, which can be considered to be quite high. It seems that the rise in production caused by the increased savings outweighs the consumption lost due to a higher savings rate."
   ]
  },
  {
   "cell_type": "markdown",
   "metadata": {},
   "source": [
    "# Conclusion"
   ]
  },
  {
   "cell_type": "markdown",
   "metadata": {},
   "source": [
    "Our calculations show that for our parameter values a steady state arises. In the basic Solow model the savings rate affects the steady state value positively. Likewise, the value of $s_H$ has a positive impact on the steady state values of $\\tilde{h}^*$ and $\\tilde{k}^*$, which is initially caused by a direct change in $\\tilde{h}^*$ from which a spillover effect occurs, affecting both $\\tilde{k}^*$ and production. Furthermore the consumption maximising value of $s_H$ is found to be $0.45$. The analysis also shows that different solving methods provides the same results in our case."
   ]
  }
 ],
 "metadata": {
  "kernelspec": {
   "display_name": "Python 3 (ipykernel)",
   "language": "python",
   "name": "python3"
  },
  "language_info": {
   "codemirror_mode": {
    "name": "ipython",
    "version": 3
   },
   "file_extension": ".py",
   "mimetype": "text/x-python",
   "name": "python",
   "nbconvert_exporter": "python",
   "pygments_lexer": "ipython3",
   "version": "3.9.13"
  },
  "toc-autonumbering": true
 },
 "nbformat": 4,
 "nbformat_minor": 4
}
