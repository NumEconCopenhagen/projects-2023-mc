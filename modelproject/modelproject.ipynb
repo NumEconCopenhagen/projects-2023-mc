{
 "cells": [
  {
   "attachments": {},
   "cell_type": "markdown",
   "metadata": {
    "toc-hr-collapsed": true
   },
   "source": [
    "# The Solow model with land"
   ]
  },
  {
   "attachments": {},
   "cell_type": "markdown",
   "metadata": {},
   "source": [
    "Imports and set magics:"
   ]
  },
  {
   "cell_type": "code",
   "execution_count": 192,
   "metadata": {},
   "outputs": [
    {
     "name": "stdout",
     "output_type": "stream",
     "text": [
      "The autoreload extension is already loaded. To reload it, use:\n",
      "  %reload_ext autoreload\n"
     ]
    }
   ],
   "source": [
    "import numpy as np\n",
    "from scipy import optimize\n",
    "import sympy as sm\n",
    "from sympy import Symbol\n",
    "from sympy.solvers import solve\n",
    "sm.init_printing(use_unicode=True) # for pretty printing\n",
    "from IPython.display import display\n",
    "import matplotlib.pyplot as plt # baseline modul\n",
    "import ipywidgets as widgets\n",
    "\n",
    "# autoreload modules when code is run\n",
    "%load_ext autoreload\n",
    "%autoreload 2\n",
    "\n",
    "# local modules\n",
    "import modelproject"
   ]
  },
  {
   "attachments": {},
   "cell_type": "markdown",
   "metadata": {},
   "source": [
    "The **Solow model with land** contains:\n",
    "\n",
    "* $K_t$ is capital\n",
    "* $L_t$ is labor\n",
    "* $A_t$ is technology\n",
    "* $X$ is land\n",
    "* $Y_t = F(K_t,A_tL_t,X)$ is GDP\n",
    "\n",
    "**GDP** is defined as\n",
    "\n",
    "$ Y_{t}=K_{t}^{\\alpha}(A_{t}L_{t})^{\\beta}X^{\\kappa}$\n",
    "\n",
    "**Saving** is a constant fraction of GDP\n",
    "\n",
    "$ S_t = sY_t,\\, s\\in(0,1) $\n",
    "\n",
    "such that **capital accumulates** according to\n",
    "\n",
    "$ K_{t+1}=sY_t+(1-\\delta)K_t $\n",
    "\n",
    "**Labour and technology accoumulates** as\n",
    "\n",
    "$ L_{t+1} = (1+n)L_t $\n",
    "\n",
    "$ A_{t+1} = (1+g)A_t $\n",
    "\n",
    "The **transition equations** then becomes\n",
    "\n",
    "$ \\tilde{k}_{t+1}= \\frac{1}{(1+n)(1+g)}[\\tilde{k}_{t}^{\\alpha}(\\frac{X}{A_tL_t})^\\kappa+(1-\\delta)\\tilde{k}_{t}] $\n",
    "\n",
    "where $\\tilde{k}_{t}= \\dfrac{K_t}{A_tL_t}$\n",
    "\n",
    "\n",
    "$ z_{t+1} = \\frac{K_{t+1}}{Y_{t+1}} = \\frac{K_{t+1}}{K_{t+1}^{\\alpha}(A_{t+1}L_{t+1})^{\\beta}X^{\\kappa}} = \\frac{K_{t+1}^{1-\\alpha}}{(A_{t+1}L_{t+1})^{\\beta}X^{\\kappa}} \\rightarrow z_{t+1} = \\frac{1}{((1+g)(1+n))^\\beta}(s+z_t(1-\\delta))^{1-\\alpha}z_t^\\alpha$"
   ]
  },
  {
   "cell_type": "markdown",
   "metadata": {},
   "source": [
    "# Steady state"
   ]
  },
  {
   "cell_type": "markdown",
   "metadata": {},
   "source": [
    "## Analytical solution"
   ]
  },
  {
   "attachments": {},
   "cell_type": "markdown",
   "metadata": {},
   "source": [
    "We use **sympy** to find an analytical expression for the steady state, i.e. solve\n",
    "\n",
    "$$ z^{\\ast} = \\frac{1}{((1+g)(1+n))^\\beta}(s+z^{\\ast}(1-\\delta))^{1-\\alpha}(z^{\\ast})^\\alpha $$"
   ]
  },
  {
   "cell_type": "code",
   "execution_count": 193,
   "metadata": {},
   "outputs": [],
   "source": [
    "#We define all symbols\n",
    "k = sm.symbols('k') #physical capital\n",
    "X = sm.symbols('X') #land\n",
    "z = sm.symbols('z') # #physical capital/GDP ratio\n",
    "alpha = sm.symbols('alpha') #return on physical capital\n",
    "beta = sm.symbols('beta') #labour force income share\n",
    "kappa = sm.symbols('kappa') #return on land\n",
    "delta = sm.symbols('delta') #depreciation rate on capital\n",
    "s = sm.symbols('s') #savings/investment rate\n",
    "g = sm.symbols('g') #growth in technology\n",
    "n = sm.symbols('n') #growth in labour force"
   ]
  },
  {
   "cell_type": "code",
   "execution_count": 194,
   "metadata": {},
   "outputs": [
    {
     "data": {
      "image/png": "[encoded data removed]",
      "text/latex": [
       "$\\displaystyle z^{\\alpha} \\left(\\left(g + 1\\right) \\left(n + 1\\right)\\right)^{- \\beta} \\left(s + z \\left(1 - \\delta\\right)\\right)^{1 - \\alpha} = z$"
      ],
      "text/plain": [
       " α                  -β                1 - α    \n",
       "z ⋅((g + 1)⋅(n + 1))  ⋅(s + z⋅(1 - δ))      = z"
      ]
     },
     "execution_count": 194,
     "metadata": {},
     "output_type": "execute_result"
    }
   ],
   "source": [
    "#Then we define the steady state equations\n",
    "\n",
    "ss1 = sm.Eq(((s+z*(1-delta))**(1-alpha))*z**alpha/(((1+n)*(1+g))**beta), z)\n",
    "ss1"
   ]
  },
  {
   "cell_type": "code",
   "execution_count": 195,
   "metadata": {},
   "outputs": [
    {
     "data": {
      "text/latex": [
       "$\\displaystyle \\left\\{\\left( \\left\\{z\\; \\middle|\\; z \\in \\mathbb{C} \\wedge - z + z^{\\alpha} \\left(\\left(g + 1\\right) \\left(n + 1\\right)\\right)^{- \\beta} \\left(s + z \\left(1 - \\delta\\right)\\right)^{1 - \\alpha} = 0 \\right\\},\\right)\\right\\}$"
      ],
      "text/plain": [
       "⎧⎛⎧  │         ⎛      α                  -β                1 - α    ⎞⎫ ⎞⎫\n",
       "⎨⎜⎨z │ z ∊ ℂ ∧ ⎝-z + z ⋅((g + 1)⋅(n + 1))  ⋅(s + z⋅(1 - δ))      = 0⎠⎬,⎟⎬\n",
       "⎩⎝⎩  │                                                               ⎭ ⎠⎭"
      ]
     },
     "execution_count": 195,
     "metadata": {},
     "output_type": "execute_result"
    }
   ],
   "source": [
    "sm.nonlinsolve([ss1], z)"
   ]
  },
  {
   "cell_type": "code",
   "execution_count": 196,
   "metadata": {},
   "outputs": [
    {
     "data": {
      "image/png": "[encoded data removed]",
      "text/latex": [
       "$\\displaystyle \\left[ z^{\\alpha} \\left(s + z \\left(1 - \\delta\\right)\\right)^{1 - \\alpha} \\left(g n + g + n + 1\\right)^{- \\beta}\\right]$"
      ],
      "text/plain": [
       "⎡ α                1 - α                  -β⎤\n",
       "⎣z ⋅(s + z⋅(1 - δ))     ⋅(g⋅n + g + n + 1)  ⎦"
      ]
     },
     "execution_count": 196,
     "metadata": {},
     "output_type": "execute_result"
    }
   ],
   "source": [
    "#KAN MÅSKE SLETTES, DA VI IKKE HAR TO LIGNINGER?\n",
    "#We solve the steady state equations for z\n",
    "sss1 = sm.solve((ss1), z, implicit = True)\n",
    "sss1\n"
   ]
  },
  {
   "attachments": {},
   "cell_type": "markdown",
   "metadata": {},
   "source": [
    "When using $ 1 - \\alpha = \\beta + \\kappa $, this can be reduced to:"
   ]
  },
  {
   "attachments": {},
   "cell_type": "markdown",
   "metadata": {},
   "source": [
    "$$ z_t = z = z^{\\ast} = \\frac{s}{((1+g)(1+n))^\\frac{\\beta}{\\beta+\\kappa}-(1-\\delta)} $$"
   ]
  },
  {
   "cell_type": "code",
   "execution_count": 197,
   "metadata": {},
   "outputs": [],
   "source": [
    "#We turn the solution into a Python funciton\n",
    "ss_func = sm.lambdify((s,g,n,kappa,beta,delta),sss1)"
   ]
  },
  {
   "cell_type": "markdown",
   "metadata": {},
   "source": [
    "## Numerical solution"
   ]
  },
  {
   "attachments": {},
   "cell_type": "markdown",
   "metadata": {},
   "source": [
    "We rewrite the equation for the steady state as\n",
    "\n",
    "$ 0 = \\frac{s}{((1+g)(1+n))^\\frac{\\beta}{\\beta+\\kappa}-(1-\\delta)} -z^{\\ast} $\n",
    "\n",
    "\n",
    "now it is a root-finding problem."
   ]
  },
  {
   "cell_type": "code",
   "execution_count": 198,
   "metadata": {},
   "outputs": [],
   "source": [
    "#We define model parameters as plausible empirical values\n",
    "s = 0.2\n",
    "g = 0.02\n",
    "n = 0.01\n",
    "beta = 2/3\n",
    "kappa = 1/6\n",
    "delta = 0.06"
   ]
  },
  {
   "cell_type": "code",
   "execution_count": 199,
   "metadata": {},
   "outputs": [
    {
     "ename": "TypeError",
     "evalue": "'float' object is not callable",
     "output_type": "error",
     "traceback": [
      "\u001b[0;31m---------------------------------------------------------------------------\u001b[0m",
      "\u001b[0;31mTypeError\u001b[0m                                 Traceback (most recent call last)",
      "\u001b[0;32m/var/folders/b7/xr_h9h1s35l0rntn_yj3w_9h0000gn/T/ipykernel_10934/2333045179.py\u001b[0m in \u001b[0;36m<module>\u001b[0;34m\u001b[0m\n\u001b[1;32m     16\u001b[0m     \u001b[0;32mreturn\u001b[0m \u001b[0moptimize\u001b[0m\u001b[0;34m.\u001b[0m\u001b[0mbisect\u001b[0m\u001b[0;34m(\u001b[0m\u001b[0mresult\u001b[0m\u001b[0;34m,\u001b[0m \u001b[0;36m1\u001b[0m\u001b[0;34m,\u001b[0m \u001b[0;36m100\u001b[0m\u001b[0;34m,\u001b[0m \u001b[0mfull_output\u001b[0m\u001b[0;34m=\u001b[0m\u001b[0;32mFalse\u001b[0m\u001b[0;34m)\u001b[0m\u001b[0;34m\u001b[0m\u001b[0;34m\u001b[0m\u001b[0m\n\u001b[1;32m     17\u001b[0m \u001b[0;34m\u001b[0m\u001b[0m\n\u001b[0;32m---> 18\u001b[0;31m \u001b[0mprint\u001b[0m\u001b[0;34m(\u001b[0m\u001b[0;34mf'z={z_func(s,g,n,kappa,beta,delta):.3f}'\u001b[0m\u001b[0;34m)\u001b[0m\u001b[0;34m\u001b[0m\u001b[0;34m\u001b[0m\u001b[0m\n\u001b[0m",
      "\u001b[0;32m/var/folders/b7/xr_h9h1s35l0rntn_yj3w_9h0000gn/T/ipykernel_10934/2333045179.py\u001b[0m in \u001b[0;36mz_func\u001b[0;34m(s, g, n, beta, kappa, delta)\u001b[0m\n\u001b[1;32m     14\u001b[0m     \"\"\"\n\u001b[1;32m     15\u001b[0m     \u001b[0mresult\u001b[0m \u001b[0;34m=\u001b[0m \u001b[0;32mlambda\u001b[0m \u001b[0mz\u001b[0m\u001b[0;34m:\u001b[0m \u001b[0ms\u001b[0m\u001b[0;34m/\u001b[0m\u001b[0;34m(\u001b[0m\u001b[0;34m(\u001b[0m\u001b[0;34m(\u001b[0m\u001b[0;36m1\u001b[0m\u001b[0;34m+\u001b[0m\u001b[0mg\u001b[0m\u001b[0;34m)\u001b[0m\u001b[0;34m(\u001b[0m\u001b[0;36m1\u001b[0m\u001b[0;34m+\u001b[0m\u001b[0mn\u001b[0m\u001b[0;34m)\u001b[0m\u001b[0;34m)\u001b[0m\u001b[0;34m**\u001b[0m\u001b[0;34m(\u001b[0m\u001b[0mbeta\u001b[0m\u001b[0;34m/\u001b[0m\u001b[0;34m(\u001b[0m\u001b[0mbeta\u001b[0m\u001b[0;34m+\u001b[0m\u001b[0mkappa\u001b[0m\u001b[0;34m)\u001b[0m\u001b[0;34m)\u001b[0m\u001b[0;34m-\u001b[0m\u001b[0;34m(\u001b[0m\u001b[0;36m1\u001b[0m\u001b[0;34m-\u001b[0m\u001b[0mdelta\u001b[0m\u001b[0;34m)\u001b[0m\u001b[0;34m)\u001b[0m\u001b[0;34m\u001b[0m\u001b[0;34m\u001b[0m\u001b[0m\n\u001b[0;32m---> 16\u001b[0;31m     \u001b[0;32mreturn\u001b[0m \u001b[0moptimize\u001b[0m\u001b[0;34m.\u001b[0m\u001b[0mbisect\u001b[0m\u001b[0;34m(\u001b[0m\u001b[0mresult\u001b[0m\u001b[0;34m,\u001b[0m \u001b[0;36m1\u001b[0m\u001b[0;34m,\u001b[0m \u001b[0;36m100\u001b[0m\u001b[0;34m,\u001b[0m \u001b[0mfull_output\u001b[0m\u001b[0;34m=\u001b[0m\u001b[0;32mFalse\u001b[0m\u001b[0;34m)\u001b[0m\u001b[0;34m\u001b[0m\u001b[0;34m\u001b[0m\u001b[0m\n\u001b[0m\u001b[1;32m     17\u001b[0m \u001b[0;34m\u001b[0m\u001b[0m\n\u001b[1;32m     18\u001b[0m \u001b[0mprint\u001b[0m\u001b[0;34m(\u001b[0m\u001b[0;34mf'z={z_func(s,g,n,kappa,beta,delta):.3f}'\u001b[0m\u001b[0;34m)\u001b[0m\u001b[0;34m\u001b[0m\u001b[0;34m\u001b[0m\u001b[0m\n",
      "\u001b[0;32m~/opt/anaconda3/lib/python3.9/site-packages/scipy/optimize/_zeros_py.py\u001b[0m in \u001b[0;36mbisect\u001b[0;34m(f, a, b, args, xtol, rtol, maxiter, full_output, disp)\u001b[0m\n\u001b[1;32m    554\u001b[0m     \u001b[0;32mif\u001b[0m \u001b[0mrtol\u001b[0m \u001b[0;34m<\u001b[0m \u001b[0m_rtol\u001b[0m\u001b[0;34m:\u001b[0m\u001b[0;34m\u001b[0m\u001b[0;34m\u001b[0m\u001b[0m\n\u001b[1;32m    555\u001b[0m         \u001b[0;32mraise\u001b[0m \u001b[0mValueError\u001b[0m\u001b[0;34m(\u001b[0m\u001b[0;34m\"rtol too small (%g < %g)\"\u001b[0m \u001b[0;34m%\u001b[0m \u001b[0;34m(\u001b[0m\u001b[0mrtol\u001b[0m\u001b[0;34m,\u001b[0m \u001b[0m_rtol\u001b[0m\u001b[0;34m)\u001b[0m\u001b[0;34m)\u001b[0m\u001b[0;34m\u001b[0m\u001b[0;34m\u001b[0m\u001b[0m\n\u001b[0;32m--> 556\u001b[0;31m     \u001b[0mr\u001b[0m \u001b[0;34m=\u001b[0m \u001b[0m_zeros\u001b[0m\u001b[0;34m.\u001b[0m\u001b[0m_bisect\u001b[0m\u001b[0;34m(\u001b[0m\u001b[0mf\u001b[0m\u001b[0;34m,\u001b[0m \u001b[0ma\u001b[0m\u001b[0;34m,\u001b[0m \u001b[0mb\u001b[0m\u001b[0;34m,\u001b[0m \u001b[0mxtol\u001b[0m\u001b[0;34m,\u001b[0m \u001b[0mrtol\u001b[0m\u001b[0;34m,\u001b[0m \u001b[0mmaxiter\u001b[0m\u001b[0;34m,\u001b[0m \u001b[0margs\u001b[0m\u001b[0;34m,\u001b[0m \u001b[0mfull_output\u001b[0m\u001b[0;34m,\u001b[0m \u001b[0mdisp\u001b[0m\u001b[0;34m)\u001b[0m\u001b[0;34m\u001b[0m\u001b[0;34m\u001b[0m\u001b[0m\n\u001b[0m\u001b[1;32m    557\u001b[0m     \u001b[0;32mreturn\u001b[0m \u001b[0mresults_c\u001b[0m\u001b[0;34m(\u001b[0m\u001b[0mfull_output\u001b[0m\u001b[0;34m,\u001b[0m \u001b[0mr\u001b[0m\u001b[0;34m)\u001b[0m\u001b[0;34m\u001b[0m\u001b[0;34m\u001b[0m\u001b[0m\n\u001b[1;32m    558\u001b[0m \u001b[0;34m\u001b[0m\u001b[0m\n",
      "\u001b[0;32m/var/folders/b7/xr_h9h1s35l0rntn_yj3w_9h0000gn/T/ipykernel_10934/2333045179.py\u001b[0m in \u001b[0;36m<lambda>\u001b[0;34m(z)\u001b[0m\n\u001b[1;32m     13\u001b[0m \u001b[0;31m \u001b[0m\u001b[0;31m \u001b[0m\u001b[0;31m \u001b[0m\u001b[0;31m \u001b[0m\u001b[0mThe\u001b[0m \u001b[0mtransition\u001b[0m \u001b[0mequation\u001b[0m \u001b[0;32mfor\u001b[0m \u001b[0mz\u001b[0m\u001b[0;34m\u001b[0m\u001b[0;34m\u001b[0m\u001b[0m\n\u001b[1;32m     14\u001b[0m     \"\"\"\n\u001b[0;32m---> 15\u001b[0;31m     \u001b[0mresult\u001b[0m \u001b[0;34m=\u001b[0m \u001b[0;32mlambda\u001b[0m \u001b[0mz\u001b[0m\u001b[0;34m:\u001b[0m \u001b[0ms\u001b[0m\u001b[0;34m/\u001b[0m\u001b[0;34m(\u001b[0m\u001b[0;34m(\u001b[0m\u001b[0;34m(\u001b[0m\u001b[0;36m1\u001b[0m\u001b[0;34m+\u001b[0m\u001b[0mg\u001b[0m\u001b[0;34m)\u001b[0m\u001b[0;34m(\u001b[0m\u001b[0;36m1\u001b[0m\u001b[0;34m+\u001b[0m\u001b[0mn\u001b[0m\u001b[0;34m)\u001b[0m\u001b[0;34m)\u001b[0m\u001b[0;34m**\u001b[0m\u001b[0;34m(\u001b[0m\u001b[0mbeta\u001b[0m\u001b[0;34m/\u001b[0m\u001b[0;34m(\u001b[0m\u001b[0mbeta\u001b[0m\u001b[0;34m+\u001b[0m\u001b[0mkappa\u001b[0m\u001b[0;34m)\u001b[0m\u001b[0;34m)\u001b[0m\u001b[0;34m-\u001b[0m\u001b[0;34m(\u001b[0m\u001b[0;36m1\u001b[0m\u001b[0;34m-\u001b[0m\u001b[0mdelta\u001b[0m\u001b[0;34m)\u001b[0m\u001b[0;34m)\u001b[0m\u001b[0;34m\u001b[0m\u001b[0;34m\u001b[0m\u001b[0m\n\u001b[0m\u001b[1;32m     16\u001b[0m     \u001b[0;32mreturn\u001b[0m \u001b[0moptimize\u001b[0m\u001b[0;34m.\u001b[0m\u001b[0mbisect\u001b[0m\u001b[0;34m(\u001b[0m\u001b[0mresult\u001b[0m\u001b[0;34m,\u001b[0m \u001b[0;36m1\u001b[0m\u001b[0;34m,\u001b[0m \u001b[0;36m100\u001b[0m\u001b[0;34m,\u001b[0m \u001b[0mfull_output\u001b[0m\u001b[0;34m=\u001b[0m\u001b[0;32mFalse\u001b[0m\u001b[0;34m)\u001b[0m\u001b[0;34m\u001b[0m\u001b[0;34m\u001b[0m\u001b[0m\n\u001b[1;32m     17\u001b[0m \u001b[0;34m\u001b[0m\u001b[0m\n",
      "\u001b[0;31mTypeError\u001b[0m: 'float' object is not callable"
     ]
    }
   ],
   "source": [
    "#We solve numerically for the steady state:\n",
    "\n",
    "def z_func(s,g,n,beta,kappa,delta):\n",
    "    \"\"\"args:\n",
    "    s    (float): Investments\n",
    "    g     (float): Growth in technology\n",
    "    n     (float): Growth in labour force\n",
    "    beta   (float): Labour force income share\n",
    "    kappa   (float): Return on land\n",
    "    delta (float): Depreciation rate \n",
    "\n",
    "    Returns: \n",
    "    The transition equation for z\n",
    "    \"\"\"\n",
    "    result = lambda z: s/(((1+g)(1+n))**(beta/(beta+kappa))-(1-delta))\n",
    "    return optimize.bisect(result, 1, 100, full_output=False)\n",
    "\n",
    "print(f'z={z_func(s,g,n,kappa,beta,delta):.3f}')\n"
   ]
  },
  {
   "cell_type": "code",
   "execution_count": null,
   "metadata": {},
   "outputs": [],
   "source": [
    "#We solve numerically for the steady state:\n",
    "\n",
    "def z_func(s,g,n,alpha,beta,delta):\n",
    "    \"\"\"args:\n",
    "    s    (float): Investments\n",
    "    g     (float): Growth in technology\n",
    "    n     (float): Growth in labour force\n",
    "    delta (float): Depreciation rate \n",
    "    alpha (float): Return on physical capital\n",
    "    beta   (float): Return on technology*labour \n",
    "\n",
    "    Returns: \n",
    "    The transition equation for z\n",
    "    \"\"\"\n",
    "    result = lambda z: s+z*(1-delta)**(1-alpha)*z**alpha/(((1+n)*(1+g))**beta)-z\n",
    "    return optimize.bisect(result, 1, 100, full_output=False)\n",
    "\n",
    "print(f'z*={z_func(s,g,n,alpha,beta,delta):.3f}')\n"
   ]
  },
  {
   "cell_type": "code",
   "execution_count": null,
   "metadata": {},
   "outputs": [],
   "source": [
    "#We define the analytical solution\n",
    "analSolution = ss_func(sh,sk,g,n,alpha,phi,delta)\n",
    "\n",
    "#We define the numerical solution\n",
    "numSolution = sol.x\n",
    "\n",
    "print(f'Analytical solution is: k* = {analSolution[0]:.3f}, h* = {analSolution[1]:.3f}')\n",
    "print(f'Numerical solution is: k* = {numSolution[1]:.3f}, h* = {numSolution[0]:.3f}')\n"
   ]
  },
  {
   "cell_type": "markdown",
   "metadata": {},
   "source": [
    "As expected, the numerical and analytical steady state values are identical."
   ]
  },
  {
   "cell_type": "markdown",
   "metadata": {},
   "source": [
    "# Further analysis"
   ]
  },
  {
   "cell_type": "markdown",
   "metadata": {},
   "source": [
    "## Phase diagrams"
   ]
  },
  {
   "cell_type": "code",
   "execution_count": null,
   "metadata": {},
   "outputs": [],
   "source": [
    "#We define a function expressing the nullclines\n",
    "def solve_ss(sh,sk,g,n,alpha,phi,delta):\n",
    "    \"\"\"args:\n",
    "    sh    (float): Investments in human capital\n",
    "    sk     float): Investments in physical capital\n",
    "    g     (float): Growth in technology\n",
    "    n     (float): Growth in labour force\n",
    "    alpha (float): Return on physical capital\n",
    "    phi   (float): Return on human capital\n",
    "    delta (float): Depriciation rate\n",
    "    \n",
    "    Returns:\n",
    "    Nullclines for physical and human capital\n",
    "    \"\"\"\n",
    "    \n",
    "    # a. grids\n",
    "    k_vec = np.linspace(1e-4,3,500)\n",
    "    h_vec_DeltaK0 = np.empty(500)\n",
    "    h_vec_DeltaH0  = np.empty(500)\n",
    "    \n",
    "    # b. solve for each k in grid\n",
    "    for i,k in enumerate(k_vec):\n",
    "        #Solve for delta_h=0\n",
    "        \n",
    "        # i. objective\n",
    "        obj = lambda h: -h_func(k,sh,sk,g,n,alpha,phi,delta,h)\n",
    "\n",
    "        # ii. optimizer\n",
    "        result = optimize.root_scalar(obj,method='brentq',bracket=[1e-20,50])\n",
    "        \n",
    "        h_vec_DeltaH0[i] = result.root\n",
    "\n",
    "       \n",
    "        #Solve for delta_k=0\n",
    "        # i. objective\n",
    "        obj = lambda h: -k_func(h,sh,sk,g,n,alpha,phi,delta,k)\n",
    "\n",
    "        # ii. optimizer\n",
    "        result = optimize.root_scalar(obj,method='brentq',bracket=[1e-20,50])\n",
    "\n",
    "        h_vec_DeltaK0[i] = result.root\n",
    "\n",
    "    return k_vec, h_vec_DeltaK0, h_vec_DeltaH0\n",
    "\n",
    "\n",
    "#Solve the function\n",
    "k_vec, h_vec_DeltaK0, h_vec_DeltaH0 = solve_ss(sh,sk,g,n,alpha,phi,delta)\n",
    "\n",
    "\n",
    "#Create the plot\n",
    "fig = plt.figure(figsize=(13,5))\n",
    "ax = fig.add_subplot(1,2,1)\n",
    "ax.plot(k_vec,h_vec_DeltaK0, label=r'$\\Delta \\tilde{k}=0$', c='#005c2b')\n",
    "ax.plot(k_vec,h_vec_DeltaH0, label=r'$\\Delta \\tilde{h}=0$', c='#61ba89')\n",
    "ax.set_xlabel(r'$\\tilde{k}$')\n",
    "ax.set_ylabel(r'$\\tilde{h}$')\n",
    "ax.legend() \n",
    "\n",
    "#We mark the steady state\n",
    "plt.scatter(sol.x[1],sol.x[0],color='black',s=80,zorder=2.5)\n",
    "\n",
    "#Lines are drawn to mark ss-value on the axes\n",
    "plt.axvline(sol.x[1],ymax=0.7,color='gray',linestyle='--') \n",
    "plt.axhline(sol.x[0],xmax=0.7,color='gray',linestyle='--') \n",
    "\n",
    "#Text is added to the plot\n",
    "ax.text(1.15, 1.4, r'$\\tilde{k}^*, \\tilde{h}^*$', fontsize=12)\n",
    "\n",
    "#The axis values are chosen\n",
    "ax.set(xlim=(0, 2), ylim=(0, 2))\n",
    "\n",
    "ax.set_title('Phase diagram');"
   ]
  },
  {
   "cell_type": "markdown",
   "metadata": {},
   "source": [
    "Here the steady state occurs when the two nullclines intersect as illustrated above. The steady state values in the diagram are consistent with prior numerical and analytical results. "
   ]
  },
  {
   "cell_type": "markdown",
   "metadata": {},
   "source": [
    "We wish to see what happens, when the savings rate in human capital rises from its initial value"
   ]
  },
  {
   "cell_type": "code",
   "execution_count": null,
   "metadata": {},
   "outputs": [],
   "source": [
    "#We solve the function with the new value sh' = 0.12\n",
    "k_vec1,h_vec_DeltaK01, h_vec_DeltaH01 = solve_ss(0.12,sk,g,n,alpha,phi,delta)\n",
    "\n",
    "#We define our analytical solution with the new value sh' = 0.12\n",
    "analSolution2 = ss_func(0.12,sk,g,n,alpha,phi,delta)\n",
    "\n",
    "#Create the plot\n",
    "fig2 = plt.figure(figsize=(18,7))\n",
    "ax = fig2.add_subplot(1,2,1)\n",
    "ax.plot(k_vec,h_vec_DeltaK0, label=r'$\\Delta \\tilde{k}=0$', c='#005c2b')\n",
    "ax.plot(k_vec,h_vec_DeltaH0, label=r'$\\Delta \\tilde{h}=0$', c='#61ba89')\n",
    "ax.plot(k_vec1,h_vec_DeltaH01, label=r'$\\Delta \\tilde{h}´=0$', c='#a97ccc')\n",
    "ax.set_xlabel(r'$\\tilde{k}$')\n",
    "ax.set_ylabel(r'$\\tilde{h}$')\n",
    "ax.legend()\n",
    "#We mark the initial steady state\n",
    "plt.scatter(sol.x[1],sol.x[0],color='black',s=80,zorder=2.5) \n",
    "#We mark the new steady state\n",
    "plt.scatter(analSolution2[0],analSolution2[1],color='black',s=80,zorder=2.5)\n",
    "\n",
    "#Lines are drawn to mark the initial ss-value on the axes\n",
    "plt.axvline(sol.x[1],ymax=0.45,color='gray',linestyle='--') \n",
    "plt.axhline(sol.x[0],xmax=0.45,color='gray',linestyle='--')\n",
    "\n",
    "#Lines are drawn to mark the new ss-value on the axes\n",
    "plt.axvline(analSolution2[0],ymax=0.65,color='gray',linestyle='--')\n",
    "plt.axhline(analSolution2[1],xmax=0.55,color='gray',linestyle='--')\n",
    "\n",
    "#Text is added to the plot\n",
    "ax.text(1.4, 2.0, r'$\\tilde{k}^*, \\tilde{h}^*$', fontsize=12)\n",
    "ax.text(1.05, 1.4, r'$\\tilde{k}^*´, \\tilde{h}^*$´', fontsize=12)\n",
    "\n",
    "#The axis values are chosen\n",
    "ax.set(xlim=(0, 3), ylim=(0, 3)) \n",
    "\n",
    "ax.set_title('Phase diagram for $s_H$´ > $s_H$');"
   ]
  },
  {
   "cell_type": "markdown",
   "metadata": {},
   "source": [
    "The new phase diagram shows how the steady state values of both $\\tilde{h}$ and $\\tilde{k}$ rises as a result of the higher savings rate. The rise in the physical capital per capita, $\\tilde{k}$ is caused by the increase in the total savings of physical capital occuring as a result of the higher levels of $Y$ induced by the new, higher value of $H$."
   ]
  },
  {
   "cell_type": "markdown",
   "metadata": {},
   "source": [
    "## Golden rule"
   ]
  },
  {
   "cell_type": "markdown",
   "metadata": {},
   "source": [
    "We know that $\\tilde{y}_t^\\ast=\\tilde{k}_t^{\\ast \\alpha}\\tilde{h}_t^{\\ast \\varphi}$"
   ]
  },
  {
   "cell_type": "code",
   "execution_count": null,
   "metadata": {},
   "outputs": [],
   "source": [
    "#We define the y steady state function\n",
    "def y_ss(sh,sk,g,n,alpha,phi,delta):\n",
    "    \"\"\"args:\n",
    "    sh  (  float): Investments in human capital\n",
    "    sk     float): Investments in physical capital\n",
    "    g     (float): Growth in technology\n",
    "    n     (float): Growth in labour force\n",
    "    alpha (float): Return on physical capital\n",
    "    phi   (float): return on human capital\n",
    "    delta (float): depriciation rate\n",
    "    \n",
    "    Returns:\n",
    "    Steady state value for total income\n",
    "    \"\"\"\n",
    "    return ((sk**alpha*sh**(1-alpha))/(n+g+n*g+delta))**(alpha/(1-alpha-phi))*((sk**(1-phi)*sh**phi)/(n+g+n*g+delta))**(phi/(1-alpha-phi))\n",
    "\n",
    "print(y_ss(sh,sk,g,n,alpha,phi,delta))\n",
    "\n",
    "#We define the steady state function for c\n",
    "def c_ss(sh,sk,g,n,alpha,phi,delta):\n",
    "    \"\"\"args:\n",
    "    sh  (  float): Investments in human capital\n",
    "    sk     float): Investments in physical capital\n",
    "    g     (float): Growth in technology\n",
    "    n     (float): Growth in labour force\n",
    "    alpha (float): Return on physical capital\n",
    "    phi   (float): return on human capital\n",
    "    delta (float): depriciation rate\n",
    "    \n",
    "    Returns:\n",
    "    Golden rule for private consumption\n",
    "    \"\"\"\n",
    "    return (1-sk-sh)*((sk**alpha*sh**(1-alpha))/(n+g+n*g+delta))**(alpha/(1-alpha-phi))*((sk**(1-phi)*sh**phi)/(n+g+n*g+delta))**(phi/(1-alpha-phi)\n",
    "                                                                                                                                )"
   ]
  },
  {
   "cell_type": "code",
   "execution_count": null,
   "metadata": {},
   "outputs": [],
   "source": [
    "#We create a plot to show the variation in c when sh changes, all things equal\n",
    "\n",
    "#we make an empty list to collect the differenc c-values\n",
    "c_values = []\n",
    "c_x = []\n",
    "\n",
    "#We loop over different values of sh to find the corresponding values of c\n",
    "for i in np.arange(0,0.9,0.001):\n",
    "    c_values.append(c_ss(i,sk,g,n,alpha,phi,delta))\n",
    "    c_x.append(i)\n",
    "\n",
    "#Create the plot\n",
    "fig = plt.figure(figsize=(13,5))\n",
    "ax = fig.add_subplot(1,2,1)\n",
    "ax.plot(c_x,c_values, color='#a60550')\n",
    "ax.set_xlabel(r'$s_H$')\n",
    "ax.set_ylabel(r'$c^*$')\n",
    "\n",
    "#We mark the maximum value of c and the corresponding value of sh\n",
    "plt.axvline(0.45,ymax=0.95,color='gray',linestyle='--')\n",
    "plt.axhline(max(c_values),xmax=1,color='gray',linestyle='--')\n",
    "ax.set_title('$c^*$ for different $s_H$');"
   ]
  },
  {
   "cell_type": "code",
   "execution_count": null,
   "metadata": {},
   "outputs": [],
   "source": [
    "#We find the largest ss-value of consumption pr. worker\n",
    "print(f'The maximum private consumption per capita is: {max(c_values):.3f}')\n",
    "\n",
    "#We find the sh value resulting in the maximum c value\n",
    "print(f'The golden rule value of sh is: {(c_x[c_values.index(max(c_values))])}')"
   ]
  },
  {
   "cell_type": "markdown",
   "metadata": {},
   "source": [
    "The optimal savings rate that maximises consumption is thus 0.45, which can be considered to be quite high. It seems that the rise in production caused by the increased savings outweighs the consumption lost due to a higher savings rate."
   ]
  },
  {
   "cell_type": "markdown",
   "metadata": {},
   "source": [
    "## Simulation"
   ]
  },
  {
   "cell_type": "markdown",
   "metadata": {},
   "source": [
    "We want to simulate what happens when a permanent positive shock in $s_H$ occurs; when the savings of human capital rises permanently from a time period $t=2$ where $y_t=\\dfrac{Y_t}{L_t}$"
   ]
  },
  {
   "cell_type": "code",
   "execution_count": null,
   "metadata": {},
   "outputs": [],
   "source": [
    "#The initial values of our variables are defined\n",
    "A0, K0, H0, L0, Y0 = 1, 1, 1, 1, 1\n",
    "\n",
    "\n",
    "#We define the functions using variables for the first period\n",
    "Lt = (1+n)*L0\n",
    "Yt = K0**alpha*H0**phi*A0**(1-alpha-phi)\n",
    "\n",
    "#An empty list is made\n",
    "growthyt = []\n",
    "\n",
    "for i in range(200):\n",
    "    #A permanent shock to sh from period 2\n",
    "    if i <= 1:\n",
    "        sh = 0.1\n",
    "    else:\n",
    "        sh = 0.2\n",
    "        \n",
    "    #Y function in previous period\n",
    "    Ytm1 = Yt\n",
    "    \n",
    "    #L function in previous period\n",
    "    Ltm1 = Lt\n",
    "    \n",
    "    #y function in previous period\n",
    "    ytm1 = 0\n",
    "    ytm1 = Ytm1/Ltm1\n",
    "    \n",
    "    #K function in current period \n",
    "    Kt=sk*Ytm1+(1-delta)*K0\n",
    "    K0=Kt\n",
    "    \n",
    "    #H function in current period\n",
    "    Ht = sh*Ytm1+(1-delta)*H0\n",
    "    H0=Ht\n",
    "    \n",
    "    #A function in current period\n",
    "    At = (1+g)*A0\n",
    "    A0=At\n",
    "    \n",
    "    #L function in current period\n",
    "    Lt = (1+n)*L0\n",
    "    L0=Lt\n",
    "    \n",
    "    #Y function in current period\n",
    "    Yt=Kt**alpha*Ht**phi*At**(1-alpha-phi)\n",
    "    \n",
    "    #y function in current period\n",
    "    yt = Yt/Lt\n",
    "    \n",
    "    #We calculate the growth in yt using log\n",
    "    growthyt.append(np.log(yt)-np.log(ytm1))\n",
    "\n",
    "#Create the plot\n",
    "fig = plt.figure(figsize=(13,5))\n",
    "ax = fig.add_subplot(1,2,1)\n",
    "\n",
    "\n",
    "\n",
    "#We discard the first growth rate since ytm1 doesn't have a well defined value for period 0\n",
    "ax.plot(growthyt[1:], color='#076e62')\n",
    "\n",
    "plt.axhline(growthyt[199],xmax=1,color='gray',linestyle='--')\n",
    "\n",
    "ax.set_xlabel(r'time')\n",
    "ax.set_ylabel(r'growth in $y_t$')\n",
    "ax.set_title('Growth in $y_t$ with a permanent positive shock in $s_H$');"
   ]
  },
  {
   "cell_type": "markdown",
   "metadata": {},
   "source": [
    "The graph shows how an increase in the savings rate of human capital causes a spike in the growth rate in production per worker. From that point on, the growth subsides and continues to do so until a stable growth path is achieved."
   ]
  },
  {
   "cell_type": "markdown",
   "metadata": {},
   "source": [
    "# Conclusion"
   ]
  },
  {
   "cell_type": "markdown",
   "metadata": {},
   "source": [
    "Our calculations show that for our parameter values a steady state arises. In the basic Solow model the savings rate affects the steady state value positively. Likewise, the value of $s_H$ has a positive impact on the steady state values of $\\tilde{h}^*$ and $\\tilde{k}^*$, which is initially caused by a direct change in $\\tilde{h}^*$ from which a spillover effect occurs, affecting both $\\tilde{k}^*$ and production. Furthermore the consumption maximising value of $s_H$ is found to be $0.45$. The analysis also shows that different solving methods provides the same results in our case."
   ]
  }
 ],
 "metadata": {
  "kernelspec": {
   "display_name": "Python 3 (ipykernel)",
   "language": "python",
   "name": "python3"
  },
  "language_info": {
   "codemirror_mode": {
    "name": "ipython",
    "version": 3
   },
   "file_extension": ".py",
   "mimetype": "text/x-python",
   "name": "python",
   "nbconvert_exporter": "python",
   "pygments_lexer": "ipython3",
   "version": "3.9.13"
  },
  "toc-autonumbering": true
 },
 "nbformat": 4,
 "nbformat_minor": 4
}
