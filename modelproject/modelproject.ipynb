{
 "cells": [
  {
   "attachments": {},
   "cell_type": "markdown",
   "metadata": {
    "toc-hr-collapsed": true
   },
   "source": [
    "# The Solow model with land"
   ]
  },
  {
   "attachments": {},
   "cell_type": "markdown",
   "metadata": {},
   "source": [
    "Imports and set magics:"
   ]
  },
  {
   "cell_type": "code",
   "execution_count": 254,
   "metadata": {},
   "outputs": [
    {
     "name": "stdout",
     "output_type": "stream",
     "text": [
      "The autoreload extension is already loaded. To reload it, use:\n",
      "  %reload_ext autoreload\n"
     ]
    }
   ],
   "source": [
    "import numpy as np\n",
    "from scipy import optimize\n",
    "import sympy as sm\n",
    "from sympy import Symbol\n",
    "from sympy.solvers import solve\n",
    "sm.init_printing(use_unicode=True) # for pretty printing\n",
    "from IPython.display import display\n",
    "import matplotlib.pyplot as plt # baseline modul\n",
    "import ipywidgets as widgets\n",
    "\n",
    "# autoreload modules when code is run\n",
    "%load_ext autoreload\n",
    "%autoreload 2\n",
    "\n",
    "# local modules\n",
    "import modelproject"
   ]
  },
  {
   "attachments": {},
   "cell_type": "markdown",
   "metadata": {},
   "source": [
    "The **Solow model with land** contains:\n",
    "\n",
    "* $K_t$ is capital\n",
    "* $L_t$ is labor\n",
    "* $A_t$ is technology\n",
    "* $X$ is land\n",
    "* $Y_t = F(K_t,A_tL_t,X)$ is GDP\n",
    "\n",
    "**GDP** is defined as\n",
    "\n",
    "$ Y_{t}=K_{t}^{\\alpha}(A_{t}L_{t})^{\\beta}X^{\\kappa}$\n",
    "\n",
    "**Saving** is a constant fraction of GDP\n",
    "\n",
    "$ S_t = sY_t,\\, s\\in(0,1) $\n",
    "\n",
    "such that **capital accumulates** according to\n",
    "\n",
    "$ K_{t+1}=sY_t+(1-\\delta)K_t $\n",
    "\n",
    "**Labour and technology accoumulates** as\n",
    "\n",
    "$ L_{t+1} = (1+n)L_t $\n",
    "\n",
    "$ A_{t+1} = (1+g)A_t $\n",
    "\n",
    "The transition equation then normally becomes\n",
    "\n",
    "$ \\tilde{k}_{t+1}= \\frac{1}{(1+n)(1+g)}[\\tilde{k}_{t}^{\\alpha}(\\frac{X}{A_tL_t})^\\kappa+(1-\\delta)\\tilde{k}_{t}] $\n",
    "\n",
    "where $\\tilde{k}_{t}= \\dfrac{K_t}{A_tL_t}$\n",
    "\n",
    "But in this case we need to look at the capital-output ratio, so the **transition equation** becomes\n",
    "\n",
    "$ z_{t+1} = \\frac{K_{t+1}}{Y_{t+1}} = \\frac{K_{t+1}}{K_{t+1}^{\\alpha}(A_{t+1}L_{t+1})^{\\beta}X^{\\kappa}} = \\frac{K_{t+1}^{1-\\alpha}}{(A_{t+1}L_{t+1})^{\\beta}X^{\\kappa}} \\rightarrow z_{t+1} = \\frac{1}{((1+g)(1+n))^\\beta}(s+z_t(1-\\delta))^{1-\\alpha}z_t^\\alpha$"
   ]
  },
  {
   "attachments": {},
   "cell_type": "markdown",
   "metadata": {},
   "source": [
    "# Steady state"
   ]
  },
  {
   "attachments": {},
   "cell_type": "markdown",
   "metadata": {},
   "source": [
    "## Analytical solution"
   ]
  },
  {
   "attachments": {},
   "cell_type": "markdown",
   "metadata": {},
   "source": [
    "We use **sympy** to find an analytical expression for the steady state, i.e. solve\n",
    "\n",
    "$$ z^{\\ast} = \\frac{1}{((1+g)(1+n))^\\beta}(s+z^{\\ast}(1-\\delta))^{1-\\alpha}(z^{\\ast})^\\alpha $$"
   ]
  },
  {
   "cell_type": "code",
   "execution_count": 255,
   "metadata": {},
   "outputs": [],
   "source": [
    "#We define all symbols\n",
    "k = sm.symbols('k') #physical capital\n",
    "X = sm.symbols('X') #land\n",
    "z = sm.symbols('z') # #physical capital/GDP ratio\n",
    "alpha = sm.symbols('alpha') #return on physical capital\n",
    "beta = sm.symbols('beta') #labour force income share\n",
    "kappa = sm.symbols('kappa') #return on land\n",
    "delta = sm.symbols('delta') #depreciation rate on capital\n",
    "s = sm.symbols('s') #savings/investment rate\n",
    "g = sm.symbols('g') #growth in technology\n",
    "n = sm.symbols('n') #growth in labour force"
   ]
  },
  {
   "cell_type": "code",
   "execution_count": 256,
   "metadata": {},
   "outputs": [
    {
     "name": "stdout",
     "output_type": "stream",
     "text": [
      "Sympy cannot solve the equation\n"
     ]
    }
   ],
   "source": [
    "try:\n",
    "    ss = sm.Eq(((s+z*(1-delta))**(1-alpha)*z**alpha)/(((1+g)*(1+n))**beta),z)\n",
    "    ssz = sm.solve(ss,z)\n",
    "    ssz\n",
    "    pass\n",
    "except:\n",
    "    print(\"Sympy cannot solve the equation\")"
   ]
  },
  {
   "attachments": {},
   "cell_type": "markdown",
   "metadata": {},
   "source": [
    "We want to compare our analytical solution to the numerical solution, therefore we now solve the steady state manually instead"
   ]
  },
  {
   "attachments": {},
   "cell_type": "markdown",
   "metadata": {},
   "source": [
    "When using $ 1 - \\alpha = \\beta + \\kappa $, this can be reduced to:"
   ]
  },
  {
   "attachments": {},
   "cell_type": "markdown",
   "metadata": {},
   "source": [
    "$$ z_t = z = z^{\\ast} = \\frac{s}{((1+g)(1+n))^\\frac{\\beta}{\\beta+\\kappa}-(1-\\delta)} $$"
   ]
  },
  {
   "cell_type": "code",
   "execution_count": 257,
   "metadata": {},
   "outputs": [
    {
     "data": {
      "image/png": "[encoded data removed]",
      "text/latex": [
       "$\\displaystyle \\frac{s}{\\delta + \\left(\\left(g + 1\\right) \\left(n + 1\\right)\\right)^{\\frac{\\beta}{\\beta + \\kappa}} - 1} = z$"
      ],
      "text/plain": [
       "              s                   \n",
       "────────────────────────────── = z\n",
       "                       β          \n",
       "                     ─────        \n",
       "                     β + κ        \n",
       "δ + ((g + 1)⋅(n + 1))      - 1    "
      ]
     },
     "execution_count": 257,
     "metadata": {},
     "output_type": "execute_result"
    }
   ],
   "source": [
    "zss = sm.Eq(s/(((1+g)*(1+n))**(beta/(beta+kappa))-(1-delta)),z)\n",
    "zss"
   ]
  },
  {
   "attachments": {},
   "cell_type": "markdown",
   "metadata": {},
   "source": [
    "We rewrite the equation for the steady state as\n",
    "\n",
    "$ 0 = \\frac{s}{((1+g)(1+n))^\\frac{\\beta}{\\beta+\\kappa}-(1-\\delta)} -z^{\\ast} $\n",
    "\n",
    "\n",
    "now it is a root-finding problem."
   ]
  },
  {
   "cell_type": "code",
   "execution_count": 258,
   "metadata": {},
   "outputs": [],
   "source": [
    "#We define model parameters as plausible empirical values\n",
    "s = 0.2\n",
    "g = 0.02\n",
    "n = 0.01\n",
    "beta = 0.6\n",
    "kappa = 0.2\n",
    "alpha = 0.2\n",
    "delta = 0.06"
   ]
  },
  {
   "cell_type": "code",
   "execution_count": 259,
   "metadata": {},
   "outputs": [
    {
     "data": {
      "image/png": "[encoded data removed]",
      "text/latex": [
       "$\\displaystyle 2.42231765808218$"
      ],
      "text/plain": [
       "2.422317658082178"
      ]
     },
     "execution_count": 259,
     "metadata": {},
     "output_type": "execute_result"
    }
   ],
   "source": [
    "zstar = s/(((1+g)*(1+n))**((beta)/((beta)+(kappa)))-(1-delta))\n",
    "zstar"
   ]
  },
  {
   "attachments": {},
   "cell_type": "markdown",
   "metadata": {},
   "source": [
    "Our analytically solved steady state is 2.422."
   ]
  },
  {
   "attachments": {},
   "cell_type": "markdown",
   "metadata": {},
   "source": [
    "## Numerical solution"
   ]
  },
  {
   "attachments": {},
   "cell_type": "markdown",
   "metadata": {},
   "source": [
    "We da a simulation-based optimization using the objective function that is subject to constraints. It can be evaluated through a stochastic simulation, which will result in the numerical solution.\n",
    "\n",
    "The optimization algorith begins by making a pool of possible solutions based on the variables. The algorith makes sure there is no violations of constraints and gives the optimial solution."
   ]
  },
  {
   "cell_type": "code",
   "execution_count": 260,
   "metadata": {},
   "outputs": [
    {
     "name": "stdout",
     "output_type": "stream",
     "text": [
      "SS: 2.422314240831781\n"
     ]
    }
   ],
   "source": [
    "def sim(s = 0.2):\n",
    "    #s = 0.2\n",
    "    g = 0.02\n",
    "    n = 0.01\n",
    "    beta = 0.6\n",
    "    kappa = 0.2\n",
    "    alpha = 0.2\n",
    "    delta = 0.06\n",
    "    X = 0.5\n",
    "\n",
    "    def prod(K, A, L, X):\n",
    "        return K ** alpha * (A * L) ** beta * X ** kappa\n",
    "\n",
    "    T = 200\n",
    "    Ks = np.zeros(T)\n",
    "    Ys = np.zeros(T)\n",
    "    Ls = np.zeros(T)\n",
    "    As = np.zeros(T)\n",
    "    Zs = np.zeros(T)\n",
    "\n",
    "    Ks[0] = 0.5\n",
    "    Ls[0] = 1.0\n",
    "    As[0] = 2.0\n",
    "    Ys[0] = prod(Ks[0], As[0], Ls[0], X)\n",
    "    for t in range(1, T):\n",
    "        Ks[t] = s * Ys[t-1] + (1 - delta) * Ks[t-1] \n",
    "        Ls[t] = (1 + n) * Ls[t-1]\n",
    "        As[t] = (1 + g) * As[t-1]\n",
    "        Ys[t] = prod(Ks[t], As[t], Ls[t], X)\n",
    "\n",
    "    Zs = Ks / Ys\n",
    "    return Ks, Ys, Ls, As, Zs\n",
    "\n",
    "Ks, Ys, Ls, As, Zs = sim()\n",
    "# SS must be last value **care only if we converge before 200 periods #\n",
    "print(f'SS: {Zs[199]}')"
   ]
  },
  {
   "attachments": {},
   "cell_type": "markdown",
   "metadata": {},
   "source": [
    "As expected, the numerical solution and the analytical solution is the same.\n",
    "\n",
    "We now illustrate the simulated path for z over time:"
   ]
  },
  {
   "cell_type": "code",
   "execution_count": 261,
   "metadata": {},
   "outputs": [
    {
     "data": {
      "image/png": "[encoded data removed]",
      "text/plain": [
       "<Figure size 1300x500 with 1 Axes>"
      ]
     },
     "metadata": {},
     "output_type": "display_data"
    }
   ],
   "source": [
    "fig = plt.figure(figsize=(13,5))\n",
    "ax = fig.add_subplot(1,2,1)\n",
    "ax.plot(Zs)\n",
    "ax.set_xlabel(r'$t$')\n",
    "ax.set_ylabel(r'$z_t$')\n",
    "\n",
    "ax.set_title('Simulated path, z');"
   ]
  },
  {
   "attachments": {},
   "cell_type": "markdown",
   "metadata": {},
   "source": [
    "We can see that z converges towards steady state over time."
   ]
  },
  {
   "attachments": {},
   "cell_type": "markdown",
   "metadata": {},
   "source": [
    "# Solow-diagram"
   ]
  },
  {
   "cell_type": "code",
   "execution_count": 262,
   "metadata": {},
   "outputs": [],
   "source": [
    "def z_func(s,g,n,alpha,beta,delta,time):\n",
    "    \"\"\"\n",
    "    args:\n",
    "    s     (float): Investments\n",
    "    g     (float): Growth in technology\n",
    "    n     (float): Growth in labour force\n",
    "    delta (float): Depreciation rate \n",
    "    alpha (float): Return on physical capital\n",
    "    beta  (float): Labour force income share\n",
    "    time    (int): Periods\n",
    "    \n",
    "    Returns:\n",
    "    The solow diagram with a diagonal line and the growth path of z\"\"\"\n",
    "    \n",
    "    #An emty list is made to contain the k values\n",
    "    z_growth = [z]\n",
    "    \n",
    "    #An empty list is made to contain the diagonal line\n",
    "    diagonal = [0]\n",
    "\n",
    "\n",
    "    #45 degree line\n",
    "    for t in range(1,time):\n",
    "        line = (n+delta+g+n*g)*t\n",
    "        diagonal.append(line)\n",
    "\n",
    "        \n",
    "    #We generate the growth in capital\n",
    "    for t in range(1,time):\n",
    "        z_tp1 = ((s)**(1-alpha)*t**alpha)\n",
    "        z_growth.append(z_tp1)\n",
    "    \n",
    "    #Create the plot\n",
    "    plt.rcParams['axes.facecolor'] = 'white'\n",
    "    plt.figure(figsize=(6,6))\n",
    "    plt.plot(z_growth[:time], label=r'$s^{1-\\alpha}z_t^{\\alpha}$', color = 'blue')\n",
    "    plt.plot(diagonal[:time], label = r'$(n+\\delta+g+ng)z_t$', color = 'red')\n",
    "    plt.xlim(0,time)\n",
    "    plt.ylim(0,diagonal[-1])\n",
    "    plt.xlabel('$z_t$')\n",
    "    plt.legend()\n",
    "    plt.title('Solow diagram')\n",
    "    \n",
    "    return plt.show()"
   ]
  },
  {
   "cell_type": "code",
   "execution_count": 263,
   "metadata": {},
   "outputs": [
    {
     "data": {
      "application/vnd.jupyter.widget-view+json": {
       "model_id": "b781b7cedfe9446394d605ada38f15bf",
       "version_major": 2,
       "version_minor": 0
      },
      "text/plain": [
       "interactive(children=(FloatSlider(value=0.2, description='$s$', max=0.8, min=0.01, step=0.05), FloatSlider(val…"
      ]
     },
     "metadata": {},
     "output_type": "display_data"
    },
    {
     "data": {
      "text/plain": [
       "<function __main__.z_func(s, g, n, alpha, beta, delta, time)>"
      ]
     },
     "execution_count": 263,
     "metadata": {},
     "output_type": "execute_result"
    },
    {
     "data": {
      "image/png": "[encoded data removed]",
      "text/plain": [
       "<Figure size 600x600 with 1 Axes>"
      ]
     },
     "metadata": {},
     "output_type": "display_data"
    }
   ],
   "source": [
    "widgets.interact(z_func, \n",
    "                z = widgets.fixed(0), \n",
    "                alpha = widgets.FloatSlider(description = r'$\\alpha$', min = 0, max = 0.9, step = 0.05, value = 0.2),\n",
    "                delta = widgets.FloatSlider(description = r'$\\delta$', min = 0, max = 0.1, step = 0.01, value = 0.06),\n",
    "                s = widgets.FloatSlider(description = '$s$', min = 0.01, max = 0.8, step = 0.05, value = 0.2),\n",
    "                n = widgets.FloatSlider(description ='$n$', min = 0.01, max = 0.1, step = 0.005, value = 0.01),\n",
    "                g = widgets.FloatSlider(description ='$g$', min = 0.02, max = 0.2, step = 0.005, value = 0.02),\n",
    "                beta = widgets.fixed(2/3),\n",
    "                time = widgets.IntSlider(description='time', min = 1, max = 1000, step = 10, value = 30))"
   ]
  },
  {
   "attachments": {},
   "cell_type": "markdown",
   "metadata": {},
   "source": [
    "The Solow diagram visualize how the steady state changes with different parameter values. For example, an increase in s (the saving rate) results in a higher value for the steady state, while a higher delta (depreciation rate on capital) results in a lower steady state value."
   ]
  },
  {
   "attachments": {},
   "cell_type": "markdown",
   "metadata": {},
   "source": [
    "# Golden Rule"
   ]
  },
  {
   "attachments": {},
   "cell_type": "markdown",
   "metadata": {},
   "source": [
    "We calculate the golden rule for  private consumption for the Solow model with land."
   ]
  },
  {
   "cell_type": "code",
   "execution_count": null,
   "metadata": {},
   "outputs": [],
   "source": [
    "ss = np.linspace(0.01, 0.9, 100)\n",
    "\n",
    "cs = []\n",
    "for s in ss: \n",
    "    Ks, Ys, Ls, As, Zs = sim(s)\n",
    "    y = Ys / Ls\n",
    "    cs.append( (1 - s) * y[50]  )\n",
    "\n",
    "\n",
    "fig = plt.figure(figsize=(13,5))\n",
    "ax = fig.add_subplot(1,2,1)\n",
    "ax.plot(ss,cs, color='#a60550')\n",
    "ax.set_xlabel(r'$s$')\n",
    "ax.set_ylabel(r'$c^*$')\n",
    "\n",
    "# ss[cs.index(max(cs))]\n",
    "# -> finds value in s grid for the max c value\n",
    "plt.axvline(ss[cs.index(max(cs))],ymax=0.95,color='gray',linestyle='--')\n",
    "plt.axhline(max(cs),xmax=1,color='gray',linestyle='--')\n",
    "ax.set_title('$c^*$ for different $s$');"
   ]
  },
  {
   "cell_type": "code",
   "execution_count": null,
   "metadata": {},
   "outputs": [],
   "source": [
    "#We find the largest ss-value of consumption pr. worker\n",
    "print(f'The maximum private consumption per capita is: {max(cs):.3f}')\n",
    "\n",
    "#We find the sh value resulting in the maximum c value\n",
    "print(f'The golden rule value of s is: {(ss[cs.index(max(cs))]):.3f}')"
   ]
  },
  {
   "attachments": {},
   "cell_type": "markdown",
   "metadata": {},
   "source": [
    "The savings rate that maximises private consumption is 0.199, which is close value used throughout this project and can be empirically considered a normal saving rate."
   ]
  },
  {
   "attachments": {},
   "cell_type": "markdown",
   "metadata": {},
   "source": [
    "# Conclusion"
   ]
  },
  {
   "attachments": {},
   "cell_type": "markdown",
   "metadata": {},
   "source": [
    "We have investigated a Solow model with land. With our chosen parameter values, a steady state arises with a value of 2.422 with both a analytical and numerical approach. Further investigations show the influence of the parameter values. Finally, we find the golden rule, which have golden rule saving rate value of 0.199 and a maximum private consumption per capita at 2.6."
   ]
  }
 ],
 "metadata": {
  "kernelspec": {
   "display_name": "Python 3 (ipykernel)",
   "language": "python",
   "name": "python3"
  },
  "language_info": {
   "codemirror_mode": {
    "name": "ipython",
    "version": 3
   },
   "file_extension": ".py",
   "mimetype": "text/x-python",
   "name": "python",
   "nbconvert_exporter": "python",
   "pygments_lexer": "ipython3",
   "version": "3.9.13"
  },
  "toc-autonumbering": true
 },
 "nbformat": 4,
 "nbformat_minor": 4
}
