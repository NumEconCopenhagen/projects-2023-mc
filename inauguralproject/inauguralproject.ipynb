{
 "cells": [
  {
   "cell_type": "markdown",
   "metadata": {},
   "source": [
    "# Inaugural Project"
   ]
  },
  {
   "attachments": {},
   "cell_type": "markdown",
   "metadata": {},
   "source": [
    "> **Note the following:** \n",
    "> 1. This is an example of how to structure your **inaugural project**.\n",
    "> 1. Remember the general advice on structuring and commenting your code\n",
    "> 1. The `inauguralproject.py` file includes a function which can be used multiple times in this notebook."
   ]
  },
  {
   "cell_type": "markdown",
   "metadata": {},
   "source": [
    "Imports and set magics:"
   ]
  },
  {
   "cell_type": "code",
   "execution_count": 238,
   "metadata": {},
   "outputs": [
    {
     "name": "stdout",
     "output_type": "stream",
     "text": [
      "The autoreload extension is already loaded. To reload it, use:\n",
      "  %reload_ext autoreload\n"
     ]
    }
   ],
   "source": [
    "import numpy as np\n",
    "\n",
    "# autoreload modules when code is run. Otherwise, python will not see recent changes. \n",
    "%load_ext autoreload\n",
    "%autoreload 2\n",
    "\n",
    "\n",
    "# Import your own code\n",
    "import inauguralproject\n"
   ]
  },
  {
   "attachments": {},
   "cell_type": "markdown",
   "metadata": {},
   "source": [
    "# Question 1"
   ]
  },
  {
   "cell_type": "markdown",
   "metadata": {},
   "source": [
    "**Explain how you solve the model**"
   ]
  },
  {
   "cell_type": "code",
   "execution_count": 239,
   "metadata": {},
   "outputs": [
    {
     "name": "stderr",
     "output_type": "stream",
     "text": [
      "/Users/clarajensen/projects-2023-mc/inauguralproject/inauguralproject.py:64: RuntimeWarning: divide by zero encountered in reciprocal\n",
      "  TM = LM+HM\n",
      "/Users/clarajensen/projects-2023-mc/inauguralproject/inauguralproject.py:64: RuntimeWarning: invalid value encountered in reciprocal\n",
      "  TM = LM+HM\n",
      "/Users/clarajensen/projects-2023-mc/inauguralproject/inauguralproject.py:68: RuntimeWarning: invalid value encountered in reciprocal\n",
      "  return utility - disutility\n"
     ]
    },
    {
     "name": "stdout",
     "output_type": "stream",
     "text": [
      "          0       1       2\n",
      "  0   0.5455  0.3077  0.2143\n",
      "  1   1.0000  1.0000  1.0000\n",
      "  2   1.8333  3.2500  4.6667\n"
     ]
    }
   ],
   "source": [
    "\n",
    "from inauguralproject import HouseholdSpecializationModelClass as HSMC\n",
    "\n",
    "alpha = [0.25,0.5,0.75]\n",
    "sigma = [0.5,1,1.5]\n",
    "function = HSMC() \n",
    "\n",
    "def print_table(alpha, sigma):\n",
    "    \n",
    "    table = ''\n",
    "    \n",
    "    table += f'{\"\":3s}'\n",
    "    for j, HF in enumerate(sigma):\n",
    "       table += f'{j:8d}' \n",
    "    table += '\\n'\n",
    "    \n",
    "    for i, a in enumerate(alpha):\n",
    "        if i > 0:\n",
    "            table += '\\n'\n",
    "        table += f'{i:3d} '\n",
    "        for j, s in enumerate(sigma):\n",
    "            function.par.alpha = a\n",
    "            function.par.sigma = s\n",
    "            HM = function.solve_discrete().HM\n",
    "            HF = function.solve_discrete().HF\n",
    "            table += f'{HF/HM:8.4f}'\n",
    "    \n",
    "    # d. print\n",
    "    print(table)\n",
    "\n",
    "print_table(alpha,sigma)"
   ]
  },
  {
   "cell_type": "markdown",
   "metadata": {},
   "source": [
    "# Question 2"
   ]
  },
  {
   "cell_type": "markdown",
   "metadata": {},
   "source": [
    "Explain your code and procedure"
   ]
  },
  {
   "cell_type": "code",
   "execution_count": 240,
   "metadata": {},
   "outputs": [
    {
     "name": "stdout",
     "output_type": "stream",
     "text": [
      "[-0.22314355 -0.10536052  0.          0.09531018  0.18232156]\n"
     ]
    }
   ],
   "source": [
    "xvalues=np.log(model.par.wF_vec)\n",
    "print(xvalues)"
   ]
  },
  {
   "cell_type": "code",
   "execution_count": 241,
   "metadata": {},
   "outputs": [
    {
     "name": "stdout",
     "output_type": "stream",
     "text": [
      "0.22314355131420976\n",
      "0.0\n",
      "0.0\n",
      "-0.11778303565638351\n",
      "-0.2231435513142097\n"
     ]
    }
   ],
   "source": [
    "for i in range(5):\n",
    "        model.par.wF = model.par.wF_vec[i]\n",
    "        results = model.solve_discrete()\n",
    "        \n",
    "        yvalues = np.log(results.HF/results.HM)\n",
    "\n",
    "        print(yvalues)\n"
   ]
  },
  {
   "cell_type": "code",
   "execution_count": 242,
   "metadata": {},
   "outputs": [
    {
     "data": {
      "image/png": "[encoded data removed]",
      "text/plain": [
       "<Figure size 640x480 with 1 Axes>"
      ]
     },
     "metadata": {},
     "output_type": "display_data"
    }
   ],
   "source": [
    "# b. plot\n",
    "fig = plt.figure()\n",
    "\n",
    "ax = fig.add_subplot(1,1,1)\n",
    "\n",
    "ax.plot(xvalues,[0.22314355131420976, 0.0, 0.0, -0.11778303565638351, -0.2231435513142097])\n",
    "\n",
    "ax.set_title('Figure 1')\n",
    "ax.set_xlabel('$Log(wF/wM)$')\n",
    "ax.set_ylabel('$Log(HF/HM)$');"
   ]
  },
  {
   "cell_type": "markdown",
   "metadata": {},
   "source": [
    "# Question 3"
   ]
  },
  {
   "cell_type": "markdown",
   "metadata": {},
   "source": [
    "Explain your code and procedure"
   ]
  },
  {
   "cell_type": "code",
   "execution_count": 247,
   "metadata": {},
   "outputs": [
    {
     "ename": "AttributeError",
     "evalue": "'NoneType' object has no attribute 'HF'",
     "output_type": "error",
     "traceback": [
      "\u001b[0;31m---------------------------------------------------------------------------\u001b[0m",
      "\u001b[0;31mAttributeError\u001b[0m                            Traceback (most recent call last)",
      "\u001b[0;32m/var/folders/b7/xr_h9h1s35l0rntn_yj3w_9h0000gn/T/ipykernel_92743/2465683843.py\u001b[0m in \u001b[0;36m<module>\u001b[0;34m\u001b[0m\n\u001b[1;32m     12\u001b[0m         \u001b[0mresults\u001b[0m \u001b[0;34m=\u001b[0m \u001b[0mmodel\u001b[0m\u001b[0;34m.\u001b[0m\u001b[0msolve\u001b[0m\u001b[0;34m(\u001b[0m\u001b[0;34m)\u001b[0m\u001b[0;34m\u001b[0m\u001b[0;34m\u001b[0m\u001b[0m\n\u001b[1;32m     13\u001b[0m \u001b[0;34m\u001b[0m\u001b[0m\n\u001b[0;32m---> 14\u001b[0;31m         \u001b[0mratio\u001b[0m \u001b[0;34m=\u001b[0m \u001b[0mnp\u001b[0m\u001b[0;34m.\u001b[0m\u001b[0mlog\u001b[0m\u001b[0;34m(\u001b[0m\u001b[0mresults\u001b[0m\u001b[0;34m.\u001b[0m\u001b[0mHF\u001b[0m\u001b[0;34m/\u001b[0m\u001b[0mresults\u001b[0m\u001b[0;34m.\u001b[0m\u001b[0mHM\u001b[0m\u001b[0;34m)\u001b[0m\u001b[0;34m\u001b[0m\u001b[0;34m\u001b[0m\u001b[0m\n\u001b[0m\u001b[1;32m     15\u001b[0m         \u001b[0mprint\u001b[0m\u001b[0;34m(\u001b[0m\u001b[0mratio\u001b[0m\u001b[0;34m)\u001b[0m\u001b[0;34m\u001b[0m\u001b[0;34m\u001b[0m\u001b[0m\n\u001b[1;32m     16\u001b[0m         \u001b[0mratios\u001b[0m\u001b[0;34m.\u001b[0m\u001b[0mappend\u001b[0m\u001b[0;34m(\u001b[0m\u001b[0mratio\u001b[0m\u001b[0;34m)\u001b[0m\u001b[0;34m\u001b[0m\u001b[0;34m\u001b[0m\u001b[0m\n",
      "\u001b[0;31mAttributeError\u001b[0m: 'NoneType' object has no attribute 'HF'"
     ]
    }
   ],
   "source": [
    "model.solve()\n",
    "\n",
    "model.par.alpha=0.5\n",
    "model.par.sigma=1\n",
    "\n",
    "# Append to ratios with each iteration\n",
    "ratios = []\n",
    "for i in range(5):\n",
    "        model.par.wF = model.par.wF_vec[i]\n",
    "        results = model.solve()\n",
    "        \n",
    "        ratio = np.log(results.HF/results.HM) \n",
    "        print(ratio)\n",
    "        ratios.append(ratio)\n",
    "\n",
    "log_WF_WM=np.log(model.par.wF_vec)\n",
    "print(ratios)\n",
    "print(log_WF_WM)"
   ]
  },
  {
   "cell_type": "code",
   "execution_count": 248,
   "metadata": {},
   "outputs": [
    {
     "ename": "AttributeError",
     "evalue": "'NoneType' object has no attribute 'HF'",
     "output_type": "error",
     "traceback": [
      "\u001b[0;31m---------------------------------------------------------------------------\u001b[0m",
      "\u001b[0;31mAttributeError\u001b[0m                            Traceback (most recent call last)",
      "\u001b[0;32m/var/folders/b7/xr_h9h1s35l0rntn_yj3w_9h0000gn/T/ipykernel_92743/813265818.py\u001b[0m in \u001b[0;36m<module>\u001b[0;34m\u001b[0m\n\u001b[1;32m      9\u001b[0m     \u001b[0mresultsc\u001b[0m \u001b[0;34m=\u001b[0m\u001b[0mmodel\u001b[0m\u001b[0;34m.\u001b[0m\u001b[0msolve\u001b[0m\u001b[0;34m(\u001b[0m\u001b[0;34m)\u001b[0m\u001b[0;34m\u001b[0m\u001b[0;34m\u001b[0m\u001b[0m\n\u001b[1;32m     10\u001b[0m     \u001b[0;31m# iii. append the log(HF/HM) til the list 'logratioHc'\u001b[0m\u001b[0;34m\u001b[0m\u001b[0;34m\u001b[0m\u001b[0m\n\u001b[0;32m---> 11\u001b[0;31m     \u001b[0mlogratioHc\u001b[0m\u001b[0;34m.\u001b[0m\u001b[0mappend\u001b[0m\u001b[0;34m(\u001b[0m\u001b[0mnp\u001b[0m\u001b[0;34m.\u001b[0m\u001b[0mlog\u001b[0m\u001b[0;34m(\u001b[0m\u001b[0mresultsc\u001b[0m\u001b[0;34m.\u001b[0m\u001b[0mHF\u001b[0m\u001b[0;34m/\u001b[0m\u001b[0mresultsc\u001b[0m\u001b[0;34m.\u001b[0m\u001b[0mHM\u001b[0m\u001b[0;34m)\u001b[0m\u001b[0;34m)\u001b[0m\u001b[0;34m\u001b[0m\u001b[0;34m\u001b[0m\u001b[0m\n\u001b[0m\u001b[1;32m     12\u001b[0m     \u001b[0;31m# iv. append the log(wF/wM) til the list 'logratiowc'\u001b[0m\u001b[0;34m\u001b[0m\u001b[0;34m\u001b[0m\u001b[0m\n\u001b[1;32m     13\u001b[0m     \u001b[0mlogratiowc\u001b[0m\u001b[0;34m.\u001b[0m\u001b[0mappend\u001b[0m\u001b[0;34m(\u001b[0m\u001b[0mnp\u001b[0m\u001b[0;34m.\u001b[0m\u001b[0mlog\u001b[0m\u001b[0;34m(\u001b[0m\u001b[0mi\u001b[0m\u001b[0;34m/\u001b[0m\u001b[0mmodel\u001b[0m\u001b[0;34m.\u001b[0m\u001b[0mpar\u001b[0m\u001b[0;34m.\u001b[0m\u001b[0mwM\u001b[0m\u001b[0;34m)\u001b[0m\u001b[0;34m)\u001b[0m\u001b[0;34m\u001b[0m\u001b[0;34m\u001b[0m\u001b[0m\n",
      "\u001b[0;31mAttributeError\u001b[0m: 'NoneType' object has no attribute 'HF'"
     ]
    }
   ],
   "source": [
    "logratioHc=[]\n",
    "logratiowc=[]\n",
    "\n",
    "# b. loop over every wF, solve the model and adds the result to the empty lists \n",
    "for i in model.par.wF_vec:\n",
    "    # i. set the wF = i\n",
    "    model.par.wF = i\n",
    "    # ii. use 'solve' from the class to find the results and store en 'resultsc'\n",
    "    resultsc =model.solve()\n",
    "    # iii. append the log(HF/HM) til the list 'logratioHc' \n",
    "    logratioHc.append(np.log(resultsc.HF/resultsc.HM))\n",
    "    # iv. append the log(wF/wM) til the list 'logratiowc' \n",
    "    logratiowc.append(np.log(i/model.par.wM))\n",
    "\n",
    "# c. construct a dataframe to contain H and w log ratios for every wF\n",
    "plot_dfc = pd.DataFrame({\"wf\": model.par.wF_vec, \"H ratio\": np.round(logratioHc, 4), \"w ratio\": np.round(logratiowc, 4)})\n",
    "plot_dfc\n",
    "\n",
    "# d. illustrate the relationship between 'logratioH' and 'logratiow' for given wF using the 'plot_illustration' function\n",
    "model.plot_illustration(plot_dfc)"
   ]
  },
  {
   "attachments": {},
   "cell_type": "markdown",
   "metadata": {},
   "source": []
  },
  {
   "cell_type": "markdown",
   "metadata": {},
   "source": [
    "ADD CONCISE CONLUSION."
   ]
  }
 ],
 "metadata": {
  "kernelspec": {
   "display_name": "base",
   "language": "python",
   "name": "python3"
  },
  "language_info": {
   "codemirror_mode": {
    "name": "ipython",
    "version": 3
   },
   "file_extension": ".py",
   "mimetype": "text/x-python",
   "name": "python",
   "nbconvert_exporter": "python",
   "pygments_lexer": "ipython3",
   "version": "3.9.13"
  },
  "toc-autonumbering": true,
  "vscode": {
   "interpreter": {
    "hash": "47ef90cdf3004d3f859f1fb202523c65c07ba7c22eefd261b181f4744e2d0403"
   }
  }
 },
 "nbformat": 4,
 "nbformat_minor": 4
}
