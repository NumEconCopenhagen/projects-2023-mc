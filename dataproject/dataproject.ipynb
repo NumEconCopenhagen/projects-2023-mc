{
 "cells": [
  {
   "cell_type": "markdown",
   "metadata": {},
   "source": [
    "# YOUR PROJECT TITLE"
   ]
  },
  {
   "attachments": {},
   "cell_type": "markdown",
   "metadata": {},
   "source": [
    "> **Note the following:** \n",
    "> 1. This is *not* meant to be an example of an actual **data analysis project**, just an example of how to structure such a project.\n",
    "> 1. Remember the general advice on structuring and commenting your code\n",
    "> 1. The `dataproject.py` file includes a function which can be used multiple times in this notebook."
   ]
  },
  {
   "cell_type": "markdown",
   "metadata": {},
   "source": [
    "Imports and set magics:"
   ]
  },
  {
   "cell_type": "code",
   "execution_count": 284,
   "metadata": {},
   "outputs": [
    {
     "name": "stdout",
     "output_type": "stream",
     "text": [
      "The autoreload extension is already loaded. To reload it, use:\n",
      "  %reload_ext autoreload\n"
     ]
    }
   ],
   "source": [
    "import pandas as pd\n",
    "import numpy as np\n",
    "import matplotlib.pyplot as plt\n",
    "import ipywidgets as widgets\n",
    "from matplotlib_venn import venn2\n",
    "import pandas_datareader \n",
    "import plotly.express as px\n",
    "import plotly.graph_objects as go\n",
    "\n",
    "# autoreload modules when code is run\n",
    "%load_ext autoreload\n",
    "%autoreload 2\n",
    "\n",
    "# user written modules\n",
    "import dataproject\n"
   ]
  },
  {
   "cell_type": "markdown",
   "metadata": {},
   "source": [
    "# Read and clean data"
   ]
  },
  {
   "cell_type": "markdown",
   "metadata": {},
   "source": [
    "Import your data, either through an API or manually, and load it. "
   ]
  },
  {
   "cell_type": "code",
   "execution_count": 285,
   "metadata": {},
   "outputs": [
    {
     "data": {
      "text/html": [
       "<div>\n",
       "<style scoped>\n",
       "    .dataframe tbody tr th:only-of-type {\n",
       "        vertical-align: middle;\n",
       "    }\n",
       "\n",
       "    .dataframe tbody tr th {\n",
       "        vertical-align: top;\n",
       "    }\n",
       "\n",
       "    .dataframe thead th {\n",
       "        text-align: right;\n",
       "    }\n",
       "</style>\n",
       "<table border=\"1\" class=\"dataframe\">\n",
       "  <thead>\n",
       "    <tr style=\"text-align: right;\">\n",
       "      <th></th>\n",
       "      <th>Country</th>\n",
       "      <th>year</th>\n",
       "      <th>Corona</th>\n",
       "      <th>untotal</th>\n",
       "      <th>unmen</th>\n",
       "      <th>unwomen</th>\n",
       "      <th>trade</th>\n",
       "      <th>Investment</th>\n",
       "      <th>fdi</th>\n",
       "      <th>Inflation</th>\n",
       "      <th>QGDP</th>\n",
       "      <th>Inequality</th>\n",
       "      <th>id</th>\n",
       "      <th>t</th>\n",
       "    </tr>\n",
       "  </thead>\n",
       "  <tbody>\n",
       "    <tr>\n",
       "      <th>0</th>\n",
       "      <td>Australia</td>\n",
       "      <td>2019Q3</td>\n",
       "      <td>0.00</td>\n",
       "      <td>11.8</td>\n",
       "      <td>13.03</td>\n",
       "      <td>10.22</td>\n",
       "      <td>-0.3</td>\n",
       "      <td>1.1</td>\n",
       "      <td>NaN</td>\n",
       "      <td>1.67</td>\n",
       "      <td>0.8</td>\n",
       "      <td>1</td>\n",
       "      <td>1</td>\n",
       "      <td>1</td>\n",
       "    </tr>\n",
       "    <tr>\n",
       "      <th>1</th>\n",
       "      <td>Australia</td>\n",
       "      <td>2019Q4</td>\n",
       "      <td>0.00</td>\n",
       "      <td>11.91</td>\n",
       "      <td>13.14</td>\n",
       "      <td>10.43</td>\n",
       "      <td>-6.9</td>\n",
       "      <td>-0.6</td>\n",
       "      <td>NaN</td>\n",
       "      <td>1.84</td>\n",
       "      <td>0.4</td>\n",
       "      <td>1</td>\n",
       "      <td>1</td>\n",
       "      <td>2</td>\n",
       "    </tr>\n",
       "    <tr>\n",
       "      <th>2</th>\n",
       "      <td>Australia</td>\n",
       "      <td>2020Q1</td>\n",
       "      <td>176.79</td>\n",
       "      <td>12</td>\n",
       "      <td>13.59</td>\n",
       "      <td>10.75</td>\n",
       "      <td>-5.7</td>\n",
       "      <td>-0.5</td>\n",
       "      <td>3316.8</td>\n",
       "      <td>2.19</td>\n",
       "      <td>-0.3</td>\n",
       "      <td>1</td>\n",
       "      <td>1</td>\n",
       "      <td>3</td>\n",
       "    </tr>\n",
       "    <tr>\n",
       "      <th>3</th>\n",
       "      <td>Australia</td>\n",
       "      <td>2020Q2</td>\n",
       "      <td>130.33</td>\n",
       "      <td>15.35</td>\n",
       "      <td>16.08</td>\n",
       "      <td>14.62</td>\n",
       "      <td>-2.7</td>\n",
       "      <td>-4.8</td>\n",
       "      <td>251.8</td>\n",
       "      <td>-0.35</td>\n",
       "      <td>-6.8</td>\n",
       "      <td>1</td>\n",
       "      <td>1</td>\n",
       "      <td>4</td>\n",
       "    </tr>\n",
       "    <tr>\n",
       "      <th>4</th>\n",
       "      <td>Australia</td>\n",
       "      <td>2020Q3</td>\n",
       "      <td>743.60</td>\n",
       "      <td>14.96</td>\n",
       "      <td>15.73</td>\n",
       "      <td>13.99</td>\n",
       "      <td>2.1</td>\n",
       "      <td>0.7</td>\n",
       "      <td>6965.3</td>\n",
       "      <td>0.69</td>\n",
       "      <td>3.4</td>\n",
       "      <td>1</td>\n",
       "      <td>1</td>\n",
       "      <td>5</td>\n",
       "    </tr>\n",
       "  </tbody>\n",
       "</table>\n",
       "</div>"
      ],
      "text/plain": [
       "      Country    year  Corona untotal  unmen  unwomen  trade Investment  \\\n",
       "0  Australia   2019Q3    0.00    11.8  13.03    10.22   -0.3        1.1   \n",
       "1  Australia   2019Q4    0.00   11.91  13.14    10.43   -6.9       -0.6   \n",
       "2  Australia   2020Q1  176.79      12  13.59    10.75   -5.7       -0.5   \n",
       "3  Australia   2020Q2  130.33   15.35  16.08    14.62   -2.7       -4.8   \n",
       "4  Australia   2020Q3  743.60   14.96  15.73    13.99    2.1        0.7   \n",
       "\n",
       "      fdi Inflation QGDP  Inequality  id  t  \n",
       "0     NaN      1.67  0.8           1   1  1  \n",
       "1     NaN      1.84  0.4           1   1  2  \n",
       "2  3316.8      2.19 -0.3           1   1  3  \n",
       "3   251.8     -0.35 -6.8           1   1  4  \n",
       "4  6965.3      0.69  3.4           1   1  5  "
      ]
     },
     "execution_count": 285,
     "metadata": {},
     "output_type": "execute_result"
    }
   ],
   "source": [
    "data = pd.read_excel('/Users/clarajensen/Desktop/Introduction to Programming and Numerical Analysis /projects-2023-mc/dataproject/data.xlsx')\n",
    "data.head()"
   ]
  },
  {
   "cell_type": "code",
   "execution_count": 286,
   "metadata": {},
   "outputs": [
    {
     "name": "stdout",
     "output_type": "stream",
     "text": [
      "           Country    year    Corona untotal  unmen  unwomen  trade  \\\n",
      "0       Australia   2019Q3      0.00    11.8  13.03    10.22   -0.3   \n",
      "1       Australia   2019Q4      0.00   11.91  13.14    10.43   -6.9   \n",
      "2       Australia   2020Q1    176.79      12  13.59    10.75   -5.7   \n",
      "3       Australia   2020Q2    130.33   15.35  16.08    14.62   -2.7   \n",
      "4       Australia   2020Q3    743.60   14.96  15.73    13.99    2.1   \n",
      "..             ...     ...       ...     ...    ...      ...    ...   \n",
      "337  United States  2020Q3  13807.03   15.57  15.90    15.20   23.0   \n",
      "338  United States  2020Q4  38906.29      12  13.00    10.97    7.6   \n",
      "339  United States  2021Q1  31167.54   11.03  11.97    10.13    6.3   \n",
      "340  United States  2021Q2   9595.44   10.13  10.90     9.33    6.8   \n",
      "341  United States  2021Q3  28991.92    9.37  10.30     8.40    1.0   \n",
      "\n",
      "    Investment Inflation QGDP  Inequality  id  t  \n",
      "0          1.1      1.67  0.8           1   1  1  \n",
      "1         -0.6      1.84  0.4           1   1  2  \n",
      "2         -0.5      2.19 -0.3           1   1  3  \n",
      "3         -4.8     -0.35 -6.8           1   1  4  \n",
      "4          0.7      0.69  3.4           1   1  5  \n",
      "..         ...       ...  ...         ...  .. ..  \n",
      "337        5.2      1.22  7.5           1  38  5  \n",
      "338        3.7      1.24  1.1           1  38  6  \n",
      "339        2.3       1.9  1.5           1  38  7  \n",
      "340        0.4      4.85  1.6           1  38  8  \n",
      "341       -0.1      5.34  0.6           1  38  9  \n",
      "\n",
      "[342 rows x 13 columns]\n"
     ]
    }
   ],
   "source": [
    "data2=data.loc[:, data.columns != 'fdi']\n",
    "print(data2)"
   ]
  },
  {
   "cell_type": "code",
   "execution_count": 287,
   "metadata": {},
   "outputs": [
    {
     "data": {
      "text/html": [
       "<div>\n",
       "<style scoped>\n",
       "    .dataframe tbody tr th:only-of-type {\n",
       "        vertical-align: middle;\n",
       "    }\n",
       "\n",
       "    .dataframe tbody tr th {\n",
       "        vertical-align: top;\n",
       "    }\n",
       "\n",
       "    .dataframe thead th {\n",
       "        text-align: right;\n",
       "    }\n",
       "</style>\n",
       "<table border=\"1\" class=\"dataframe\">\n",
       "  <thead>\n",
       "    <tr style=\"text-align: right;\">\n",
       "      <th></th>\n",
       "      <th>Country</th>\n",
       "      <th>year</th>\n",
       "      <th>Corona</th>\n",
       "      <th>untotal</th>\n",
       "      <th>unmen</th>\n",
       "      <th>unwomen</th>\n",
       "      <th>trade</th>\n",
       "      <th>Investment</th>\n",
       "      <th>Inflation</th>\n",
       "      <th>QGDP</th>\n",
       "      <th>Inequality</th>\n",
       "      <th>id</th>\n",
       "      <th>t</th>\n",
       "    </tr>\n",
       "  </thead>\n",
       "  <tbody>\n",
       "    <tr>\n",
       "      <th>0</th>\n",
       "      <td>Australia</td>\n",
       "      <td>2019Q3</td>\n",
       "      <td>0.00</td>\n",
       "      <td>11.8</td>\n",
       "      <td>13.03</td>\n",
       "      <td>10.22</td>\n",
       "      <td>-0.3</td>\n",
       "      <td>1.1</td>\n",
       "      <td>1.67</td>\n",
       "      <td>0.8</td>\n",
       "      <td>1</td>\n",
       "      <td>1</td>\n",
       "      <td>1</td>\n",
       "    </tr>\n",
       "    <tr>\n",
       "      <th>1</th>\n",
       "      <td>Australia</td>\n",
       "      <td>2019Q4</td>\n",
       "      <td>0.00</td>\n",
       "      <td>11.91</td>\n",
       "      <td>13.14</td>\n",
       "      <td>10.43</td>\n",
       "      <td>-6.9</td>\n",
       "      <td>-0.6</td>\n",
       "      <td>1.84</td>\n",
       "      <td>0.4</td>\n",
       "      <td>1</td>\n",
       "      <td>1</td>\n",
       "      <td>2</td>\n",
       "    </tr>\n",
       "    <tr>\n",
       "      <th>2</th>\n",
       "      <td>Australia</td>\n",
       "      <td>2020Q1</td>\n",
       "      <td>176.79</td>\n",
       "      <td>12</td>\n",
       "      <td>13.59</td>\n",
       "      <td>10.75</td>\n",
       "      <td>-5.7</td>\n",
       "      <td>-0.5</td>\n",
       "      <td>2.19</td>\n",
       "      <td>-0.3</td>\n",
       "      <td>1</td>\n",
       "      <td>1</td>\n",
       "      <td>3</td>\n",
       "    </tr>\n",
       "    <tr>\n",
       "      <th>3</th>\n",
       "      <td>Australia</td>\n",
       "      <td>2020Q2</td>\n",
       "      <td>130.33</td>\n",
       "      <td>15.35</td>\n",
       "      <td>16.08</td>\n",
       "      <td>14.62</td>\n",
       "      <td>-2.7</td>\n",
       "      <td>-4.8</td>\n",
       "      <td>-0.35</td>\n",
       "      <td>-6.8</td>\n",
       "      <td>1</td>\n",
       "      <td>1</td>\n",
       "      <td>4</td>\n",
       "    </tr>\n",
       "    <tr>\n",
       "      <th>4</th>\n",
       "      <td>Australia</td>\n",
       "      <td>2020Q3</td>\n",
       "      <td>743.60</td>\n",
       "      <td>14.96</td>\n",
       "      <td>15.73</td>\n",
       "      <td>13.99</td>\n",
       "      <td>2.1</td>\n",
       "      <td>0.7</td>\n",
       "      <td>0.69</td>\n",
       "      <td>3.4</td>\n",
       "      <td>1</td>\n",
       "      <td>1</td>\n",
       "      <td>5</td>\n",
       "    </tr>\n",
       "    <tr>\n",
       "      <th>...</th>\n",
       "      <td>...</td>\n",
       "      <td>...</td>\n",
       "      <td>...</td>\n",
       "      <td>...</td>\n",
       "      <td>...</td>\n",
       "      <td>...</td>\n",
       "      <td>...</td>\n",
       "      <td>...</td>\n",
       "      <td>...</td>\n",
       "      <td>...</td>\n",
       "      <td>...</td>\n",
       "      <td>...</td>\n",
       "      <td>...</td>\n",
       "    </tr>\n",
       "    <tr>\n",
       "      <th>337</th>\n",
       "      <td>United States</td>\n",
       "      <td>2020Q3</td>\n",
       "      <td>13807.03</td>\n",
       "      <td>15.57</td>\n",
       "      <td>15.90</td>\n",
       "      <td>15.20</td>\n",
       "      <td>23.0</td>\n",
       "      <td>5.2</td>\n",
       "      <td>1.22</td>\n",
       "      <td>7.5</td>\n",
       "      <td>1</td>\n",
       "      <td>38</td>\n",
       "      <td>5</td>\n",
       "    </tr>\n",
       "    <tr>\n",
       "      <th>338</th>\n",
       "      <td>United States</td>\n",
       "      <td>2020Q4</td>\n",
       "      <td>38906.29</td>\n",
       "      <td>12</td>\n",
       "      <td>13.00</td>\n",
       "      <td>10.97</td>\n",
       "      <td>7.6</td>\n",
       "      <td>3.7</td>\n",
       "      <td>1.24</td>\n",
       "      <td>1.1</td>\n",
       "      <td>1</td>\n",
       "      <td>38</td>\n",
       "      <td>6</td>\n",
       "    </tr>\n",
       "    <tr>\n",
       "      <th>339</th>\n",
       "      <td>United States</td>\n",
       "      <td>2021Q1</td>\n",
       "      <td>31167.54</td>\n",
       "      <td>11.03</td>\n",
       "      <td>11.97</td>\n",
       "      <td>10.13</td>\n",
       "      <td>6.3</td>\n",
       "      <td>2.3</td>\n",
       "      <td>1.9</td>\n",
       "      <td>1.5</td>\n",
       "      <td>1</td>\n",
       "      <td>38</td>\n",
       "      <td>7</td>\n",
       "    </tr>\n",
       "    <tr>\n",
       "      <th>340</th>\n",
       "      <td>United States</td>\n",
       "      <td>2021Q2</td>\n",
       "      <td>9595.44</td>\n",
       "      <td>10.13</td>\n",
       "      <td>10.90</td>\n",
       "      <td>9.33</td>\n",
       "      <td>6.8</td>\n",
       "      <td>0.4</td>\n",
       "      <td>4.85</td>\n",
       "      <td>1.6</td>\n",
       "      <td>1</td>\n",
       "      <td>38</td>\n",
       "      <td>8</td>\n",
       "    </tr>\n",
       "    <tr>\n",
       "      <th>341</th>\n",
       "      <td>United States</td>\n",
       "      <td>2021Q3</td>\n",
       "      <td>28991.92</td>\n",
       "      <td>9.37</td>\n",
       "      <td>10.30</td>\n",
       "      <td>8.40</td>\n",
       "      <td>1.0</td>\n",
       "      <td>-0.1</td>\n",
       "      <td>5.34</td>\n",
       "      <td>0.6</td>\n",
       "      <td>1</td>\n",
       "      <td>38</td>\n",
       "      <td>9</td>\n",
       "    </tr>\n",
       "  </tbody>\n",
       "</table>\n",
       "<p>135 rows × 13 columns</p>\n",
       "</div>"
      ],
      "text/plain": [
       "           Country    year    Corona untotal  unmen  unwomen  trade  \\\n",
       "0       Australia   2019Q3      0.00    11.8  13.03    10.22   -0.3   \n",
       "1       Australia   2019Q4      0.00   11.91  13.14    10.43   -6.9   \n",
       "2       Australia   2020Q1    176.79      12  13.59    10.75   -5.7   \n",
       "3       Australia   2020Q2    130.33   15.35  16.08    14.62   -2.7   \n",
       "4       Australia   2020Q3    743.60   14.96  15.73    13.99    2.1   \n",
       "..             ...     ...       ...     ...    ...      ...    ...   \n",
       "337  United States  2020Q3  13807.03   15.57  15.90    15.20   23.0   \n",
       "338  United States  2020Q4  38906.29      12  13.00    10.97    7.6   \n",
       "339  United States  2021Q1  31167.54   11.03  11.97    10.13    6.3   \n",
       "340  United States  2021Q2   9595.44   10.13  10.90     9.33    6.8   \n",
       "341  United States  2021Q3  28991.92    9.37  10.30     8.40    1.0   \n",
       "\n",
       "    Investment Inflation QGDP  Inequality  id  t  \n",
       "0          1.1      1.67  0.8           1   1  1  \n",
       "1         -0.6      1.84  0.4           1   1  2  \n",
       "2         -0.5      2.19 -0.3           1   1  3  \n",
       "3         -4.8     -0.35 -6.8           1   1  4  \n",
       "4          0.7      0.69  3.4           1   1  5  \n",
       "..         ...       ...  ...         ...  .. ..  \n",
       "337        5.2      1.22  7.5           1  38  5  \n",
       "338        3.7      1.24  1.1           1  38  6  \n",
       "339        2.3       1.9  1.5           1  38  7  \n",
       "340        0.4      4.85  1.6           1  38  8  \n",
       "341       -0.1      5.34  0.6           1  38  9  \n",
       "\n",
       "[135 rows x 13 columns]"
      ]
     },
     "execution_count": 287,
     "metadata": {},
     "output_type": "execute_result"
    }
   ],
   "source": [
    "I = data2.Country.str.contains('Australia')\n",
    "I |= data2.Country.str.contains('Canada')\n",
    "I |= data2.Country.str.contains('Chile')\n",
    "I |= data2.Country.str.contains('Colombia')\n",
    "I |= data2.Country.str.contains('Costa Rica')\n",
    "I |= data2.Country.str.contains('Iceland')\n",
    "I |= data2.Country.str.contains('Isreal')\n",
    "I |= data2.Country.str.contains('Japan')\n",
    "I |= data2.Country.str.contains('Korea')\n",
    "I |= data2.Country.str.contains('Mexico')\n",
    "I |= data2.Country.str.contains('New Zealand')\n",
    "I |= data2.Country.str.contains('Norway')\n",
    "I |= data2.Country.str.contains('Switzerland')\n",
    "I |= data2.Country.str.contains('Turkey')\n",
    "I |= data2.Country.str.contains('United Kingdom')\n",
    "I |= data2.Country.str.contains('United States')\n",
    "\n",
    "data2.loc[I, :]"
   ]
  },
  {
   "cell_type": "code",
   "execution_count": 288,
   "metadata": {},
   "outputs": [
    {
     "data": {
      "text/html": [
       "<div>\n",
       "<style scoped>\n",
       "    .dataframe tbody tr th:only-of-type {\n",
       "        vertical-align: middle;\n",
       "    }\n",
       "\n",
       "    .dataframe tbody tr th {\n",
       "        vertical-align: top;\n",
       "    }\n",
       "\n",
       "    .dataframe thead th {\n",
       "        text-align: right;\n",
       "    }\n",
       "</style>\n",
       "<table border=\"1\" class=\"dataframe\">\n",
       "  <thead>\n",
       "    <tr style=\"text-align: right;\">\n",
       "      <th></th>\n",
       "      <th>Country</th>\n",
       "      <th>year</th>\n",
       "      <th>Corona</th>\n",
       "      <th>untotal</th>\n",
       "      <th>unmen</th>\n",
       "      <th>unwomen</th>\n",
       "      <th>trade</th>\n",
       "      <th>Investment</th>\n",
       "      <th>fdi</th>\n",
       "      <th>Inflation</th>\n",
       "      <th>QGDP</th>\n",
       "      <th>Inequality</th>\n",
       "      <th>id</th>\n",
       "      <th>t</th>\n",
       "    </tr>\n",
       "  </thead>\n",
       "  <tbody>\n",
       "    <tr>\n",
       "      <th>0</th>\n",
       "      <td>Australia</td>\n",
       "      <td>2019Q3</td>\n",
       "      <td>0.00</td>\n",
       "      <td>11.8</td>\n",
       "      <td>13.03</td>\n",
       "      <td>10.22</td>\n",
       "      <td>-0.3</td>\n",
       "      <td>1.1</td>\n",
       "      <td>NaN</td>\n",
       "      <td>1.67</td>\n",
       "      <td>0.8</td>\n",
       "      <td>1</td>\n",
       "      <td>1</td>\n",
       "      <td>1</td>\n",
       "    </tr>\n",
       "    <tr>\n",
       "      <th>1</th>\n",
       "      <td>Australia</td>\n",
       "      <td>2019Q4</td>\n",
       "      <td>0.00</td>\n",
       "      <td>11.91</td>\n",
       "      <td>13.14</td>\n",
       "      <td>10.43</td>\n",
       "      <td>-6.9</td>\n",
       "      <td>-0.6</td>\n",
       "      <td>NaN</td>\n",
       "      <td>1.84</td>\n",
       "      <td>0.4</td>\n",
       "      <td>1</td>\n",
       "      <td>1</td>\n",
       "      <td>2</td>\n",
       "    </tr>\n",
       "    <tr>\n",
       "      <th>2</th>\n",
       "      <td>Australia</td>\n",
       "      <td>2020Q1</td>\n",
       "      <td>176.79</td>\n",
       "      <td>12</td>\n",
       "      <td>13.59</td>\n",
       "      <td>10.75</td>\n",
       "      <td>-5.7</td>\n",
       "      <td>-0.5</td>\n",
       "      <td>3316.8</td>\n",
       "      <td>2.19</td>\n",
       "      <td>-0.3</td>\n",
       "      <td>1</td>\n",
       "      <td>1</td>\n",
       "      <td>3</td>\n",
       "    </tr>\n",
       "    <tr>\n",
       "      <th>3</th>\n",
       "      <td>Australia</td>\n",
       "      <td>2020Q2</td>\n",
       "      <td>130.33</td>\n",
       "      <td>15.35</td>\n",
       "      <td>16.08</td>\n",
       "      <td>14.62</td>\n",
       "      <td>-2.7</td>\n",
       "      <td>-4.8</td>\n",
       "      <td>251.8</td>\n",
       "      <td>-0.35</td>\n",
       "      <td>-6.8</td>\n",
       "      <td>1</td>\n",
       "      <td>1</td>\n",
       "      <td>4</td>\n",
       "    </tr>\n",
       "    <tr>\n",
       "      <th>4</th>\n",
       "      <td>Australia</td>\n",
       "      <td>2020Q3</td>\n",
       "      <td>743.60</td>\n",
       "      <td>14.96</td>\n",
       "      <td>15.73</td>\n",
       "      <td>13.99</td>\n",
       "      <td>2.1</td>\n",
       "      <td>0.7</td>\n",
       "      <td>6965.3</td>\n",
       "      <td>0.69</td>\n",
       "      <td>3.4</td>\n",
       "      <td>1</td>\n",
       "      <td>1</td>\n",
       "      <td>5</td>\n",
       "    </tr>\n",
       "    <tr>\n",
       "      <th>5</th>\n",
       "      <td>Australia</td>\n",
       "      <td>2020Q4</td>\n",
       "      <td>51.54</td>\n",
       "      <td>15.07</td>\n",
       "      <td>15.91</td>\n",
       "      <td>13.93</td>\n",
       "      <td>12.0</td>\n",
       "      <td>3.7</td>\n",
       "      <td>1713.8</td>\n",
       "      <td>0.86</td>\n",
       "      <td>3.3</td>\n",
       "      <td>1</td>\n",
       "      <td>1</td>\n",
       "      <td>6</td>\n",
       "    </tr>\n",
       "    <tr>\n",
       "      <th>6</th>\n",
       "      <td>Australia</td>\n",
       "      <td>2021Q1</td>\n",
       "      <td>34.78</td>\n",
       "      <td>12.86</td>\n",
       "      <td>14.90</td>\n",
       "      <td>11.18</td>\n",
       "      <td>17.6</td>\n",
       "      <td>5</td>\n",
       "      <td>-4021.5</td>\n",
       "      <td>1.11</td>\n",
       "      <td>1.8</td>\n",
       "      <td>1</td>\n",
       "      <td>1</td>\n",
       "      <td>7</td>\n",
       "    </tr>\n",
       "    <tr>\n",
       "      <th>7</th>\n",
       "      <td>Australia</td>\n",
       "      <td>2021Q2</td>\n",
       "      <td>49.63</td>\n",
       "      <td>10.48</td>\n",
       "      <td>12.35</td>\n",
       "      <td>8.60</td>\n",
       "      <td>10.3</td>\n",
       "      <td>3.2</td>\n",
       "      <td>-2200.9</td>\n",
       "      <td>3.85</td>\n",
       "      <td>0.7</td>\n",
       "      <td>1</td>\n",
       "      <td>1</td>\n",
       "      <td>8</td>\n",
       "    </tr>\n",
       "    <tr>\n",
       "      <th>8</th>\n",
       "      <td>Australia</td>\n",
       "      <td>2021Q3</td>\n",
       "      <td>2889.73</td>\n",
       "      <td>10.56</td>\n",
       "      <td>11.03</td>\n",
       "      <td>9.76</td>\n",
       "      <td>2.5</td>\n",
       "      <td>0.2</td>\n",
       "      <td>NaN</td>\n",
       "      <td>3.01</td>\n",
       "      <td>-1.9</td>\n",
       "      <td>1</td>\n",
       "      <td>1</td>\n",
       "      <td>9</td>\n",
       "    </tr>\n",
       "    <tr>\n",
       "      <th>9</th>\n",
       "      <td>Austria</td>\n",
       "      <td>2019Q3</td>\n",
       "      <td>0.00</td>\n",
       "      <td>9.83</td>\n",
       "      <td>10.50</td>\n",
       "      <td>8.97</td>\n",
       "      <td>-1.8</td>\n",
       "      <td>0.2</td>\n",
       "      <td>5652.1</td>\n",
       "      <td>1.39</td>\n",
       "      <td>0.3</td>\n",
       "      <td>0</td>\n",
       "      <td>2</td>\n",
       "      <td>1</td>\n",
       "    </tr>\n",
       "  </tbody>\n",
       "</table>\n",
       "</div>"
      ],
      "text/plain": [
       "      Country    year   Corona untotal  unmen  unwomen  trade Investment  \\\n",
       "0  Australia   2019Q3     0.00    11.8  13.03    10.22   -0.3        1.1   \n",
       "1  Australia   2019Q4     0.00   11.91  13.14    10.43   -6.9       -0.6   \n",
       "2  Australia   2020Q1   176.79      12  13.59    10.75   -5.7       -0.5   \n",
       "3  Australia   2020Q2   130.33   15.35  16.08    14.62   -2.7       -4.8   \n",
       "4  Australia   2020Q3   743.60   14.96  15.73    13.99    2.1        0.7   \n",
       "5  Australia   2020Q4    51.54   15.07  15.91    13.93   12.0        3.7   \n",
       "6  Australia   2021Q1    34.78   12.86  14.90    11.18   17.6          5   \n",
       "7  Australia   2021Q2    49.63   10.48  12.35     8.60   10.3        3.2   \n",
       "8  Australia   2021Q3  2889.73   10.56  11.03     9.76    2.5        0.2   \n",
       "9     Austria  2019Q3     0.00    9.83  10.50     8.97   -1.8        0.2   \n",
       "\n",
       "      fdi Inflation QGDP  Inequality  id  t  \n",
       "0     NaN      1.67  0.8           1   1  1  \n",
       "1     NaN      1.84  0.4           1   1  2  \n",
       "2  3316.8      2.19 -0.3           1   1  3  \n",
       "3   251.8     -0.35 -6.8           1   1  4  \n",
       "4  6965.3      0.69  3.4           1   1  5  \n",
       "5  1713.8      0.86  3.3           1   1  6  \n",
       "6 -4021.5      1.11  1.8           1   1  7  \n",
       "7 -2200.9      3.85  0.7           1   1  8  \n",
       "8     NaN      3.01 -1.9           1   1  9  \n",
       "9  5652.1      1.39  0.3           0   2  1  "
      ]
     },
     "execution_count": 288,
     "metadata": {},
     "output_type": "execute_result"
    }
   ],
   "source": [
    "data2 = data2.loc[I == False] # keep everything else\n",
    "data.head(10)"
   ]
  },
  {
   "cell_type": "code",
   "execution_count": 289,
   "metadata": {},
   "outputs": [
    {
     "data": {
      "text/html": [
       "<div>\n",
       "<style scoped>\n",
       "    .dataframe tbody tr th:only-of-type {\n",
       "        vertical-align: middle;\n",
       "    }\n",
       "\n",
       "    .dataframe tbody tr th {\n",
       "        vertical-align: top;\n",
       "    }\n",
       "\n",
       "    .dataframe thead th {\n",
       "        text-align: right;\n",
       "    }\n",
       "</style>\n",
       "<table border=\"1\" class=\"dataframe\">\n",
       "  <thead>\n",
       "    <tr style=\"text-align: right;\">\n",
       "      <th></th>\n",
       "      <th>Country</th>\n",
       "      <th>year</th>\n",
       "      <th>Corona</th>\n",
       "      <th>untotal</th>\n",
       "      <th>unmen</th>\n",
       "      <th>unwomen</th>\n",
       "      <th>trade</th>\n",
       "      <th>Investment</th>\n",
       "      <th>Inflation</th>\n",
       "      <th>QGDP</th>\n",
       "      <th>Inequality</th>\n",
       "      <th>id</th>\n",
       "      <th>t</th>\n",
       "    </tr>\n",
       "  </thead>\n",
       "  <tbody>\n",
       "    <tr>\n",
       "      <th>0</th>\n",
       "      <td>Austria</td>\n",
       "      <td>2019Q3</td>\n",
       "      <td>0.00</td>\n",
       "      <td>9.83</td>\n",
       "      <td>10.50</td>\n",
       "      <td>8.97</td>\n",
       "      <td>-1.8</td>\n",
       "      <td>0.2</td>\n",
       "      <td>1.39</td>\n",
       "      <td>0.3</td>\n",
       "      <td>0</td>\n",
       "      <td>2</td>\n",
       "      <td>1</td>\n",
       "    </tr>\n",
       "    <tr>\n",
       "      <th>1</th>\n",
       "      <td>Austria</td>\n",
       "      <td>2019Q4</td>\n",
       "      <td>0.00</td>\n",
       "      <td>9.17</td>\n",
       "      <td>10.47</td>\n",
       "      <td>7.73</td>\n",
       "      <td>-0.7</td>\n",
       "      <td>-0.4</td>\n",
       "      <td>1.32</td>\n",
       "      <td>-0.3</td>\n",
       "      <td>0</td>\n",
       "      <td>2</td>\n",
       "      <td>2</td>\n",
       "    </tr>\n",
       "    <tr>\n",
       "      <th>2</th>\n",
       "      <td>Austria</td>\n",
       "      <td>2020Q1</td>\n",
       "      <td>1125.72</td>\n",
       "      <td>10.1</td>\n",
       "      <td>11.13</td>\n",
       "      <td>8.90</td>\n",
       "      <td>-1.1</td>\n",
       "      <td>-2.3</td>\n",
       "      <td>1.87</td>\n",
       "      <td>-2.5</td>\n",
       "      <td>0</td>\n",
       "      <td>2</td>\n",
       "      <td>3</td>\n",
       "    </tr>\n",
       "    <tr>\n",
       "      <th>3</th>\n",
       "      <td>Austria</td>\n",
       "      <td>2020Q2</td>\n",
       "      <td>838.87</td>\n",
       "      <td>14.3</td>\n",
       "      <td>15.27</td>\n",
       "      <td>13.17</td>\n",
       "      <td>-16.5</td>\n",
       "      <td>-8.5</td>\n",
       "      <td>1.04</td>\n",
       "      <td>-11.4</td>\n",
       "      <td>0</td>\n",
       "      <td>2</td>\n",
       "      <td>4</td>\n",
       "    </tr>\n",
       "    <tr>\n",
       "      <th>4</th>\n",
       "      <td>Austria</td>\n",
       "      <td>2020Q3</td>\n",
       "      <td>2990.91</td>\n",
       "      <td>11.57</td>\n",
       "      <td>12.40</td>\n",
       "      <td>10.53</td>\n",
       "      <td>21.6</td>\n",
       "      <td>8.4</td>\n",
       "      <td>1.41</td>\n",
       "      <td>10.9</td>\n",
       "      <td>0</td>\n",
       "      <td>2</td>\n",
       "      <td>5</td>\n",
       "    </tr>\n",
       "    <tr>\n",
       "      <th>...</th>\n",
       "      <td>...</td>\n",
       "      <td>...</td>\n",
       "      <td>...</td>\n",
       "      <td>...</td>\n",
       "      <td>...</td>\n",
       "      <td>...</td>\n",
       "      <td>...</td>\n",
       "      <td>...</td>\n",
       "      <td>...</td>\n",
       "      <td>...</td>\n",
       "      <td>...</td>\n",
       "      <td>...</td>\n",
       "      <td>...</td>\n",
       "    </tr>\n",
       "    <tr>\n",
       "      <th>202</th>\n",
       "      <td>Sweden</td>\n",
       "      <td>2020Q3</td>\n",
       "      <td>2443.59</td>\n",
       "      <td>26.57</td>\n",
       "      <td>27.73</td>\n",
       "      <td>25.30</td>\n",
       "      <td>17.1</td>\n",
       "      <td>5</td>\n",
       "      <td>0.57</td>\n",
       "      <td>6.9</td>\n",
       "      <td>0</td>\n",
       "      <td>34</td>\n",
       "      <td>5</td>\n",
       "    </tr>\n",
       "    <tr>\n",
       "      <th>203</th>\n",
       "      <td>Sweden</td>\n",
       "      <td>2020Q4</td>\n",
       "      <td>33908.52</td>\n",
       "      <td>23.67</td>\n",
       "      <td>24.67</td>\n",
       "      <td>22.67</td>\n",
       "      <td>6.1</td>\n",
       "      <td>0.1</td>\n",
       "      <td>0.32</td>\n",
       "      <td>0.3</td>\n",
       "      <td>0</td>\n",
       "      <td>34</td>\n",
       "      <td>6</td>\n",
       "    </tr>\n",
       "    <tr>\n",
       "      <th>204</th>\n",
       "      <td>Sweden</td>\n",
       "      <td>2021Q1</td>\n",
       "      <td>36171.38</td>\n",
       "      <td>23.53</td>\n",
       "      <td>25.23</td>\n",
       "      <td>23.80</td>\n",
       "      <td>6.3</td>\n",
       "      <td>0.7</td>\n",
       "      <td>1.54</td>\n",
       "      <td>1.2</td>\n",
       "      <td>0</td>\n",
       "      <td>34</td>\n",
       "      <td>7</td>\n",
       "    </tr>\n",
       "    <tr>\n",
       "      <th>205</th>\n",
       "      <td>Sweden</td>\n",
       "      <td>2021Q2</td>\n",
       "      <td>28036.67</td>\n",
       "      <td>25.87</td>\n",
       "      <td>27.73</td>\n",
       "      <td>23.90</td>\n",
       "      <td>9.0</td>\n",
       "      <td>4.1</td>\n",
       "      <td>1.8</td>\n",
       "      <td>1</td>\n",
       "      <td>0</td>\n",
       "      <td>34</td>\n",
       "      <td>8</td>\n",
       "    </tr>\n",
       "    <tr>\n",
       "      <th>206</th>\n",
       "      <td>Sweden</td>\n",
       "      <td>2021Q3</td>\n",
       "      <td>6130.22</td>\n",
       "      <td>24.53</td>\n",
       "      <td>25.13</td>\n",
       "      <td>23.90</td>\n",
       "      <td>-1.9</td>\n",
       "      <td>2.6</td>\n",
       "      <td>1.98</td>\n",
       "      <td>2</td>\n",
       "      <td>0</td>\n",
       "      <td>34</td>\n",
       "      <td>9</td>\n",
       "    </tr>\n",
       "  </tbody>\n",
       "</table>\n",
       "<p>207 rows × 13 columns</p>\n",
       "</div>"
      ],
      "text/plain": [
       "     Country    year    Corona untotal  unmen  unwomen  trade Investment  \\\n",
       "0    Austria  2019Q3      0.00    9.83  10.50     8.97   -1.8        0.2   \n",
       "1    Austria  2019Q4      0.00    9.17  10.47     7.73   -0.7       -0.4   \n",
       "2    Austria  2020Q1   1125.72    10.1  11.13     8.90   -1.1       -2.3   \n",
       "3    Austria  2020Q2    838.87    14.3  15.27    13.17  -16.5       -8.5   \n",
       "4    Austria  2020Q3   2990.91   11.57  12.40    10.53   21.6        8.4   \n",
       "..       ...     ...       ...     ...    ...      ...    ...        ...   \n",
       "202   Sweden  2020Q3   2443.59   26.57  27.73    25.30   17.1          5   \n",
       "203   Sweden  2020Q4  33908.52   23.67  24.67    22.67    6.1        0.1   \n",
       "204   Sweden  2021Q1  36171.38   23.53  25.23    23.80    6.3        0.7   \n",
       "205   Sweden  2021Q2  28036.67   25.87  27.73    23.90    9.0        4.1   \n",
       "206   Sweden  2021Q3   6130.22   24.53  25.13    23.90   -1.9        2.6   \n",
       "\n",
       "    Inflation  QGDP  Inequality  id  t  \n",
       "0        1.39   0.3           0   2  1  \n",
       "1        1.32  -0.3           0   2  2  \n",
       "2        1.87  -2.5           0   2  3  \n",
       "3        1.04 -11.4           0   2  4  \n",
       "4        1.41  10.9           0   2  5  \n",
       "..        ...   ...         ...  .. ..  \n",
       "202      0.57   6.9           0  34  5  \n",
       "203      0.32   0.3           0  34  6  \n",
       "204      1.54   1.2           0  34  7  \n",
       "205       1.8     1           0  34  8  \n",
       "206      1.98     2           0  34  9  \n",
       "\n",
       "[207 rows x 13 columns]"
      ]
     },
     "execution_count": 289,
     "metadata": {},
     "output_type": "execute_result"
    }
   ],
   "source": [
    "data2.reset_index(inplace = True, drop = True) # Drop old index too\n",
    "data2.iloc[0:300,:]"
   ]
  },
  {
   "cell_type": "markdown",
   "metadata": {},
   "source": [
    "## Explore each data set"
   ]
  },
  {
   "cell_type": "markdown",
   "metadata": {},
   "source": [
    "In order to be able to **explore the raw data**, you may provide **static** and **interactive plots** to show important developments "
   ]
  },
  {
   "cell_type": "markdown",
   "metadata": {},
   "source": [
    "**Interactive plot** :"
   ]
  },
  {
   "cell_type": "markdown",
   "metadata": {},
   "source": [
    "Explain what you see when moving elements of the interactive plot around. "
   ]
  },
  {
   "cell_type": "code",
   "execution_count": 290,
   "metadata": {},
   "outputs": [
    {
     "data": {
      "text/html": [
       "<div>\n",
       "<style scoped>\n",
       "    .dataframe tbody tr th:only-of-type {\n",
       "        vertical-align: middle;\n",
       "    }\n",
       "\n",
       "    .dataframe tbody tr th {\n",
       "        vertical-align: top;\n",
       "    }\n",
       "\n",
       "    .dataframe thead th {\n",
       "        text-align: right;\n",
       "    }\n",
       "</style>\n",
       "<table border=\"1\" class=\"dataframe\">\n",
       "  <thead>\n",
       "    <tr style=\"text-align: right;\">\n",
       "      <th></th>\n",
       "      <th>Country</th>\n",
       "      <th>year</th>\n",
       "      <th>Corona</th>\n",
       "      <th>untotal</th>\n",
       "      <th>unmen</th>\n",
       "      <th>unwomen</th>\n",
       "      <th>trade</th>\n",
       "      <th>Investment</th>\n",
       "      <th>Inflation</th>\n",
       "      <th>QGDP</th>\n",
       "      <th>Inequality</th>\n",
       "      <th>id</th>\n",
       "      <th>t</th>\n",
       "    </tr>\n",
       "  </thead>\n",
       "  <tbody>\n",
       "    <tr>\n",
       "      <th>7</th>\n",
       "      <td>Austria</td>\n",
       "      <td>2021Q2</td>\n",
       "      <td>11514.23</td>\n",
       "      <td>12</td>\n",
       "      <td>12.10</td>\n",
       "      <td>11.90</td>\n",
       "      <td>2.3</td>\n",
       "      <td>0.8</td>\n",
       "      <td>2.51</td>\n",
       "      <td>4.2</td>\n",
       "      <td>0</td>\n",
       "      <td>2</td>\n",
       "      <td>8</td>\n",
       "    </tr>\n",
       "    <tr>\n",
       "      <th>16</th>\n",
       "      <td>Belgium</td>\n",
       "      <td>2021Q2</td>\n",
       "      <td>17373.73</td>\n",
       "      <td>19.2</td>\n",
       "      <td>18.00</td>\n",
       "      <td>20.70</td>\n",
       "      <td>11.6</td>\n",
       "      <td>1.3</td>\n",
       "      <td>1.44</td>\n",
       "      <td>1.7</td>\n",
       "      <td>0</td>\n",
       "      <td>3</td>\n",
       "      <td>8</td>\n",
       "    </tr>\n",
       "    <tr>\n",
       "      <th>25</th>\n",
       "      <td>Czech Republic</td>\n",
       "      <td>2021Q2</td>\n",
       "      <td>12567.70</td>\n",
       "      <td>7.83</td>\n",
       "      <td>7.40</td>\n",
       "      <td>8.57</td>\n",
       "      <td>3.0</td>\n",
       "      <td>4.3</td>\n",
       "      <td>2.9</td>\n",
       "      <td>1.3</td>\n",
       "      <td>0</td>\n",
       "      <td>8</td>\n",
       "      <td>8</td>\n",
       "    </tr>\n",
       "    <tr>\n",
       "      <th>34</th>\n",
       "      <td>Denmark</td>\n",
       "      <td>2021Q2</td>\n",
       "      <td>10791.46</td>\n",
       "      <td>10.3</td>\n",
       "      <td>NaN</td>\n",
       "      <td>NaN</td>\n",
       "      <td>4.1</td>\n",
       "      <td>-2.6</td>\n",
       "      <td>1.65</td>\n",
       "      <td>1.3</td>\n",
       "      <td>0</td>\n",
       "      <td>9</td>\n",
       "      <td>8</td>\n",
       "    </tr>\n",
       "    <tr>\n",
       "      <th>43</th>\n",
       "      <td>Estonia</td>\n",
       "      <td>2021Q2</td>\n",
       "      <td>18566.42</td>\n",
       "      <td>17.57</td>\n",
       "      <td>15.93</td>\n",
       "      <td>19.07</td>\n",
       "      <td>7.6</td>\n",
       "      <td>-1.1</td>\n",
       "      <td>3.08</td>\n",
       "      <td>2.3</td>\n",
       "      <td>0</td>\n",
       "      <td>10</td>\n",
       "      <td>8</td>\n",
       "    </tr>\n",
       "    <tr>\n",
       "      <th>52</th>\n",
       "      <td>Finland</td>\n",
       "      <td>2021Q2</td>\n",
       "      <td>3232.49</td>\n",
       "      <td>18.8</td>\n",
       "      <td>21.07</td>\n",
       "      <td>18.13</td>\n",
       "      <td>5.8</td>\n",
       "      <td>1</td>\n",
       "      <td>2.09</td>\n",
       "      <td>2</td>\n",
       "      <td>0</td>\n",
       "      <td>11</td>\n",
       "      <td>8</td>\n",
       "    </tr>\n",
       "    <tr>\n",
       "      <th>61</th>\n",
       "      <td>France</td>\n",
       "      <td>2021Q2</td>\n",
       "      <td>16766.01</td>\n",
       "      <td>19.7</td>\n",
       "      <td>19.23</td>\n",
       "      <td>20.23</td>\n",
       "      <td>1.6</td>\n",
       "      <td>2.4</td>\n",
       "      <td>1.38</td>\n",
       "      <td>1.3</td>\n",
       "      <td>0</td>\n",
       "      <td>12</td>\n",
       "      <td>8</td>\n",
       "    </tr>\n",
       "    <tr>\n",
       "      <th>70</th>\n",
       "      <td>Germany</td>\n",
       "      <td>2021Q2</td>\n",
       "      <td>10628.72</td>\n",
       "      <td>7.13</td>\n",
       "      <td>7.50</td>\n",
       "      <td>6.70</td>\n",
       "      <td>1.5</td>\n",
       "      <td>1.2</td>\n",
       "      <td>2.29</td>\n",
       "      <td>1.7</td>\n",
       "      <td>0</td>\n",
       "      <td>13</td>\n",
       "      <td>8</td>\n",
       "    </tr>\n",
       "    <tr>\n",
       "      <th>79</th>\n",
       "      <td>Greece</td>\n",
       "      <td>2021Q2</td>\n",
       "      <td>15248.66</td>\n",
       "      <td>38.73</td>\n",
       "      <td>34.94</td>\n",
       "      <td>43.77</td>\n",
       "      <td>3.9</td>\n",
       "      <td>4.7</td>\n",
       "      <td>2.29</td>\n",
       "      <td>2.1</td>\n",
       "      <td>1</td>\n",
       "      <td>14</td>\n",
       "      <td>8</td>\n",
       "    </tr>\n",
       "    <tr>\n",
       "      <th>88</th>\n",
       "      <td>Hungary</td>\n",
       "      <td>2021Q2</td>\n",
       "      <td>16155.32</td>\n",
       "      <td>13.8</td>\n",
       "      <td>11.80</td>\n",
       "      <td>16.50</td>\n",
       "      <td>0.6</td>\n",
       "      <td>3.7</td>\n",
       "      <td>5.19</td>\n",
       "      <td>2</td>\n",
       "      <td>0</td>\n",
       "      <td>15</td>\n",
       "      <td>8</td>\n",
       "    </tr>\n",
       "    <tr>\n",
       "      <th>97</th>\n",
       "      <td>Ireland</td>\n",
       "      <td>2021Q2</td>\n",
       "      <td>7240.15</td>\n",
       "      <td>18.03</td>\n",
       "      <td>18.17</td>\n",
       "      <td>17.97</td>\n",
       "      <td>0.7</td>\n",
       "      <td>4.7</td>\n",
       "      <td>1.44</td>\n",
       "      <td>5.2</td>\n",
       "      <td>0</td>\n",
       "      <td>17</td>\n",
       "      <td>8</td>\n",
       "    </tr>\n",
       "    <tr>\n",
       "      <th>106</th>\n",
       "      <td>Israel</td>\n",
       "      <td>2021Q2</td>\n",
       "      <td>902.06</td>\n",
       "      <td>7.57</td>\n",
       "      <td>7.53</td>\n",
       "      <td>7.57</td>\n",
       "      <td>12.6</td>\n",
       "      <td>1.4</td>\n",
       "      <td>1.34</td>\n",
       "      <td>3.4</td>\n",
       "      <td>1</td>\n",
       "      <td>18</td>\n",
       "      <td>8</td>\n",
       "    </tr>\n",
       "    <tr>\n",
       "      <th>115</th>\n",
       "      <td>Italy</td>\n",
       "      <td>2021Q2</td>\n",
       "      <td>11168.83</td>\n",
       "      <td>30.3</td>\n",
       "      <td>28.40</td>\n",
       "      <td>33.00</td>\n",
       "      <td>3.9</td>\n",
       "      <td>2.4</td>\n",
       "      <td>1.2</td>\n",
       "      <td>2.7</td>\n",
       "      <td>1</td>\n",
       "      <td>19</td>\n",
       "      <td>8</td>\n",
       "    </tr>\n",
       "    <tr>\n",
       "      <th>124</th>\n",
       "      <td>Latvia</td>\n",
       "      <td>2021Q2</td>\n",
       "      <td>18729.10</td>\n",
       "      <td>15.9</td>\n",
       "      <td>13.47</td>\n",
       "      <td>18.93</td>\n",
       "      <td>7.9</td>\n",
       "      <td>4.9</td>\n",
       "      <td>2.33</td>\n",
       "      <td>2.5</td>\n",
       "      <td>1</td>\n",
       "      <td>22</td>\n",
       "      <td>8</td>\n",
       "    </tr>\n",
       "    <tr>\n",
       "      <th>133</th>\n",
       "      <td>Lithuania</td>\n",
       "      <td>2021Q2</td>\n",
       "      <td>23275.17</td>\n",
       "      <td>19.17</td>\n",
       "      <td>17.73</td>\n",
       "      <td>20.80</td>\n",
       "      <td>5.8</td>\n",
       "      <td>3.6</td>\n",
       "      <td>3.24</td>\n",
       "      <td>2</td>\n",
       "      <td>1</td>\n",
       "      <td>23</td>\n",
       "      <td>8</td>\n",
       "    </tr>\n",
       "    <tr>\n",
       "      <th>142</th>\n",
       "      <td>Luxemborg</td>\n",
       "      <td>2021Q2</td>\n",
       "      <td>14260.87</td>\n",
       "      <td>18.3</td>\n",
       "      <td>18.30</td>\n",
       "      <td>18.33</td>\n",
       "      <td>6.3</td>\n",
       "      <td>2.7</td>\n",
       "      <td>2.27</td>\n",
       "      <td>0</td>\n",
       "      <td>0</td>\n",
       "      <td>24</td>\n",
       "      <td>8</td>\n",
       "    </tr>\n",
       "    <tr>\n",
       "      <th>151</th>\n",
       "      <td>Neatherlands</td>\n",
       "      <td>2021Q2</td>\n",
       "      <td>24003.65</td>\n",
       "      <td>8.37</td>\n",
       "      <td>7.93</td>\n",
       "      <td>8.80</td>\n",
       "      <td>6.5</td>\n",
       "      <td>-1.6</td>\n",
       "      <td>2.01</td>\n",
       "      <td>3.8</td>\n",
       "      <td>0</td>\n",
       "      <td>26</td>\n",
       "      <td>8</td>\n",
       "    </tr>\n",
       "    <tr>\n",
       "      <th>160</th>\n",
       "      <td>Poland</td>\n",
       "      <td>2021Q2</td>\n",
       "      <td>14765.56</td>\n",
       "      <td>13.83</td>\n",
       "      <td>11.90</td>\n",
       "      <td>16.57</td>\n",
       "      <td>4.1</td>\n",
       "      <td>-11.7</td>\n",
       "      <td>4.47</td>\n",
       "      <td>1.8</td>\n",
       "      <td>0</td>\n",
       "      <td>29</td>\n",
       "      <td>8</td>\n",
       "    </tr>\n",
       "    <tr>\n",
       "      <th>169</th>\n",
       "      <td>Portugal</td>\n",
       "      <td>2021Q2</td>\n",
       "      <td>5455.69</td>\n",
       "      <td>25.23</td>\n",
       "      <td>22.63</td>\n",
       "      <td>28.40</td>\n",
       "      <td>-0.6</td>\n",
       "      <td>-0.4</td>\n",
       "      <td>0.77</td>\n",
       "      <td>4.4</td>\n",
       "      <td>1</td>\n",
       "      <td>30</td>\n",
       "      <td>8</td>\n",
       "    </tr>\n",
       "    <tr>\n",
       "      <th>178</th>\n",
       "      <td>Slovak Republic</td>\n",
       "      <td>2021Q2</td>\n",
       "      <td>12309.54</td>\n",
       "      <td>21.3</td>\n",
       "      <td>20.43</td>\n",
       "      <td>22.70</td>\n",
       "      <td>-3.3</td>\n",
       "      <td>7</td>\n",
       "      <td>2.23</td>\n",
       "      <td>1.9</td>\n",
       "      <td>0</td>\n",
       "      <td>31</td>\n",
       "      <td>8</td>\n",
       "    </tr>\n",
       "    <tr>\n",
       "      <th>187</th>\n",
       "      <td>Slovenia</td>\n",
       "      <td>2021Q2</td>\n",
       "      <td>20053.18</td>\n",
       "      <td>14.7</td>\n",
       "      <td>13.40</td>\n",
       "      <td>16.30</td>\n",
       "      <td>1.9</td>\n",
       "      <td>-1</td>\n",
       "      <td>1.87</td>\n",
       "      <td>2</td>\n",
       "      <td>0</td>\n",
       "      <td>32</td>\n",
       "      <td>8</td>\n",
       "    </tr>\n",
       "    <tr>\n",
       "      <th>196</th>\n",
       "      <td>Spain</td>\n",
       "      <td>2021Q2</td>\n",
       "      <td>11025.30</td>\n",
       "      <td>37.63</td>\n",
       "      <td>27.73</td>\n",
       "      <td>39.07</td>\n",
       "      <td>3.2</td>\n",
       "      <td>-2.5</td>\n",
       "      <td>2.56</td>\n",
       "      <td>1.2</td>\n",
       "      <td>1</td>\n",
       "      <td>33</td>\n",
       "      <td>8</td>\n",
       "    </tr>\n",
       "    <tr>\n",
       "      <th>205</th>\n",
       "      <td>Sweden</td>\n",
       "      <td>2021Q2</td>\n",
       "      <td>28036.67</td>\n",
       "      <td>25.87</td>\n",
       "      <td>27.73</td>\n",
       "      <td>23.90</td>\n",
       "      <td>9.0</td>\n",
       "      <td>4.1</td>\n",
       "      <td>1.8</td>\n",
       "      <td>1</td>\n",
       "      <td>0</td>\n",
       "      <td>34</td>\n",
       "      <td>8</td>\n",
       "    </tr>\n",
       "  </tbody>\n",
       "</table>\n",
       "</div>"
      ],
      "text/plain": [
       "             Country    year    Corona untotal  unmen  unwomen  trade  \\\n",
       "7            Austria  2021Q2  11514.23      12  12.10    11.90    2.3   \n",
       "16           Belgium  2021Q2  17373.73    19.2  18.00    20.70   11.6   \n",
       "25    Czech Republic  2021Q2  12567.70    7.83   7.40     8.57    3.0   \n",
       "34           Denmark  2021Q2  10791.46    10.3    NaN      NaN    4.1   \n",
       "43           Estonia  2021Q2  18566.42   17.57  15.93    19.07    7.6   \n",
       "52           Finland  2021Q2   3232.49    18.8  21.07    18.13    5.8   \n",
       "61            France  2021Q2  16766.01    19.7  19.23    20.23    1.6   \n",
       "70           Germany  2021Q2  10628.72    7.13   7.50     6.70    1.5   \n",
       "79            Greece  2021Q2  15248.66   38.73  34.94    43.77    3.9   \n",
       "88           Hungary  2021Q2  16155.32    13.8  11.80    16.50    0.6   \n",
       "97           Ireland  2021Q2   7240.15   18.03  18.17    17.97    0.7   \n",
       "106           Israel  2021Q2    902.06    7.57   7.53     7.57   12.6   \n",
       "115            Italy  2021Q2  11168.83    30.3  28.40    33.00    3.9   \n",
       "124           Latvia  2021Q2  18729.10    15.9  13.47    18.93    7.9   \n",
       "133       Lithuania   2021Q2  23275.17   19.17  17.73    20.80    5.8   \n",
       "142       Luxemborg   2021Q2  14260.87    18.3  18.30    18.33    6.3   \n",
       "151    Neatherlands   2021Q2  24003.65    8.37   7.93     8.80    6.5   \n",
       "160           Poland  2021Q2  14765.56   13.83  11.90    16.57    4.1   \n",
       "169         Portugal  2021Q2   5455.69   25.23  22.63    28.40   -0.6   \n",
       "178  Slovak Republic  2021Q2  12309.54    21.3  20.43    22.70   -3.3   \n",
       "187         Slovenia  2021Q2  20053.18    14.7  13.40    16.30    1.9   \n",
       "196            Spain  2021Q2  11025.30   37.63  27.73    39.07    3.2   \n",
       "205           Sweden  2021Q2  28036.67   25.87  27.73    23.90    9.0   \n",
       "\n",
       "    Investment Inflation QGDP  Inequality  id  t  \n",
       "7          0.8      2.51  4.2           0   2  8  \n",
       "16         1.3      1.44  1.7           0   3  8  \n",
       "25         4.3       2.9  1.3           0   8  8  \n",
       "34        -2.6      1.65  1.3           0   9  8  \n",
       "43        -1.1      3.08  2.3           0  10  8  \n",
       "52           1      2.09    2           0  11  8  \n",
       "61         2.4      1.38  1.3           0  12  8  \n",
       "70         1.2      2.29  1.7           0  13  8  \n",
       "79         4.7      2.29  2.1           1  14  8  \n",
       "88         3.7      5.19    2           0  15  8  \n",
       "97         4.7      1.44  5.2           0  17  8  \n",
       "106        1.4      1.34  3.4           1  18  8  \n",
       "115        2.4       1.2  2.7           1  19  8  \n",
       "124        4.9      2.33  2.5           1  22  8  \n",
       "133        3.6      3.24    2           1  23  8  \n",
       "142        2.7      2.27    0           0  24  8  \n",
       "151       -1.6      2.01  3.8           0  26  8  \n",
       "160      -11.7      4.47  1.8           0  29  8  \n",
       "169       -0.4      0.77  4.4           1  30  8  \n",
       "178          7      2.23  1.9           0  31  8  \n",
       "187         -1      1.87    2           0  32  8  \n",
       "196       -2.5      2.56  1.2           1  33  8  \n",
       "205        4.1       1.8    1           0  34  8  "
      ]
     },
     "execution_count": 290,
     "metadata": {},
     "output_type": "execute_result"
    }
   ],
   "source": [
    "T = data2.year.str.contains('2021Q2')\n",
    "data2.loc[T, :]"
   ]
  },
  {
   "cell_type": "code",
   "execution_count": 291,
   "metadata": {},
   "outputs": [],
   "source": [
    "data3 = data2.loc[T == True] # keep everything else"
   ]
  },
  {
   "cell_type": "code",
   "execution_count": 292,
   "metadata": {},
   "outputs": [
    {
     "data": {
      "text/html": [
       "<div>\n",
       "<style scoped>\n",
       "    .dataframe tbody tr th:only-of-type {\n",
       "        vertical-align: middle;\n",
       "    }\n",
       "\n",
       "    .dataframe tbody tr th {\n",
       "        vertical-align: top;\n",
       "    }\n",
       "\n",
       "    .dataframe thead th {\n",
       "        text-align: right;\n",
       "    }\n",
       "</style>\n",
       "<table border=\"1\" class=\"dataframe\">\n",
       "  <thead>\n",
       "    <tr style=\"text-align: right;\">\n",
       "      <th></th>\n",
       "      <th>Country</th>\n",
       "      <th>year</th>\n",
       "      <th>Corona</th>\n",
       "      <th>untotal</th>\n",
       "      <th>unmen</th>\n",
       "      <th>unwomen</th>\n",
       "      <th>trade</th>\n",
       "      <th>Investment</th>\n",
       "      <th>Inflation</th>\n",
       "      <th>QGDP</th>\n",
       "      <th>Inequality</th>\n",
       "      <th>id</th>\n",
       "      <th>t</th>\n",
       "    </tr>\n",
       "  </thead>\n",
       "  <tbody>\n",
       "    <tr>\n",
       "      <th>0</th>\n",
       "      <td>Austria</td>\n",
       "      <td>2021Q2</td>\n",
       "      <td>11514.23</td>\n",
       "      <td>12</td>\n",
       "      <td>12.10</td>\n",
       "      <td>11.90</td>\n",
       "      <td>2.3</td>\n",
       "      <td>0.8</td>\n",
       "      <td>2.51</td>\n",
       "      <td>4.2</td>\n",
       "      <td>0</td>\n",
       "      <td>2</td>\n",
       "      <td>8</td>\n",
       "    </tr>\n",
       "    <tr>\n",
       "      <th>1</th>\n",
       "      <td>Belgium</td>\n",
       "      <td>2021Q2</td>\n",
       "      <td>17373.73</td>\n",
       "      <td>19.2</td>\n",
       "      <td>18.00</td>\n",
       "      <td>20.70</td>\n",
       "      <td>11.6</td>\n",
       "      <td>1.3</td>\n",
       "      <td>1.44</td>\n",
       "      <td>1.7</td>\n",
       "      <td>0</td>\n",
       "      <td>3</td>\n",
       "      <td>8</td>\n",
       "    </tr>\n",
       "    <tr>\n",
       "      <th>2</th>\n",
       "      <td>Czech Republic</td>\n",
       "      <td>2021Q2</td>\n",
       "      <td>12567.70</td>\n",
       "      <td>7.83</td>\n",
       "      <td>7.40</td>\n",
       "      <td>8.57</td>\n",
       "      <td>3.0</td>\n",
       "      <td>4.3</td>\n",
       "      <td>2.9</td>\n",
       "      <td>1.3</td>\n",
       "      <td>0</td>\n",
       "      <td>8</td>\n",
       "      <td>8</td>\n",
       "    </tr>\n",
       "    <tr>\n",
       "      <th>3</th>\n",
       "      <td>Denmark</td>\n",
       "      <td>2021Q2</td>\n",
       "      <td>10791.46</td>\n",
       "      <td>10.3</td>\n",
       "      <td>NaN</td>\n",
       "      <td>NaN</td>\n",
       "      <td>4.1</td>\n",
       "      <td>-2.6</td>\n",
       "      <td>1.65</td>\n",
       "      <td>1.3</td>\n",
       "      <td>0</td>\n",
       "      <td>9</td>\n",
       "      <td>8</td>\n",
       "    </tr>\n",
       "    <tr>\n",
       "      <th>4</th>\n",
       "      <td>Estonia</td>\n",
       "      <td>2021Q2</td>\n",
       "      <td>18566.42</td>\n",
       "      <td>17.57</td>\n",
       "      <td>15.93</td>\n",
       "      <td>19.07</td>\n",
       "      <td>7.6</td>\n",
       "      <td>-1.1</td>\n",
       "      <td>3.08</td>\n",
       "      <td>2.3</td>\n",
       "      <td>0</td>\n",
       "      <td>10</td>\n",
       "      <td>8</td>\n",
       "    </tr>\n",
       "    <tr>\n",
       "      <th>5</th>\n",
       "      <td>Finland</td>\n",
       "      <td>2021Q2</td>\n",
       "      <td>3232.49</td>\n",
       "      <td>18.8</td>\n",
       "      <td>21.07</td>\n",
       "      <td>18.13</td>\n",
       "      <td>5.8</td>\n",
       "      <td>1</td>\n",
       "      <td>2.09</td>\n",
       "      <td>2</td>\n",
       "      <td>0</td>\n",
       "      <td>11</td>\n",
       "      <td>8</td>\n",
       "    </tr>\n",
       "    <tr>\n",
       "      <th>6</th>\n",
       "      <td>France</td>\n",
       "      <td>2021Q2</td>\n",
       "      <td>16766.01</td>\n",
       "      <td>19.7</td>\n",
       "      <td>19.23</td>\n",
       "      <td>20.23</td>\n",
       "      <td>1.6</td>\n",
       "      <td>2.4</td>\n",
       "      <td>1.38</td>\n",
       "      <td>1.3</td>\n",
       "      <td>0</td>\n",
       "      <td>12</td>\n",
       "      <td>8</td>\n",
       "    </tr>\n",
       "    <tr>\n",
       "      <th>7</th>\n",
       "      <td>Germany</td>\n",
       "      <td>2021Q2</td>\n",
       "      <td>10628.72</td>\n",
       "      <td>7.13</td>\n",
       "      <td>7.50</td>\n",
       "      <td>6.70</td>\n",
       "      <td>1.5</td>\n",
       "      <td>1.2</td>\n",
       "      <td>2.29</td>\n",
       "      <td>1.7</td>\n",
       "      <td>0</td>\n",
       "      <td>13</td>\n",
       "      <td>8</td>\n",
       "    </tr>\n",
       "    <tr>\n",
       "      <th>8</th>\n",
       "      <td>Greece</td>\n",
       "      <td>2021Q2</td>\n",
       "      <td>15248.66</td>\n",
       "      <td>38.73</td>\n",
       "      <td>34.94</td>\n",
       "      <td>43.77</td>\n",
       "      <td>3.9</td>\n",
       "      <td>4.7</td>\n",
       "      <td>2.29</td>\n",
       "      <td>2.1</td>\n",
       "      <td>1</td>\n",
       "      <td>14</td>\n",
       "      <td>8</td>\n",
       "    </tr>\n",
       "    <tr>\n",
       "      <th>9</th>\n",
       "      <td>Hungary</td>\n",
       "      <td>2021Q2</td>\n",
       "      <td>16155.32</td>\n",
       "      <td>13.8</td>\n",
       "      <td>11.80</td>\n",
       "      <td>16.50</td>\n",
       "      <td>0.6</td>\n",
       "      <td>3.7</td>\n",
       "      <td>5.19</td>\n",
       "      <td>2</td>\n",
       "      <td>0</td>\n",
       "      <td>15</td>\n",
       "      <td>8</td>\n",
       "    </tr>\n",
       "    <tr>\n",
       "      <th>10</th>\n",
       "      <td>Ireland</td>\n",
       "      <td>2021Q2</td>\n",
       "      <td>7240.15</td>\n",
       "      <td>18.03</td>\n",
       "      <td>18.17</td>\n",
       "      <td>17.97</td>\n",
       "      <td>0.7</td>\n",
       "      <td>4.7</td>\n",
       "      <td>1.44</td>\n",
       "      <td>5.2</td>\n",
       "      <td>0</td>\n",
       "      <td>17</td>\n",
       "      <td>8</td>\n",
       "    </tr>\n",
       "    <tr>\n",
       "      <th>11</th>\n",
       "      <td>Israel</td>\n",
       "      <td>2021Q2</td>\n",
       "      <td>902.06</td>\n",
       "      <td>7.57</td>\n",
       "      <td>7.53</td>\n",
       "      <td>7.57</td>\n",
       "      <td>12.6</td>\n",
       "      <td>1.4</td>\n",
       "      <td>1.34</td>\n",
       "      <td>3.4</td>\n",
       "      <td>1</td>\n",
       "      <td>18</td>\n",
       "      <td>8</td>\n",
       "    </tr>\n",
       "    <tr>\n",
       "      <th>12</th>\n",
       "      <td>Italy</td>\n",
       "      <td>2021Q2</td>\n",
       "      <td>11168.83</td>\n",
       "      <td>30.3</td>\n",
       "      <td>28.40</td>\n",
       "      <td>33.00</td>\n",
       "      <td>3.9</td>\n",
       "      <td>2.4</td>\n",
       "      <td>1.2</td>\n",
       "      <td>2.7</td>\n",
       "      <td>1</td>\n",
       "      <td>19</td>\n",
       "      <td>8</td>\n",
       "    </tr>\n",
       "    <tr>\n",
       "      <th>13</th>\n",
       "      <td>Latvia</td>\n",
       "      <td>2021Q2</td>\n",
       "      <td>18729.10</td>\n",
       "      <td>15.9</td>\n",
       "      <td>13.47</td>\n",
       "      <td>18.93</td>\n",
       "      <td>7.9</td>\n",
       "      <td>4.9</td>\n",
       "      <td>2.33</td>\n",
       "      <td>2.5</td>\n",
       "      <td>1</td>\n",
       "      <td>22</td>\n",
       "      <td>8</td>\n",
       "    </tr>\n",
       "    <tr>\n",
       "      <th>14</th>\n",
       "      <td>Lithuania</td>\n",
       "      <td>2021Q2</td>\n",
       "      <td>23275.17</td>\n",
       "      <td>19.17</td>\n",
       "      <td>17.73</td>\n",
       "      <td>20.80</td>\n",
       "      <td>5.8</td>\n",
       "      <td>3.6</td>\n",
       "      <td>3.24</td>\n",
       "      <td>2</td>\n",
       "      <td>1</td>\n",
       "      <td>23</td>\n",
       "      <td>8</td>\n",
       "    </tr>\n",
       "    <tr>\n",
       "      <th>15</th>\n",
       "      <td>Luxemborg</td>\n",
       "      <td>2021Q2</td>\n",
       "      <td>14260.87</td>\n",
       "      <td>18.3</td>\n",
       "      <td>18.30</td>\n",
       "      <td>18.33</td>\n",
       "      <td>6.3</td>\n",
       "      <td>2.7</td>\n",
       "      <td>2.27</td>\n",
       "      <td>0</td>\n",
       "      <td>0</td>\n",
       "      <td>24</td>\n",
       "      <td>8</td>\n",
       "    </tr>\n",
       "    <tr>\n",
       "      <th>16</th>\n",
       "      <td>Neatherlands</td>\n",
       "      <td>2021Q2</td>\n",
       "      <td>24003.65</td>\n",
       "      <td>8.37</td>\n",
       "      <td>7.93</td>\n",
       "      <td>8.80</td>\n",
       "      <td>6.5</td>\n",
       "      <td>-1.6</td>\n",
       "      <td>2.01</td>\n",
       "      <td>3.8</td>\n",
       "      <td>0</td>\n",
       "      <td>26</td>\n",
       "      <td>8</td>\n",
       "    </tr>\n",
       "    <tr>\n",
       "      <th>17</th>\n",
       "      <td>Poland</td>\n",
       "      <td>2021Q2</td>\n",
       "      <td>14765.56</td>\n",
       "      <td>13.83</td>\n",
       "      <td>11.90</td>\n",
       "      <td>16.57</td>\n",
       "      <td>4.1</td>\n",
       "      <td>-11.7</td>\n",
       "      <td>4.47</td>\n",
       "      <td>1.8</td>\n",
       "      <td>0</td>\n",
       "      <td>29</td>\n",
       "      <td>8</td>\n",
       "    </tr>\n",
       "    <tr>\n",
       "      <th>18</th>\n",
       "      <td>Portugal</td>\n",
       "      <td>2021Q2</td>\n",
       "      <td>5455.69</td>\n",
       "      <td>25.23</td>\n",
       "      <td>22.63</td>\n",
       "      <td>28.40</td>\n",
       "      <td>-0.6</td>\n",
       "      <td>-0.4</td>\n",
       "      <td>0.77</td>\n",
       "      <td>4.4</td>\n",
       "      <td>1</td>\n",
       "      <td>30</td>\n",
       "      <td>8</td>\n",
       "    </tr>\n",
       "    <tr>\n",
       "      <th>19</th>\n",
       "      <td>Slovak Republic</td>\n",
       "      <td>2021Q2</td>\n",
       "      <td>12309.54</td>\n",
       "      <td>21.3</td>\n",
       "      <td>20.43</td>\n",
       "      <td>22.70</td>\n",
       "      <td>-3.3</td>\n",
       "      <td>7</td>\n",
       "      <td>2.23</td>\n",
       "      <td>1.9</td>\n",
       "      <td>0</td>\n",
       "      <td>31</td>\n",
       "      <td>8</td>\n",
       "    </tr>\n",
       "    <tr>\n",
       "      <th>20</th>\n",
       "      <td>Slovenia</td>\n",
       "      <td>2021Q2</td>\n",
       "      <td>20053.18</td>\n",
       "      <td>14.7</td>\n",
       "      <td>13.40</td>\n",
       "      <td>16.30</td>\n",
       "      <td>1.9</td>\n",
       "      <td>-1</td>\n",
       "      <td>1.87</td>\n",
       "      <td>2</td>\n",
       "      <td>0</td>\n",
       "      <td>32</td>\n",
       "      <td>8</td>\n",
       "    </tr>\n",
       "    <tr>\n",
       "      <th>21</th>\n",
       "      <td>Spain</td>\n",
       "      <td>2021Q2</td>\n",
       "      <td>11025.30</td>\n",
       "      <td>37.63</td>\n",
       "      <td>27.73</td>\n",
       "      <td>39.07</td>\n",
       "      <td>3.2</td>\n",
       "      <td>-2.5</td>\n",
       "      <td>2.56</td>\n",
       "      <td>1.2</td>\n",
       "      <td>1</td>\n",
       "      <td>33</td>\n",
       "      <td>8</td>\n",
       "    </tr>\n",
       "    <tr>\n",
       "      <th>22</th>\n",
       "      <td>Sweden</td>\n",
       "      <td>2021Q2</td>\n",
       "      <td>28036.67</td>\n",
       "      <td>25.87</td>\n",
       "      <td>27.73</td>\n",
       "      <td>23.90</td>\n",
       "      <td>9.0</td>\n",
       "      <td>4.1</td>\n",
       "      <td>1.8</td>\n",
       "      <td>1</td>\n",
       "      <td>0</td>\n",
       "      <td>34</td>\n",
       "      <td>8</td>\n",
       "    </tr>\n",
       "  </tbody>\n",
       "</table>\n",
       "</div>"
      ],
      "text/plain": [
       "            Country    year    Corona untotal  unmen  unwomen  trade  \\\n",
       "0           Austria  2021Q2  11514.23      12  12.10    11.90    2.3   \n",
       "1           Belgium  2021Q2  17373.73    19.2  18.00    20.70   11.6   \n",
       "2    Czech Republic  2021Q2  12567.70    7.83   7.40     8.57    3.0   \n",
       "3           Denmark  2021Q2  10791.46    10.3    NaN      NaN    4.1   \n",
       "4           Estonia  2021Q2  18566.42   17.57  15.93    19.07    7.6   \n",
       "5           Finland  2021Q2   3232.49    18.8  21.07    18.13    5.8   \n",
       "6            France  2021Q2  16766.01    19.7  19.23    20.23    1.6   \n",
       "7           Germany  2021Q2  10628.72    7.13   7.50     6.70    1.5   \n",
       "8            Greece  2021Q2  15248.66   38.73  34.94    43.77    3.9   \n",
       "9           Hungary  2021Q2  16155.32    13.8  11.80    16.50    0.6   \n",
       "10          Ireland  2021Q2   7240.15   18.03  18.17    17.97    0.7   \n",
       "11           Israel  2021Q2    902.06    7.57   7.53     7.57   12.6   \n",
       "12            Italy  2021Q2  11168.83    30.3  28.40    33.00    3.9   \n",
       "13           Latvia  2021Q2  18729.10    15.9  13.47    18.93    7.9   \n",
       "14       Lithuania   2021Q2  23275.17   19.17  17.73    20.80    5.8   \n",
       "15       Luxemborg   2021Q2  14260.87    18.3  18.30    18.33    6.3   \n",
       "16    Neatherlands   2021Q2  24003.65    8.37   7.93     8.80    6.5   \n",
       "17           Poland  2021Q2  14765.56   13.83  11.90    16.57    4.1   \n",
       "18         Portugal  2021Q2   5455.69   25.23  22.63    28.40   -0.6   \n",
       "19  Slovak Republic  2021Q2  12309.54    21.3  20.43    22.70   -3.3   \n",
       "20         Slovenia  2021Q2  20053.18    14.7  13.40    16.30    1.9   \n",
       "21            Spain  2021Q2  11025.30   37.63  27.73    39.07    3.2   \n",
       "22           Sweden  2021Q2  28036.67   25.87  27.73    23.90    9.0   \n",
       "\n",
       "   Investment Inflation QGDP  Inequality  id  t  \n",
       "0         0.8      2.51  4.2           0   2  8  \n",
       "1         1.3      1.44  1.7           0   3  8  \n",
       "2         4.3       2.9  1.3           0   8  8  \n",
       "3        -2.6      1.65  1.3           0   9  8  \n",
       "4        -1.1      3.08  2.3           0  10  8  \n",
       "5           1      2.09    2           0  11  8  \n",
       "6         2.4      1.38  1.3           0  12  8  \n",
       "7         1.2      2.29  1.7           0  13  8  \n",
       "8         4.7      2.29  2.1           1  14  8  \n",
       "9         3.7      5.19    2           0  15  8  \n",
       "10        4.7      1.44  5.2           0  17  8  \n",
       "11        1.4      1.34  3.4           1  18  8  \n",
       "12        2.4       1.2  2.7           1  19  8  \n",
       "13        4.9      2.33  2.5           1  22  8  \n",
       "14        3.6      3.24    2           1  23  8  \n",
       "15        2.7      2.27    0           0  24  8  \n",
       "16       -1.6      2.01  3.8           0  26  8  \n",
       "17      -11.7      4.47  1.8           0  29  8  \n",
       "18       -0.4      0.77  4.4           1  30  8  \n",
       "19          7      2.23  1.9           0  31  8  \n",
       "20         -1      1.87    2           0  32  8  \n",
       "21       -2.5      2.56  1.2           1  33  8  \n",
       "22        4.1       1.8    1           0  34  8  "
      ]
     },
     "execution_count": 292,
     "metadata": {},
     "output_type": "execute_result"
    }
   ],
   "source": [
    "data3.reset_index(inplace = True, drop = True) # Drop old index too\n",
    "data3.iloc[0:300,:]"
   ]
  },
  {
   "cell_type": "code",
   "execution_count": 296,
   "metadata": {},
   "outputs": [
    {
     "data": {
      "application/vnd.plotly.v1+json": {
       "config": {
        "plotlyServerURL": "https://plot.ly"
       },
       "data": [
        {
         "hovertemplate": "Corona=%{x}<br>untotal=%{y}<extra></extra>",
         "legendgroup": "",
         "marker": {
          "color": "#636efa",
          "symbol": "circle"
         },
         "mode": "markers",
         "name": "",
         "orientation": "h",
         "showlegend": false,
         "type": "scatter",
         "x": [
          11514.23,
          17373.73,
          12567.7,
          10791.46,
          18566.42,
          3232.49,
          16766.01,
          10628.72,
          15248.66,
          16155.32,
          7240.15,
          902.06,
          11168.83,
          18729.1,
          23275.17,
          14260.87,
          24003.65,
          14765.56,
          5455.69,
          12309.54,
          20053.18,
          11025.3,
          28036.67
         ],
         "xaxis": "x",
         "y": [
          12,
          19.2,
          7.83,
          10.3,
          17.57,
          18.8,
          19.7,
          7.13,
          38.73,
          13.8,
          18.03,
          7.57,
          30.3,
          15.9,
          19.17,
          18.3,
          8.37,
          13.83,
          25.23,
          21.3,
          14.7,
          37.63,
          25.87
         ],
         "yaxis": "y"
        },
        {
         "hovertemplate": "<b>OLS trendline</b><br>untotal = 7.72761e-05 * Corona + 17.2268<br>R<sup>2</sup>=0.003388<br><br>Corona=%{x}<br>untotal=%{y} <b>(trend)</b><extra></extra>",
         "legendgroup": "",
         "marker": {
          "color": "#636efa",
          "symbol": "circle"
         },
         "mode": "lines",
         "name": "",
         "showlegend": false,
         "type": "scatter",
         "x": [
          902.06,
          3232.49,
          5455.69,
          7240.15,
          10628.72,
          10791.46,
          11025.3,
          11168.83,
          11514.23,
          12309.54,
          12567.7,
          14260.87,
          14765.56,
          15248.66,
          16155.32,
          16766.01,
          17373.73,
          18566.42,
          18729.1,
          20053.18,
          23275.17,
          24003.65,
          28036.67
         ],
         "xaxis": "x",
         "y": [
          17.296538181635476,
          17.47662467185315,
          17.648424848237735,
          17.786320918205003,
          18.0481763174905,
          18.06075222640775,
          18.078822464463602,
          18.089913899924415,
          18.116605057230654,
          18.17806349474434,
          18.19801308701469,
          18.328854623830583,
          18.367855087585323,
          18.405187160818226,
          18.475250289605942,
          18.52244201761795,
          18.5694042356786,
          18.66157064102771,
          18.674141913380282,
          18.776461622604508,
          19.025444372833626,
          19.081738450061334,
          19.393394417748702
         ],
         "yaxis": "y"
        }
       ],
       "layout": {
        "legend": {
         "tracegroupgap": 0
        },
        "margin": {
         "t": 60
        },
        "template": {
         "data": {
          "bar": [
           {
            "error_x": {
             "color": "#2a3f5f"
            },
            "error_y": {
             "color": "#2a3f5f"
            },
            "marker": {
             "line": {
              "color": "#E5ECF6",
              "width": 0.5
             },
             "pattern": {
              "fillmode": "overlay",
              "size": 10,
              "solidity": 0.2
             }
            },
            "type": "bar"
           }
          ],
          "barpolar": [
           {
            "marker": {
             "line": {
              "color": "#E5ECF6",
              "width": 0.5
             },
             "pattern": {
              "fillmode": "overlay",
              "size": 10,
              "solidity": 0.2
             }
            },
            "type": "barpolar"
           }
          ],
          "carpet": [
           {
            "aaxis": {
             "endlinecolor": "#2a3f5f",
             "gridcolor": "white",
             "linecolor": "white",
             "minorgridcolor": "white",
             "startlinecolor": "#2a3f5f"
            },
            "baxis": {
             "endlinecolor": "#2a3f5f",
             "gridcolor": "white",
             "linecolor": "white",
             "minorgridcolor": "white",
             "startlinecolor": "#2a3f5f"
            },
            "type": "carpet"
           }
          ],
          "choropleth": [
           {
            "colorbar": {
             "outlinewidth": 0,
             "ticks": ""
            },
            "type": "choropleth"
           }
          ],
          "contour": [
           {
            "colorbar": {
             "outlinewidth": 0,
             "ticks": ""
            },
            "colorscale": [
             [
              0,
              "#0d0887"
             ],
             [
              0.1111111111111111,
              "#46039f"
             ],
             [
              0.2222222222222222,
              "#7201a8"
             ],
             [
              0.3333333333333333,
              "#9c179e"
             ],
             [
              0.4444444444444444,
              "#bd3786"
             ],
             [
              0.5555555555555556,
              "#d8576b"
             ],
             [
              0.6666666666666666,
              "#ed7953"
             ],
             [
              0.7777777777777778,
              "#fb9f3a"
             ],
             [
              0.8888888888888888,
              "#fdca26"
             ],
             [
              1,
              "#f0f921"
             ]
            ],
            "type": "contour"
           }
          ],
          "contourcarpet": [
           {
            "colorbar": {
             "outlinewidth": 0,
             "ticks": ""
            },
            "type": "contourcarpet"
           }
          ],
          "heatmap": [
           {
            "colorbar": {
             "outlinewidth": 0,
             "ticks": ""
            },
            "colorscale": [
             [
              0,
              "#0d0887"
             ],
             [
              0.1111111111111111,
              "#46039f"
             ],
             [
              0.2222222222222222,
              "#7201a8"
             ],
             [
              0.3333333333333333,
              "#9c179e"
             ],
             [
              0.4444444444444444,
              "#bd3786"
             ],
             [
              0.5555555555555556,
              "#d8576b"
             ],
             [
              0.6666666666666666,
              "#ed7953"
             ],
             [
              0.7777777777777778,
              "#fb9f3a"
             ],
             [
              0.8888888888888888,
              "#fdca26"
             ],
             [
              1,
              "#f0f921"
             ]
            ],
            "type": "heatmap"
           }
          ],
          "heatmapgl": [
           {
            "colorbar": {
             "outlinewidth": 0,
             "ticks": ""
            },
            "colorscale": [
             [
              0,
              "#0d0887"
             ],
             [
              0.1111111111111111,
              "#46039f"
             ],
             [
              0.2222222222222222,
              "#7201a8"
             ],
             [
              0.3333333333333333,
              "#9c179e"
             ],
             [
              0.4444444444444444,
              "#bd3786"
             ],
             [
              0.5555555555555556,
              "#d8576b"
             ],
             [
              0.6666666666666666,
              "#ed7953"
             ],
             [
              0.7777777777777778,
              "#fb9f3a"
             ],
             [
              0.8888888888888888,
              "#fdca26"
             ],
             [
              1,
              "#f0f921"
             ]
            ],
            "type": "heatmapgl"
           }
          ],
          "histogram": [
           {
            "marker": {
             "pattern": {
              "fillmode": "overlay",
              "size": 10,
              "solidity": 0.2
             }
            },
            "type": "histogram"
           }
          ],
          "histogram2d": [
           {
            "colorbar": {
             "outlinewidth": 0,
             "ticks": ""
            },
            "colorscale": [
             [
              0,
              "#0d0887"
             ],
             [
              0.1111111111111111,
              "#46039f"
             ],
             [
              0.2222222222222222,
              "#7201a8"
             ],
             [
              0.3333333333333333,
              "#9c179e"
             ],
             [
              0.4444444444444444,
              "#bd3786"
             ],
             [
              0.5555555555555556,
              "#d8576b"
             ],
             [
              0.6666666666666666,
              "#ed7953"
             ],
             [
              0.7777777777777778,
              "#fb9f3a"
             ],
             [
              0.8888888888888888,
              "#fdca26"
             ],
             [
              1,
              "#f0f921"
             ]
            ],
            "type": "histogram2d"
           }
          ],
          "histogram2dcontour": [
           {
            "colorbar": {
             "outlinewidth": 0,
             "ticks": ""
            },
            "colorscale": [
             [
              0,
              "#0d0887"
             ],
             [
              0.1111111111111111,
              "#46039f"
             ],
             [
              0.2222222222222222,
              "#7201a8"
             ],
             [
              0.3333333333333333,
              "#9c179e"
             ],
             [
              0.4444444444444444,
              "#bd3786"
             ],
             [
              0.5555555555555556,
              "#d8576b"
             ],
             [
              0.6666666666666666,
              "#ed7953"
             ],
             [
              0.7777777777777778,
              "#fb9f3a"
             ],
             [
              0.8888888888888888,
              "#fdca26"
             ],
             [
              1,
              "#f0f921"
             ]
            ],
            "type": "histogram2dcontour"
           }
          ],
          "mesh3d": [
           {
            "colorbar": {
             "outlinewidth": 0,
             "ticks": ""
            },
            "type": "mesh3d"
           }
          ],
          "parcoords": [
           {
            "line": {
             "colorbar": {
              "outlinewidth": 0,
              "ticks": ""
             }
            },
            "type": "parcoords"
           }
          ],
          "pie": [
           {
            "automargin": true,
            "type": "pie"
           }
          ],
          "scatter": [
           {
            "fillpattern": {
             "fillmode": "overlay",
             "size": 10,
             "solidity": 0.2
            },
            "type": "scatter"
           }
          ],
          "scatter3d": [
           {
            "line": {
             "colorbar": {
              "outlinewidth": 0,
              "ticks": ""
             }
            },
            "marker": {
             "colorbar": {
              "outlinewidth": 0,
              "ticks": ""
             }
            },
            "type": "scatter3d"
           }
          ],
          "scattercarpet": [
           {
            "marker": {
             "colorbar": {
              "outlinewidth": 0,
              "ticks": ""
             }
            },
            "type": "scattercarpet"
           }
          ],
          "scattergeo": [
           {
            "marker": {
             "colorbar": {
              "outlinewidth": 0,
              "ticks": ""
             }
            },
            "type": "scattergeo"
           }
          ],
          "scattergl": [
           {
            "marker": {
             "colorbar": {
              "outlinewidth": 0,
              "ticks": ""
             }
            },
            "type": "scattergl"
           }
          ],
          "scattermapbox": [
           {
            "marker": {
             "colorbar": {
              "outlinewidth": 0,
              "ticks": ""
             }
            },
            "type": "scattermapbox"
           }
          ],
          "scatterpolar": [
           {
            "marker": {
             "colorbar": {
              "outlinewidth": 0,
              "ticks": ""
             }
            },
            "type": "scatterpolar"
           }
          ],
          "scatterpolargl": [
           {
            "marker": {
             "colorbar": {
              "outlinewidth": 0,
              "ticks": ""
             }
            },
            "type": "scatterpolargl"
           }
          ],
          "scatterternary": [
           {
            "marker": {
             "colorbar": {
              "outlinewidth": 0,
              "ticks": ""
             }
            },
            "type": "scatterternary"
           }
          ],
          "surface": [
           {
            "colorbar": {
             "outlinewidth": 0,
             "ticks": ""
            },
            "colorscale": [
             [
              0,
              "#0d0887"
             ],
             [
              0.1111111111111111,
              "#46039f"
             ],
             [
              0.2222222222222222,
              "#7201a8"
             ],
             [
              0.3333333333333333,
              "#9c179e"
             ],
             [
              0.4444444444444444,
              "#bd3786"
             ],
             [
              0.5555555555555556,
              "#d8576b"
             ],
             [
              0.6666666666666666,
              "#ed7953"
             ],
             [
              0.7777777777777778,
              "#fb9f3a"
             ],
             [
              0.8888888888888888,
              "#fdca26"
             ],
             [
              1,
              "#f0f921"
             ]
            ],
            "type": "surface"
           }
          ],
          "table": [
           {
            "cells": {
             "fill": {
              "color": "#EBF0F8"
             },
             "line": {
              "color": "white"
             }
            },
            "header": {
             "fill": {
              "color": "#C8D4E3"
             },
             "line": {
              "color": "white"
             }
            },
            "type": "table"
           }
          ]
         },
         "layout": {
          "annotationdefaults": {
           "arrowcolor": "#2a3f5f",
           "arrowhead": 0,
           "arrowwidth": 1
          },
          "autotypenumbers": "strict",
          "coloraxis": {
           "colorbar": {
            "outlinewidth": 0,
            "ticks": ""
           }
          },
          "colorscale": {
           "diverging": [
            [
             0,
             "#8e0152"
            ],
            [
             0.1,
             "#c51b7d"
            ],
            [
             0.2,
             "#de77ae"
            ],
            [
             0.3,
             "#f1b6da"
            ],
            [
             0.4,
             "#fde0ef"
            ],
            [
             0.5,
             "#f7f7f7"
            ],
            [
             0.6,
             "#e6f5d0"
            ],
            [
             0.7,
             "#b8e186"
            ],
            [
             0.8,
             "#7fbc41"
            ],
            [
             0.9,
             "#4d9221"
            ],
            [
             1,
             "#276419"
            ]
           ],
           "sequential": [
            [
             0,
             "#0d0887"
            ],
            [
             0.1111111111111111,
             "#46039f"
            ],
            [
             0.2222222222222222,
             "#7201a8"
            ],
            [
             0.3333333333333333,
             "#9c179e"
            ],
            [
             0.4444444444444444,
             "#bd3786"
            ],
            [
             0.5555555555555556,
             "#d8576b"
            ],
            [
             0.6666666666666666,
             "#ed7953"
            ],
            [
             0.7777777777777778,
             "#fb9f3a"
            ],
            [
             0.8888888888888888,
             "#fdca26"
            ],
            [
             1,
             "#f0f921"
            ]
           ],
           "sequentialminus": [
            [
             0,
             "#0d0887"
            ],
            [
             0.1111111111111111,
             "#46039f"
            ],
            [
             0.2222222222222222,
             "#7201a8"
            ],
            [
             0.3333333333333333,
             "#9c179e"
            ],
            [
             0.4444444444444444,
             "#bd3786"
            ],
            [
             0.5555555555555556,
             "#d8576b"
            ],
            [
             0.6666666666666666,
             "#ed7953"
            ],
            [
             0.7777777777777778,
             "#fb9f3a"
            ],
            [
             0.8888888888888888,
             "#fdca26"
            ],
            [
             1,
             "#f0f921"
            ]
           ]
          },
          "colorway": [
           "#636efa",
           "#EF553B",
           "#00cc96",
           "#ab63fa",
           "#FFA15A",
           "#19d3f3",
           "#FF6692",
           "#B6E880",
           "#FF97FF",
           "#FECB52"
          ],
          "font": {
           "color": "#2a3f5f"
          },
          "geo": {
           "bgcolor": "white",
           "lakecolor": "white",
           "landcolor": "#E5ECF6",
           "showlakes": true,
           "showland": true,
           "subunitcolor": "white"
          },
          "hoverlabel": {
           "align": "left"
          },
          "hovermode": "closest",
          "mapbox": {
           "style": "light"
          },
          "paper_bgcolor": "white",
          "plot_bgcolor": "#E5ECF6",
          "polar": {
           "angularaxis": {
            "gridcolor": "white",
            "linecolor": "white",
            "ticks": ""
           },
           "bgcolor": "#E5ECF6",
           "radialaxis": {
            "gridcolor": "white",
            "linecolor": "white",
            "ticks": ""
           }
          },
          "scene": {
           "xaxis": {
            "backgroundcolor": "#E5ECF6",
            "gridcolor": "white",
            "gridwidth": 2,
            "linecolor": "white",
            "showbackground": true,
            "ticks": "",
            "zerolinecolor": "white"
           },
           "yaxis": {
            "backgroundcolor": "#E5ECF6",
            "gridcolor": "white",
            "gridwidth": 2,
            "linecolor": "white",
            "showbackground": true,
            "ticks": "",
            "zerolinecolor": "white"
           },
           "zaxis": {
            "backgroundcolor": "#E5ECF6",
            "gridcolor": "white",
            "gridwidth": 2,
            "linecolor": "white",
            "showbackground": true,
            "ticks": "",
            "zerolinecolor": "white"
           }
          },
          "shapedefaults": {
           "line": {
            "color": "#2a3f5f"
           }
          },
          "ternary": {
           "aaxis": {
            "gridcolor": "white",
            "linecolor": "white",
            "ticks": ""
           },
           "baxis": {
            "gridcolor": "white",
            "linecolor": "white",
            "ticks": ""
           },
           "bgcolor": "#E5ECF6",
           "caxis": {
            "gridcolor": "white",
            "linecolor": "white",
            "ticks": ""
           }
          },
          "title": {
           "x": 0.05
          },
          "xaxis": {
           "automargin": true,
           "gridcolor": "white",
           "linecolor": "white",
           "ticks": "",
           "title": {
            "standoff": 15
           },
           "zerolinecolor": "white",
           "zerolinewidth": 2
          },
          "yaxis": {
           "automargin": true,
           "gridcolor": "white",
           "linecolor": "white",
           "ticks": "",
           "title": {
            "standoff": 15
           },
           "zerolinecolor": "white",
           "zerolinewidth": 2
          }
         }
        },
        "title": {
         "text": "Corona cases and unemployment rate for 2021Q2"
        },
        "xaxis": {
         "anchor": "y",
         "domain": [
          0,
          1
         ],
         "title": {
          "text": "Corona cases"
         }
        },
        "yaxis": {
         "anchor": "x",
         "domain": [
          0,
          1
         ],
         "title": {
          "text": "Unemployment"
         }
        }
       }
      }
     },
     "metadata": {},
     "output_type": "display_data"
    }
   ],
   "source": [
    "# Create scatterplot\n",
    "fig = px.scatter(data_frame=data3, x='Corona', y='untotal', trendline=\"ols\")\n",
    "\n",
    "# Customize layout\n",
    "fig.update_layout(\n",
    "    title='Corona cases and unemployment rate for 2021Q2',\n",
    "    xaxis_title='Corona cases',\n",
    "    yaxis_title='Unemployment'\n",
    ")\n",
    "\n",
    "# Show scatterplot\n",
    "fig.show()"
   ]
  },
  {
   "cell_type": "code",
   "execution_count": 302,
   "metadata": {},
   "outputs": [
    {
     "data": {
      "text/plain": [
       "<AxesSubplot:xlabel='Corona'>"
      ]
     },
     "execution_count": 302,
     "metadata": {},
     "output_type": "execute_result"
    },
    {
     "data": {
      "image/png": "[encoded data removed]",
      "text/plain": [
       "<Figure size 640x480 with 1 Axes>"
      ]
     },
     "metadata": {},
     "output_type": "display_data"
    }
   ],
   "source": [
    "fig, ax = plt.subplots()\n",
    "data3.plot.bar(x = 'Corona', y = ['unmen', 'unwomen'], rot = 40, ax = ax)"
   ]
  },
  {
   "cell_type": "markdown",
   "metadata": {},
   "source": [
    "# Analysis"
   ]
  },
  {
   "cell_type": "markdown",
   "metadata": {},
   "source": [
    "To get a quick overview of the data, we show some **summary statistics** on a meaningful aggregation. "
   ]
  },
  {
   "cell_type": "markdown",
   "metadata": {},
   "source": [
    "MAKE FURTHER ANALYSIS. EXPLAIN THE CODE BRIEFLY AND SUMMARIZE THE RESULTS."
   ]
  },
  {
   "cell_type": "markdown",
   "metadata": {},
   "source": [
    "# Conclusion"
   ]
  },
  {
   "cell_type": "markdown",
   "metadata": {},
   "source": [
    "ADD CONCISE CONLUSION."
   ]
  }
 ],
 "metadata": {
  "kernelspec": {
   "display_name": "Python 3.9.16 ('base')",
   "language": "python",
   "name": "python3"
  },
  "language_info": {
   "codemirror_mode": {
    "name": "ipython",
    "version": 3
   },
   "file_extension": ".py",
   "mimetype": "text/x-python",
   "name": "python",
   "nbconvert_exporter": "python",
   "pygments_lexer": "ipython3",
   "version": "3.9.13"
  },
  "toc-autonumbering": true,
  "vscode": {
   "interpreter": {
    "hash": "4582a841dbf878a0539951acd7f7b380e902b457459f65ec297260d5078dd399"
   }
  }
 },
 "nbformat": 4,
 "nbformat_minor": 4
}
