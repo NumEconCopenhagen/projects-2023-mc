{
 "cells": [
  {
   "attachments": {},
   "cell_type": "markdown",
   "metadata": {},
   "source": [
    "# Corona's influence on young women's unemployment"
   ]
  },
  {
   "cell_type": "markdown",
   "metadata": {},
   "source": [
    "Imports and set magics:"
   ]
  },
  {
   "cell_type": "code",
   "execution_count": 129,
   "metadata": {},
   "outputs": [
    {
     "name": "stdout",
     "output_type": "stream",
     "text": [
      "The autoreload extension is already loaded. To reload it, use:\n",
      "  %reload_ext autoreload\n"
     ]
    }
   ],
   "source": [
    "# imports\n",
    "import pandas as pd\n",
    "import numpy as np\n",
    "import matplotlib.pyplot as plt\n",
    "import ipywidgets as widgets\n",
    "from matplotlib_venn import venn2\n",
    "import pandas_datareader \n",
    "import plotly.express as px\n",
    "import statsmodels.formula.api as smf\n",
    "\n",
    "# autoreload modules when code is run\n",
    "%load_ext autoreload\n",
    "%autoreload 2\n",
    "\n",
    "# user written modules\n",
    "import dataproject\n"
   ]
  },
  {
   "cell_type": "markdown",
   "metadata": {},
   "source": [
    "# Read and clean data"
   ]
  },
  {
   "cell_type": "markdown",
   "metadata": {},
   "source": [
    "Import your data, either through an API or manually, and load it. "
   ]
  },
  {
   "cell_type": "code",
   "execution_count": 130,
   "metadata": {},
   "outputs": [
    {
     "data": {
      "text/html": [
       "<div>\n",
       "<style scoped>\n",
       "    .dataframe tbody tr th:only-of-type {\n",
       "        vertical-align: middle;\n",
       "    }\n",
       "\n",
       "    .dataframe tbody tr th {\n",
       "        vertical-align: top;\n",
       "    }\n",
       "\n",
       "    .dataframe thead th {\n",
       "        text-align: right;\n",
       "    }\n",
       "</style>\n",
       "<table border=\"1\" class=\"dataframe\">\n",
       "  <thead>\n",
       "    <tr style=\"text-align: right;\">\n",
       "      <th></th>\n",
       "      <th>Country</th>\n",
       "      <th>year</th>\n",
       "      <th>Corona</th>\n",
       "      <th>untotal</th>\n",
       "      <th>unmen</th>\n",
       "      <th>unwomen</th>\n",
       "      <th>trade</th>\n",
       "      <th>Investment</th>\n",
       "      <th>fdi</th>\n",
       "      <th>Inflation</th>\n",
       "      <th>QGDP</th>\n",
       "      <th>Inequality</th>\n",
       "      <th>id</th>\n",
       "      <th>t</th>\n",
       "    </tr>\n",
       "  </thead>\n",
       "  <tbody>\n",
       "    <tr>\n",
       "      <th>0</th>\n",
       "      <td>Australia</td>\n",
       "      <td>2019Q3</td>\n",
       "      <td>0.00</td>\n",
       "      <td>11.8</td>\n",
       "      <td>13.03</td>\n",
       "      <td>10.22</td>\n",
       "      <td>-0.3</td>\n",
       "      <td>1.1</td>\n",
       "      <td>NaN</td>\n",
       "      <td>1.67</td>\n",
       "      <td>0.8</td>\n",
       "      <td>1</td>\n",
       "      <td>1</td>\n",
       "      <td>1</td>\n",
       "    </tr>\n",
       "    <tr>\n",
       "      <th>1</th>\n",
       "      <td>Australia</td>\n",
       "      <td>2019Q4</td>\n",
       "      <td>0.00</td>\n",
       "      <td>11.91</td>\n",
       "      <td>13.14</td>\n",
       "      <td>10.43</td>\n",
       "      <td>-6.9</td>\n",
       "      <td>-0.6</td>\n",
       "      <td>NaN</td>\n",
       "      <td>1.84</td>\n",
       "      <td>0.4</td>\n",
       "      <td>1</td>\n",
       "      <td>1</td>\n",
       "      <td>2</td>\n",
       "    </tr>\n",
       "    <tr>\n",
       "      <th>2</th>\n",
       "      <td>Australia</td>\n",
       "      <td>2020Q1</td>\n",
       "      <td>176.79</td>\n",
       "      <td>12</td>\n",
       "      <td>13.59</td>\n",
       "      <td>10.75</td>\n",
       "      <td>-5.7</td>\n",
       "      <td>-0.5</td>\n",
       "      <td>3316.8</td>\n",
       "      <td>2.19</td>\n",
       "      <td>-0.3</td>\n",
       "      <td>1</td>\n",
       "      <td>1</td>\n",
       "      <td>3</td>\n",
       "    </tr>\n",
       "    <tr>\n",
       "      <th>3</th>\n",
       "      <td>Australia</td>\n",
       "      <td>2020Q2</td>\n",
       "      <td>130.33</td>\n",
       "      <td>15.35</td>\n",
       "      <td>16.08</td>\n",
       "      <td>14.62</td>\n",
       "      <td>-2.7</td>\n",
       "      <td>-4.8</td>\n",
       "      <td>251.8</td>\n",
       "      <td>-0.35</td>\n",
       "      <td>-6.8</td>\n",
       "      <td>1</td>\n",
       "      <td>1</td>\n",
       "      <td>4</td>\n",
       "    </tr>\n",
       "    <tr>\n",
       "      <th>4</th>\n",
       "      <td>Australia</td>\n",
       "      <td>2020Q3</td>\n",
       "      <td>743.60</td>\n",
       "      <td>14.96</td>\n",
       "      <td>15.73</td>\n",
       "      <td>13.99</td>\n",
       "      <td>2.1</td>\n",
       "      <td>0.7</td>\n",
       "      <td>6965.3</td>\n",
       "      <td>0.69</td>\n",
       "      <td>3.4</td>\n",
       "      <td>1</td>\n",
       "      <td>1</td>\n",
       "      <td>5</td>\n",
       "    </tr>\n",
       "  </tbody>\n",
       "</table>\n",
       "</div>"
      ],
      "text/plain": [
       "      Country    year  Corona untotal  unmen  unwomen  trade Investment  \\\n",
       "0  Australia   2019Q3    0.00    11.8  13.03    10.22   -0.3        1.1   \n",
       "1  Australia   2019Q4    0.00   11.91  13.14    10.43   -6.9       -0.6   \n",
       "2  Australia   2020Q1  176.79      12  13.59    10.75   -5.7       -0.5   \n",
       "3  Australia   2020Q2  130.33   15.35  16.08    14.62   -2.7       -4.8   \n",
       "4  Australia   2020Q3  743.60   14.96  15.73    13.99    2.1        0.7   \n",
       "\n",
       "      fdi Inflation QGDP  Inequality  id  t  \n",
       "0     NaN      1.67  0.8           1   1  1  \n",
       "1     NaN      1.84  0.4           1   1  2  \n",
       "2  3316.8      2.19 -0.3           1   1  3  \n",
       "3   251.8     -0.35 -6.8           1   1  4  \n",
       "4  6965.3      0.69  3.4           1   1  5  "
      ]
     },
     "execution_count": 130,
     "metadata": {},
     "output_type": "execute_result"
    }
   ],
   "source": [
    "# loading data. Change path to your own.\n",
    "data = pd.read_excel('/Users/clarajensen/Desktop/Introduction to Programming and Numerical Analysis /projects-2023-mc/dataproject/data.xlsx')\n",
    "data.head()"
   ]
  },
  {
   "cell_type": "code",
   "execution_count": 131,
   "metadata": {},
   "outputs": [
    {
     "name": "stdout",
     "output_type": "stream",
     "text": [
      "           Country    year    Corona  unmen  unwomen  trade  id  t\n",
      "0       Australia   2019Q3      0.00  13.03    10.22   -0.3   1  1\n",
      "1       Australia   2019Q4      0.00  13.14    10.43   -6.9   1  2\n",
      "2       Australia   2020Q1    176.79  13.59    10.75   -5.7   1  3\n",
      "3       Australia   2020Q2    130.33  16.08    14.62   -2.7   1  4\n",
      "4       Australia   2020Q3    743.60  15.73    13.99    2.1   1  5\n",
      "..             ...     ...       ...    ...      ...    ...  .. ..\n",
      "337  United States  2020Q3  13807.03  15.90    15.20   23.0  38  5\n",
      "338  United States  2020Q4  38906.29  13.00    10.97    7.6  38  6\n",
      "339  United States  2021Q1  31167.54  11.97    10.13    6.3  38  7\n",
      "340  United States  2021Q2   9595.44  10.90     9.33    6.8  38  8\n",
      "341  United States  2021Q3  28991.92  10.30     8.40    1.0  38  9\n",
      "\n",
      "[342 rows x 8 columns]\n"
     ]
    }
   ],
   "source": [
    "# dropping column variables\n",
    "data2=data.drop(['fdi', 'untotal', 'Investment', 'Inflation', 'QGDP', 'Inequality'], axis=1)\n",
    "print(data2)"
   ]
  },
  {
   "cell_type": "code",
   "execution_count": 132,
   "metadata": {},
   "outputs": [
    {
     "data": {
      "text/html": [
       "<div>\n",
       "<style scoped>\n",
       "    .dataframe tbody tr th:only-of-type {\n",
       "        vertical-align: middle;\n",
       "    }\n",
       "\n",
       "    .dataframe tbody tr th {\n",
       "        vertical-align: top;\n",
       "    }\n",
       "\n",
       "    .dataframe thead th {\n",
       "        text-align: right;\n",
       "    }\n",
       "</style>\n",
       "<table border=\"1\" class=\"dataframe\">\n",
       "  <thead>\n",
       "    <tr style=\"text-align: right;\">\n",
       "      <th></th>\n",
       "      <th>Country</th>\n",
       "      <th>year</th>\n",
       "      <th>Corona</th>\n",
       "      <th>unmen</th>\n",
       "      <th>unwomen</th>\n",
       "      <th>trade</th>\n",
       "      <th>id</th>\n",
       "      <th>t</th>\n",
       "    </tr>\n",
       "  </thead>\n",
       "  <tbody>\n",
       "    <tr>\n",
       "      <th>0</th>\n",
       "      <td>Australia</td>\n",
       "      <td>2019Q3</td>\n",
       "      <td>0.00</td>\n",
       "      <td>13.03</td>\n",
       "      <td>10.22</td>\n",
       "      <td>-0.3</td>\n",
       "      <td>1</td>\n",
       "      <td>1</td>\n",
       "    </tr>\n",
       "    <tr>\n",
       "      <th>1</th>\n",
       "      <td>Australia</td>\n",
       "      <td>2019Q4</td>\n",
       "      <td>0.00</td>\n",
       "      <td>13.14</td>\n",
       "      <td>10.43</td>\n",
       "      <td>-6.9</td>\n",
       "      <td>1</td>\n",
       "      <td>2</td>\n",
       "    </tr>\n",
       "    <tr>\n",
       "      <th>2</th>\n",
       "      <td>Australia</td>\n",
       "      <td>2020Q1</td>\n",
       "      <td>176.79</td>\n",
       "      <td>13.59</td>\n",
       "      <td>10.75</td>\n",
       "      <td>-5.7</td>\n",
       "      <td>1</td>\n",
       "      <td>3</td>\n",
       "    </tr>\n",
       "    <tr>\n",
       "      <th>3</th>\n",
       "      <td>Australia</td>\n",
       "      <td>2020Q2</td>\n",
       "      <td>130.33</td>\n",
       "      <td>16.08</td>\n",
       "      <td>14.62</td>\n",
       "      <td>-2.7</td>\n",
       "      <td>1</td>\n",
       "      <td>4</td>\n",
       "    </tr>\n",
       "    <tr>\n",
       "      <th>4</th>\n",
       "      <td>Australia</td>\n",
       "      <td>2020Q3</td>\n",
       "      <td>743.60</td>\n",
       "      <td>15.73</td>\n",
       "      <td>13.99</td>\n",
       "      <td>2.1</td>\n",
       "      <td>1</td>\n",
       "      <td>5</td>\n",
       "    </tr>\n",
       "    <tr>\n",
       "      <th>...</th>\n",
       "      <td>...</td>\n",
       "      <td>...</td>\n",
       "      <td>...</td>\n",
       "      <td>...</td>\n",
       "      <td>...</td>\n",
       "      <td>...</td>\n",
       "      <td>...</td>\n",
       "      <td>...</td>\n",
       "    </tr>\n",
       "    <tr>\n",
       "      <th>337</th>\n",
       "      <td>United States</td>\n",
       "      <td>2020Q3</td>\n",
       "      <td>13807.03</td>\n",
       "      <td>15.90</td>\n",
       "      <td>15.20</td>\n",
       "      <td>23.0</td>\n",
       "      <td>38</td>\n",
       "      <td>5</td>\n",
       "    </tr>\n",
       "    <tr>\n",
       "      <th>338</th>\n",
       "      <td>United States</td>\n",
       "      <td>2020Q4</td>\n",
       "      <td>38906.29</td>\n",
       "      <td>13.00</td>\n",
       "      <td>10.97</td>\n",
       "      <td>7.6</td>\n",
       "      <td>38</td>\n",
       "      <td>6</td>\n",
       "    </tr>\n",
       "    <tr>\n",
       "      <th>339</th>\n",
       "      <td>United States</td>\n",
       "      <td>2021Q1</td>\n",
       "      <td>31167.54</td>\n",
       "      <td>11.97</td>\n",
       "      <td>10.13</td>\n",
       "      <td>6.3</td>\n",
       "      <td>38</td>\n",
       "      <td>7</td>\n",
       "    </tr>\n",
       "    <tr>\n",
       "      <th>340</th>\n",
       "      <td>United States</td>\n",
       "      <td>2021Q2</td>\n",
       "      <td>9595.44</td>\n",
       "      <td>10.90</td>\n",
       "      <td>9.33</td>\n",
       "      <td>6.8</td>\n",
       "      <td>38</td>\n",
       "      <td>8</td>\n",
       "    </tr>\n",
       "    <tr>\n",
       "      <th>341</th>\n",
       "      <td>United States</td>\n",
       "      <td>2021Q3</td>\n",
       "      <td>28991.92</td>\n",
       "      <td>10.30</td>\n",
       "      <td>8.40</td>\n",
       "      <td>1.0</td>\n",
       "      <td>38</td>\n",
       "      <td>9</td>\n",
       "    </tr>\n",
       "  </tbody>\n",
       "</table>\n",
       "<p>144 rows × 8 columns</p>\n",
       "</div>"
      ],
      "text/plain": [
       "           Country    year    Corona  unmen  unwomen  trade  id  t\n",
       "0       Australia   2019Q3      0.00  13.03    10.22   -0.3   1  1\n",
       "1       Australia   2019Q4      0.00  13.14    10.43   -6.9   1  2\n",
       "2       Australia   2020Q1    176.79  13.59    10.75   -5.7   1  3\n",
       "3       Australia   2020Q2    130.33  16.08    14.62   -2.7   1  4\n",
       "4       Australia   2020Q3    743.60  15.73    13.99    2.1   1  5\n",
       "..             ...     ...       ...    ...      ...    ...  .. ..\n",
       "337  United States  2020Q3  13807.03  15.90    15.20   23.0  38  5\n",
       "338  United States  2020Q4  38906.29  13.00    10.97    7.6  38  6\n",
       "339  United States  2021Q1  31167.54  11.97    10.13    6.3  38  7\n",
       "340  United States  2021Q2   9595.44  10.90     9.33    6.8  38  8\n",
       "341  United States  2021Q3  28991.92  10.30     8.40    1.0  38  9\n",
       "\n",
       "[144 rows x 8 columns]"
      ]
     },
     "execution_count": 132,
     "metadata": {},
     "output_type": "execute_result"
    }
   ],
   "source": [
    "# dropping row variables that are not EU countries\n",
    "\n",
    "I = data2.Country.str.contains('Australia')\n",
    "I |= data2.Country.str.contains('Canada')\n",
    "I |= data2.Country.str.contains('Chile')\n",
    "I |= data2.Country.str.contains('Colombia')\n",
    "I |= data2.Country.str.contains('Costa Rica')\n",
    "I |= data2.Country.str.contains('Iceland')\n",
    "I |= data2.Country.str.contains('Israel')\n",
    "I |= data2.Country.str.contains('Japan')\n",
    "I |= data2.Country.str.contains('Korea')\n",
    "I |= data2.Country.str.contains('Mexico')\n",
    "I |= data2.Country.str.contains('New Zealand')\n",
    "I |= data2.Country.str.contains('Norway')\n",
    "I |= data2.Country.str.contains('Switzerland')\n",
    "I |= data2.Country.str.contains('Turkey')\n",
    "I |= data2.Country.str.contains('United Kingdom')\n",
    "I |= data2.Country.str.contains('United States')\n",
    "\n",
    "data2.loc[I, :]"
   ]
  },
  {
   "cell_type": "code",
   "execution_count": 133,
   "metadata": {},
   "outputs": [
    {
     "data": {
      "text/html": [
       "<div>\n",
       "<style scoped>\n",
       "    .dataframe tbody tr th:only-of-type {\n",
       "        vertical-align: middle;\n",
       "    }\n",
       "\n",
       "    .dataframe tbody tr th {\n",
       "        vertical-align: top;\n",
       "    }\n",
       "\n",
       "    .dataframe thead th {\n",
       "        text-align: right;\n",
       "    }\n",
       "</style>\n",
       "<table border=\"1\" class=\"dataframe\">\n",
       "  <thead>\n",
       "    <tr style=\"text-align: right;\">\n",
       "      <th></th>\n",
       "      <th>Country</th>\n",
       "      <th>year</th>\n",
       "      <th>Corona</th>\n",
       "      <th>unmen</th>\n",
       "      <th>unwomen</th>\n",
       "      <th>trade</th>\n",
       "      <th>id</th>\n",
       "      <th>t</th>\n",
       "    </tr>\n",
       "  </thead>\n",
       "  <tbody>\n",
       "    <tr>\n",
       "      <th>9</th>\n",
       "      <td>Austria</td>\n",
       "      <td>2019Q3</td>\n",
       "      <td>0.00</td>\n",
       "      <td>10.50</td>\n",
       "      <td>8.97</td>\n",
       "      <td>-1.8</td>\n",
       "      <td>2</td>\n",
       "      <td>1</td>\n",
       "    </tr>\n",
       "    <tr>\n",
       "      <th>10</th>\n",
       "      <td>Austria</td>\n",
       "      <td>2019Q4</td>\n",
       "      <td>0.00</td>\n",
       "      <td>10.47</td>\n",
       "      <td>7.73</td>\n",
       "      <td>-0.7</td>\n",
       "      <td>2</td>\n",
       "      <td>2</td>\n",
       "    </tr>\n",
       "    <tr>\n",
       "      <th>11</th>\n",
       "      <td>Austria</td>\n",
       "      <td>2020Q1</td>\n",
       "      <td>1125.72</td>\n",
       "      <td>11.13</td>\n",
       "      <td>8.90</td>\n",
       "      <td>-1.1</td>\n",
       "      <td>2</td>\n",
       "      <td>3</td>\n",
       "    </tr>\n",
       "    <tr>\n",
       "      <th>12</th>\n",
       "      <td>Austria</td>\n",
       "      <td>2020Q2</td>\n",
       "      <td>838.87</td>\n",
       "      <td>15.27</td>\n",
       "      <td>13.17</td>\n",
       "      <td>-16.5</td>\n",
       "      <td>2</td>\n",
       "      <td>4</td>\n",
       "    </tr>\n",
       "    <tr>\n",
       "      <th>13</th>\n",
       "      <td>Austria</td>\n",
       "      <td>2020Q3</td>\n",
       "      <td>2990.91</td>\n",
       "      <td>12.40</td>\n",
       "      <td>10.53</td>\n",
       "      <td>21.6</td>\n",
       "      <td>2</td>\n",
       "      <td>5</td>\n",
       "    </tr>\n",
       "    <tr>\n",
       "      <th>14</th>\n",
       "      <td>Austria</td>\n",
       "      <td>2020Q4</td>\n",
       "      <td>34944.10</td>\n",
       "      <td>11.60</td>\n",
       "      <td>9.97</td>\n",
       "      <td>4.9</td>\n",
       "      <td>2</td>\n",
       "      <td>6</td>\n",
       "    </tr>\n",
       "    <tr>\n",
       "      <th>15</th>\n",
       "      <td>Austria</td>\n",
       "      <td>2021Q1</td>\n",
       "      <td>20503.43</td>\n",
       "      <td>12.00</td>\n",
       "      <td>12.80</td>\n",
       "      <td>7.7</td>\n",
       "      <td>2</td>\n",
       "      <td>7</td>\n",
       "    </tr>\n",
       "    <tr>\n",
       "      <th>16</th>\n",
       "      <td>Austria</td>\n",
       "      <td>2021Q2</td>\n",
       "      <td>11514.23</td>\n",
       "      <td>12.10</td>\n",
       "      <td>11.90</td>\n",
       "      <td>2.3</td>\n",
       "      <td>2</td>\n",
       "      <td>8</td>\n",
       "    </tr>\n",
       "    <tr>\n",
       "      <th>17</th>\n",
       "      <td>Austria</td>\n",
       "      <td>2021Q3</td>\n",
       "      <td>10029.00</td>\n",
       "      <td>10.10</td>\n",
       "      <td>10.17</td>\n",
       "      <td>-0.2</td>\n",
       "      <td>2</td>\n",
       "      <td>9</td>\n",
       "    </tr>\n",
       "    <tr>\n",
       "      <th>18</th>\n",
       "      <td>Belgium</td>\n",
       "      <td>2019Q3</td>\n",
       "      <td>0.00</td>\n",
       "      <td>13.20</td>\n",
       "      <td>11.70</td>\n",
       "      <td>-1.8</td>\n",
       "      <td>3</td>\n",
       "      <td>1</td>\n",
       "    </tr>\n",
       "  </tbody>\n",
       "</table>\n",
       "</div>"
      ],
      "text/plain": [
       "    Country    year    Corona  unmen  unwomen  trade  id  t\n",
       "9   Austria  2019Q3      0.00  10.50     8.97   -1.8   2  1\n",
       "10  Austria  2019Q4      0.00  10.47     7.73   -0.7   2  2\n",
       "11  Austria  2020Q1   1125.72  11.13     8.90   -1.1   2  3\n",
       "12  Austria  2020Q2    838.87  15.27    13.17  -16.5   2  4\n",
       "13  Austria  2020Q3   2990.91  12.40    10.53   21.6   2  5\n",
       "14  Austria  2020Q4  34944.10  11.60     9.97    4.9   2  6\n",
       "15  Austria  2021Q1  20503.43  12.00    12.80    7.7   2  7\n",
       "16  Austria  2021Q2  11514.23  12.10    11.90    2.3   2  8\n",
       "17  Austria  2021Q3  10029.00  10.10    10.17   -0.2   2  9\n",
       "18  Belgium  2019Q3      0.00  13.20    11.70   -1.8   3  1"
      ]
     },
     "execution_count": 133,
     "metadata": {},
     "output_type": "execute_result"
    }
   ],
   "source": [
    "data2 = data2.loc[I == False] # keep everything else\n",
    "data2.head(10)"
   ]
  },
  {
   "cell_type": "code",
   "execution_count": 134,
   "metadata": {},
   "outputs": [
    {
     "data": {
      "text/html": [
       "<div>\n",
       "<style scoped>\n",
       "    .dataframe tbody tr th:only-of-type {\n",
       "        vertical-align: middle;\n",
       "    }\n",
       "\n",
       "    .dataframe tbody tr th {\n",
       "        vertical-align: top;\n",
       "    }\n",
       "\n",
       "    .dataframe thead th {\n",
       "        text-align: right;\n",
       "    }\n",
       "</style>\n",
       "<table border=\"1\" class=\"dataframe\">\n",
       "  <thead>\n",
       "    <tr style=\"text-align: right;\">\n",
       "      <th></th>\n",
       "      <th>Country</th>\n",
       "      <th>year</th>\n",
       "      <th>Corona</th>\n",
       "      <th>unmen</th>\n",
       "      <th>unwomen</th>\n",
       "      <th>trade</th>\n",
       "      <th>id</th>\n",
       "      <th>t</th>\n",
       "    </tr>\n",
       "  </thead>\n",
       "  <tbody>\n",
       "    <tr>\n",
       "      <th>0</th>\n",
       "      <td>Austria</td>\n",
       "      <td>2019Q3</td>\n",
       "      <td>0.00</td>\n",
       "      <td>10.50</td>\n",
       "      <td>8.97</td>\n",
       "      <td>-1.8</td>\n",
       "      <td>2</td>\n",
       "      <td>1</td>\n",
       "    </tr>\n",
       "    <tr>\n",
       "      <th>1</th>\n",
       "      <td>Austria</td>\n",
       "      <td>2019Q4</td>\n",
       "      <td>0.00</td>\n",
       "      <td>10.47</td>\n",
       "      <td>7.73</td>\n",
       "      <td>-0.7</td>\n",
       "      <td>2</td>\n",
       "      <td>2</td>\n",
       "    </tr>\n",
       "    <tr>\n",
       "      <th>2</th>\n",
       "      <td>Austria</td>\n",
       "      <td>2020Q1</td>\n",
       "      <td>1125.72</td>\n",
       "      <td>11.13</td>\n",
       "      <td>8.90</td>\n",
       "      <td>-1.1</td>\n",
       "      <td>2</td>\n",
       "      <td>3</td>\n",
       "    </tr>\n",
       "    <tr>\n",
       "      <th>3</th>\n",
       "      <td>Austria</td>\n",
       "      <td>2020Q2</td>\n",
       "      <td>838.87</td>\n",
       "      <td>15.27</td>\n",
       "      <td>13.17</td>\n",
       "      <td>-16.5</td>\n",
       "      <td>2</td>\n",
       "      <td>4</td>\n",
       "    </tr>\n",
       "    <tr>\n",
       "      <th>4</th>\n",
       "      <td>Austria</td>\n",
       "      <td>2020Q3</td>\n",
       "      <td>2990.91</td>\n",
       "      <td>12.40</td>\n",
       "      <td>10.53</td>\n",
       "      <td>21.6</td>\n",
       "      <td>2</td>\n",
       "      <td>5</td>\n",
       "    </tr>\n",
       "    <tr>\n",
       "      <th>...</th>\n",
       "      <td>...</td>\n",
       "      <td>...</td>\n",
       "      <td>...</td>\n",
       "      <td>...</td>\n",
       "      <td>...</td>\n",
       "      <td>...</td>\n",
       "      <td>...</td>\n",
       "      <td>...</td>\n",
       "    </tr>\n",
       "    <tr>\n",
       "      <th>193</th>\n",
       "      <td>Sweden</td>\n",
       "      <td>2020Q3</td>\n",
       "      <td>2443.59</td>\n",
       "      <td>27.73</td>\n",
       "      <td>25.30</td>\n",
       "      <td>17.1</td>\n",
       "      <td>34</td>\n",
       "      <td>5</td>\n",
       "    </tr>\n",
       "    <tr>\n",
       "      <th>194</th>\n",
       "      <td>Sweden</td>\n",
       "      <td>2020Q4</td>\n",
       "      <td>33908.52</td>\n",
       "      <td>24.67</td>\n",
       "      <td>22.67</td>\n",
       "      <td>6.1</td>\n",
       "      <td>34</td>\n",
       "      <td>6</td>\n",
       "    </tr>\n",
       "    <tr>\n",
       "      <th>195</th>\n",
       "      <td>Sweden</td>\n",
       "      <td>2021Q1</td>\n",
       "      <td>36171.38</td>\n",
       "      <td>25.23</td>\n",
       "      <td>23.80</td>\n",
       "      <td>6.3</td>\n",
       "      <td>34</td>\n",
       "      <td>7</td>\n",
       "    </tr>\n",
       "    <tr>\n",
       "      <th>196</th>\n",
       "      <td>Sweden</td>\n",
       "      <td>2021Q2</td>\n",
       "      <td>28036.67</td>\n",
       "      <td>27.73</td>\n",
       "      <td>23.90</td>\n",
       "      <td>9.0</td>\n",
       "      <td>34</td>\n",
       "      <td>8</td>\n",
       "    </tr>\n",
       "    <tr>\n",
       "      <th>197</th>\n",
       "      <td>Sweden</td>\n",
       "      <td>2021Q3</td>\n",
       "      <td>6130.22</td>\n",
       "      <td>25.13</td>\n",
       "      <td>23.90</td>\n",
       "      <td>-1.9</td>\n",
       "      <td>34</td>\n",
       "      <td>9</td>\n",
       "    </tr>\n",
       "  </tbody>\n",
       "</table>\n",
       "<p>198 rows × 8 columns</p>\n",
       "</div>"
      ],
      "text/plain": [
       "     Country    year    Corona  unmen  unwomen  trade  id  t\n",
       "0    Austria  2019Q3      0.00  10.50     8.97   -1.8   2  1\n",
       "1    Austria  2019Q4      0.00  10.47     7.73   -0.7   2  2\n",
       "2    Austria  2020Q1   1125.72  11.13     8.90   -1.1   2  3\n",
       "3    Austria  2020Q2    838.87  15.27    13.17  -16.5   2  4\n",
       "4    Austria  2020Q3   2990.91  12.40    10.53   21.6   2  5\n",
       "..       ...     ...       ...    ...      ...    ...  .. ..\n",
       "193   Sweden  2020Q3   2443.59  27.73    25.30   17.1  34  5\n",
       "194   Sweden  2020Q4  33908.52  24.67    22.67    6.1  34  6\n",
       "195   Sweden  2021Q1  36171.38  25.23    23.80    6.3  34  7\n",
       "196   Sweden  2021Q2  28036.67  27.73    23.90    9.0  34  8\n",
       "197   Sweden  2021Q3   6130.22  25.13    23.90   -1.9  34  9\n",
       "\n",
       "[198 rows x 8 columns]"
      ]
     },
     "execution_count": 134,
     "metadata": {},
     "output_type": "execute_result"
    }
   ],
   "source": [
    "data2.reset_index(inplace = True, drop = True) # Drop old index too\n",
    "data2.iloc[0:300,:]"
   ]
  },
  {
   "attachments": {},
   "cell_type": "markdown",
   "metadata": {},
   "source": [
    "## Explore data set"
   ]
  },
  {
   "attachments": {},
   "cell_type": "markdown",
   "metadata": {},
   "source": [
    "**Interactive scatter plot**"
   ]
  },
  {
   "cell_type": "code",
   "execution_count": 135,
   "metadata": {},
   "outputs": [
    {
     "data": {
      "text/html": [
       "<div>\n",
       "<style scoped>\n",
       "    .dataframe tbody tr th:only-of-type {\n",
       "        vertical-align: middle;\n",
       "    }\n",
       "\n",
       "    .dataframe tbody tr th {\n",
       "        vertical-align: top;\n",
       "    }\n",
       "\n",
       "    .dataframe thead th {\n",
       "        text-align: right;\n",
       "    }\n",
       "</style>\n",
       "<table border=\"1\" class=\"dataframe\">\n",
       "  <thead>\n",
       "    <tr style=\"text-align: right;\">\n",
       "      <th></th>\n",
       "      <th>Country</th>\n",
       "      <th>year</th>\n",
       "      <th>Corona</th>\n",
       "      <th>unmen</th>\n",
       "      <th>unwomen</th>\n",
       "      <th>trade</th>\n",
       "      <th>id</th>\n",
       "      <th>t</th>\n",
       "    </tr>\n",
       "  </thead>\n",
       "  <tbody>\n",
       "    <tr>\n",
       "      <th>7</th>\n",
       "      <td>Austria</td>\n",
       "      <td>2021Q2</td>\n",
       "      <td>11514.23</td>\n",
       "      <td>12.10</td>\n",
       "      <td>11.90</td>\n",
       "      <td>2.3</td>\n",
       "      <td>2</td>\n",
       "      <td>8</td>\n",
       "    </tr>\n",
       "    <tr>\n",
       "      <th>16</th>\n",
       "      <td>Belgium</td>\n",
       "      <td>2021Q2</td>\n",
       "      <td>17373.73</td>\n",
       "      <td>18.00</td>\n",
       "      <td>20.70</td>\n",
       "      <td>11.6</td>\n",
       "      <td>3</td>\n",
       "      <td>8</td>\n",
       "    </tr>\n",
       "    <tr>\n",
       "      <th>25</th>\n",
       "      <td>Czech Republic</td>\n",
       "      <td>2021Q2</td>\n",
       "      <td>12567.70</td>\n",
       "      <td>7.40</td>\n",
       "      <td>8.57</td>\n",
       "      <td>3.0</td>\n",
       "      <td>8</td>\n",
       "      <td>8</td>\n",
       "    </tr>\n",
       "    <tr>\n",
       "      <th>34</th>\n",
       "      <td>Denmark</td>\n",
       "      <td>2021Q2</td>\n",
       "      <td>10791.46</td>\n",
       "      <td>NaN</td>\n",
       "      <td>NaN</td>\n",
       "      <td>4.1</td>\n",
       "      <td>9</td>\n",
       "      <td>8</td>\n",
       "    </tr>\n",
       "    <tr>\n",
       "      <th>43</th>\n",
       "      <td>Estonia</td>\n",
       "      <td>2021Q2</td>\n",
       "      <td>18566.42</td>\n",
       "      <td>15.93</td>\n",
       "      <td>19.07</td>\n",
       "      <td>7.6</td>\n",
       "      <td>10</td>\n",
       "      <td>8</td>\n",
       "    </tr>\n",
       "    <tr>\n",
       "      <th>52</th>\n",
       "      <td>Finland</td>\n",
       "      <td>2021Q2</td>\n",
       "      <td>3232.49</td>\n",
       "      <td>21.07</td>\n",
       "      <td>18.13</td>\n",
       "      <td>5.8</td>\n",
       "      <td>11</td>\n",
       "      <td>8</td>\n",
       "    </tr>\n",
       "    <tr>\n",
       "      <th>61</th>\n",
       "      <td>France</td>\n",
       "      <td>2021Q2</td>\n",
       "      <td>16766.01</td>\n",
       "      <td>19.23</td>\n",
       "      <td>20.23</td>\n",
       "      <td>1.6</td>\n",
       "      <td>12</td>\n",
       "      <td>8</td>\n",
       "    </tr>\n",
       "    <tr>\n",
       "      <th>70</th>\n",
       "      <td>Germany</td>\n",
       "      <td>2021Q2</td>\n",
       "      <td>10628.72</td>\n",
       "      <td>7.50</td>\n",
       "      <td>6.70</td>\n",
       "      <td>1.5</td>\n",
       "      <td>13</td>\n",
       "      <td>8</td>\n",
       "    </tr>\n",
       "    <tr>\n",
       "      <th>79</th>\n",
       "      <td>Greece</td>\n",
       "      <td>2021Q2</td>\n",
       "      <td>15248.66</td>\n",
       "      <td>34.94</td>\n",
       "      <td>43.77</td>\n",
       "      <td>3.9</td>\n",
       "      <td>14</td>\n",
       "      <td>8</td>\n",
       "    </tr>\n",
       "    <tr>\n",
       "      <th>88</th>\n",
       "      <td>Hungary</td>\n",
       "      <td>2021Q2</td>\n",
       "      <td>16155.32</td>\n",
       "      <td>11.80</td>\n",
       "      <td>16.50</td>\n",
       "      <td>0.6</td>\n",
       "      <td>15</td>\n",
       "      <td>8</td>\n",
       "    </tr>\n",
       "    <tr>\n",
       "      <th>97</th>\n",
       "      <td>Ireland</td>\n",
       "      <td>2021Q2</td>\n",
       "      <td>7240.15</td>\n",
       "      <td>18.17</td>\n",
       "      <td>17.97</td>\n",
       "      <td>0.7</td>\n",
       "      <td>17</td>\n",
       "      <td>8</td>\n",
       "    </tr>\n",
       "    <tr>\n",
       "      <th>106</th>\n",
       "      <td>Italy</td>\n",
       "      <td>2021Q2</td>\n",
       "      <td>11168.83</td>\n",
       "      <td>28.40</td>\n",
       "      <td>33.00</td>\n",
       "      <td>3.9</td>\n",
       "      <td>19</td>\n",
       "      <td>8</td>\n",
       "    </tr>\n",
       "    <tr>\n",
       "      <th>115</th>\n",
       "      <td>Latvia</td>\n",
       "      <td>2021Q2</td>\n",
       "      <td>18729.10</td>\n",
       "      <td>13.47</td>\n",
       "      <td>18.93</td>\n",
       "      <td>7.9</td>\n",
       "      <td>22</td>\n",
       "      <td>8</td>\n",
       "    </tr>\n",
       "    <tr>\n",
       "      <th>124</th>\n",
       "      <td>Lithuania</td>\n",
       "      <td>2021Q2</td>\n",
       "      <td>23275.17</td>\n",
       "      <td>17.73</td>\n",
       "      <td>20.80</td>\n",
       "      <td>5.8</td>\n",
       "      <td>23</td>\n",
       "      <td>8</td>\n",
       "    </tr>\n",
       "    <tr>\n",
       "      <th>133</th>\n",
       "      <td>Luxembourg</td>\n",
       "      <td>2021Q2</td>\n",
       "      <td>14260.87</td>\n",
       "      <td>18.30</td>\n",
       "      <td>18.33</td>\n",
       "      <td>6.3</td>\n",
       "      <td>24</td>\n",
       "      <td>8</td>\n",
       "    </tr>\n",
       "    <tr>\n",
       "      <th>142</th>\n",
       "      <td>Netherlands</td>\n",
       "      <td>2021Q2</td>\n",
       "      <td>24003.65</td>\n",
       "      <td>7.93</td>\n",
       "      <td>8.80</td>\n",
       "      <td>6.5</td>\n",
       "      <td>26</td>\n",
       "      <td>8</td>\n",
       "    </tr>\n",
       "    <tr>\n",
       "      <th>151</th>\n",
       "      <td>Poland</td>\n",
       "      <td>2021Q2</td>\n",
       "      <td>14765.56</td>\n",
       "      <td>11.90</td>\n",
       "      <td>16.57</td>\n",
       "      <td>4.1</td>\n",
       "      <td>29</td>\n",
       "      <td>8</td>\n",
       "    </tr>\n",
       "    <tr>\n",
       "      <th>160</th>\n",
       "      <td>Portugal</td>\n",
       "      <td>2021Q2</td>\n",
       "      <td>5455.69</td>\n",
       "      <td>22.63</td>\n",
       "      <td>28.40</td>\n",
       "      <td>-0.6</td>\n",
       "      <td>30</td>\n",
       "      <td>8</td>\n",
       "    </tr>\n",
       "    <tr>\n",
       "      <th>169</th>\n",
       "      <td>Slovakia</td>\n",
       "      <td>2021Q2</td>\n",
       "      <td>12309.54</td>\n",
       "      <td>20.43</td>\n",
       "      <td>22.70</td>\n",
       "      <td>-3.3</td>\n",
       "      <td>31</td>\n",
       "      <td>8</td>\n",
       "    </tr>\n",
       "    <tr>\n",
       "      <th>178</th>\n",
       "      <td>Slovenia</td>\n",
       "      <td>2021Q2</td>\n",
       "      <td>20053.18</td>\n",
       "      <td>13.40</td>\n",
       "      <td>16.30</td>\n",
       "      <td>1.9</td>\n",
       "      <td>32</td>\n",
       "      <td>8</td>\n",
       "    </tr>\n",
       "    <tr>\n",
       "      <th>187</th>\n",
       "      <td>Spain</td>\n",
       "      <td>2021Q2</td>\n",
       "      <td>11025.30</td>\n",
       "      <td>27.73</td>\n",
       "      <td>39.07</td>\n",
       "      <td>3.2</td>\n",
       "      <td>33</td>\n",
       "      <td>8</td>\n",
       "    </tr>\n",
       "    <tr>\n",
       "      <th>196</th>\n",
       "      <td>Sweden</td>\n",
       "      <td>2021Q2</td>\n",
       "      <td>28036.67</td>\n",
       "      <td>27.73</td>\n",
       "      <td>23.90</td>\n",
       "      <td>9.0</td>\n",
       "      <td>34</td>\n",
       "      <td>8</td>\n",
       "    </tr>\n",
       "  </tbody>\n",
       "</table>\n",
       "</div>"
      ],
      "text/plain": [
       "            Country    year    Corona  unmen  unwomen  trade  id  t\n",
       "7           Austria  2021Q2  11514.23  12.10    11.90    2.3   2  8\n",
       "16          Belgium  2021Q2  17373.73  18.00    20.70   11.6   3  8\n",
       "25   Czech Republic  2021Q2  12567.70   7.40     8.57    3.0   8  8\n",
       "34          Denmark  2021Q2  10791.46    NaN      NaN    4.1   9  8\n",
       "43          Estonia  2021Q2  18566.42  15.93    19.07    7.6  10  8\n",
       "52          Finland  2021Q2   3232.49  21.07    18.13    5.8  11  8\n",
       "61           France  2021Q2  16766.01  19.23    20.23    1.6  12  8\n",
       "70          Germany  2021Q2  10628.72   7.50     6.70    1.5  13  8\n",
       "79           Greece  2021Q2  15248.66  34.94    43.77    3.9  14  8\n",
       "88          Hungary  2021Q2  16155.32  11.80    16.50    0.6  15  8\n",
       "97          Ireland  2021Q2   7240.15  18.17    17.97    0.7  17  8\n",
       "106           Italy  2021Q2  11168.83  28.40    33.00    3.9  19  8\n",
       "115          Latvia  2021Q2  18729.10  13.47    18.93    7.9  22  8\n",
       "124      Lithuania   2021Q2  23275.17  17.73    20.80    5.8  23  8\n",
       "133     Luxembourg   2021Q2  14260.87  18.30    18.33    6.3  24  8\n",
       "142    Netherlands   2021Q2  24003.65   7.93     8.80    6.5  26  8\n",
       "151          Poland  2021Q2  14765.56  11.90    16.57    4.1  29  8\n",
       "160        Portugal  2021Q2   5455.69  22.63    28.40   -0.6  30  8\n",
       "169        Slovakia  2021Q2  12309.54  20.43    22.70   -3.3  31  8\n",
       "178        Slovenia  2021Q2  20053.18  13.40    16.30    1.9  32  8\n",
       "187           Spain  2021Q2  11025.30  27.73    39.07    3.2  33  8\n",
       "196          Sweden  2021Q2  28036.67  27.73    23.90    9.0  34  8"
      ]
     },
     "execution_count": 135,
     "metadata": {},
     "output_type": "execute_result"
    }
   ],
   "source": [
    "# choosing one time period to investigate\n",
    "T = data2.year.str.contains('2021Q2')\n",
    "data2.loc[T, :]"
   ]
  },
  {
   "cell_type": "code",
   "execution_count": 136,
   "metadata": {},
   "outputs": [],
   "source": [
    "data3 = data2.loc[T == True] # keep everything else"
   ]
  },
  {
   "cell_type": "code",
   "execution_count": 137,
   "metadata": {},
   "outputs": [
    {
     "data": {
      "text/html": [
       "<div>\n",
       "<style scoped>\n",
       "    .dataframe tbody tr th:only-of-type {\n",
       "        vertical-align: middle;\n",
       "    }\n",
       "\n",
       "    .dataframe tbody tr th {\n",
       "        vertical-align: top;\n",
       "    }\n",
       "\n",
       "    .dataframe thead th {\n",
       "        text-align: right;\n",
       "    }\n",
       "</style>\n",
       "<table border=\"1\" class=\"dataframe\">\n",
       "  <thead>\n",
       "    <tr style=\"text-align: right;\">\n",
       "      <th></th>\n",
       "      <th>Country</th>\n",
       "      <th>year</th>\n",
       "      <th>Corona</th>\n",
       "      <th>unmen</th>\n",
       "      <th>unwomen</th>\n",
       "      <th>trade</th>\n",
       "      <th>id</th>\n",
       "      <th>t</th>\n",
       "    </tr>\n",
       "  </thead>\n",
       "  <tbody>\n",
       "    <tr>\n",
       "      <th>0</th>\n",
       "      <td>Austria</td>\n",
       "      <td>2021Q2</td>\n",
       "      <td>11514.23</td>\n",
       "      <td>12.10</td>\n",
       "      <td>11.90</td>\n",
       "      <td>2.3</td>\n",
       "      <td>2</td>\n",
       "      <td>8</td>\n",
       "    </tr>\n",
       "    <tr>\n",
       "      <th>1</th>\n",
       "      <td>Belgium</td>\n",
       "      <td>2021Q2</td>\n",
       "      <td>17373.73</td>\n",
       "      <td>18.00</td>\n",
       "      <td>20.70</td>\n",
       "      <td>11.6</td>\n",
       "      <td>3</td>\n",
       "      <td>8</td>\n",
       "    </tr>\n",
       "    <tr>\n",
       "      <th>2</th>\n",
       "      <td>Czech Republic</td>\n",
       "      <td>2021Q2</td>\n",
       "      <td>12567.70</td>\n",
       "      <td>7.40</td>\n",
       "      <td>8.57</td>\n",
       "      <td>3.0</td>\n",
       "      <td>8</td>\n",
       "      <td>8</td>\n",
       "    </tr>\n",
       "    <tr>\n",
       "      <th>3</th>\n",
       "      <td>Denmark</td>\n",
       "      <td>2021Q2</td>\n",
       "      <td>10791.46</td>\n",
       "      <td>NaN</td>\n",
       "      <td>NaN</td>\n",
       "      <td>4.1</td>\n",
       "      <td>9</td>\n",
       "      <td>8</td>\n",
       "    </tr>\n",
       "    <tr>\n",
       "      <th>4</th>\n",
       "      <td>Estonia</td>\n",
       "      <td>2021Q2</td>\n",
       "      <td>18566.42</td>\n",
       "      <td>15.93</td>\n",
       "      <td>19.07</td>\n",
       "      <td>7.6</td>\n",
       "      <td>10</td>\n",
       "      <td>8</td>\n",
       "    </tr>\n",
       "    <tr>\n",
       "      <th>5</th>\n",
       "      <td>Finland</td>\n",
       "      <td>2021Q2</td>\n",
       "      <td>3232.49</td>\n",
       "      <td>21.07</td>\n",
       "      <td>18.13</td>\n",
       "      <td>5.8</td>\n",
       "      <td>11</td>\n",
       "      <td>8</td>\n",
       "    </tr>\n",
       "    <tr>\n",
       "      <th>6</th>\n",
       "      <td>France</td>\n",
       "      <td>2021Q2</td>\n",
       "      <td>16766.01</td>\n",
       "      <td>19.23</td>\n",
       "      <td>20.23</td>\n",
       "      <td>1.6</td>\n",
       "      <td>12</td>\n",
       "      <td>8</td>\n",
       "    </tr>\n",
       "    <tr>\n",
       "      <th>7</th>\n",
       "      <td>Germany</td>\n",
       "      <td>2021Q2</td>\n",
       "      <td>10628.72</td>\n",
       "      <td>7.50</td>\n",
       "      <td>6.70</td>\n",
       "      <td>1.5</td>\n",
       "      <td>13</td>\n",
       "      <td>8</td>\n",
       "    </tr>\n",
       "    <tr>\n",
       "      <th>8</th>\n",
       "      <td>Greece</td>\n",
       "      <td>2021Q2</td>\n",
       "      <td>15248.66</td>\n",
       "      <td>34.94</td>\n",
       "      <td>43.77</td>\n",
       "      <td>3.9</td>\n",
       "      <td>14</td>\n",
       "      <td>8</td>\n",
       "    </tr>\n",
       "    <tr>\n",
       "      <th>9</th>\n",
       "      <td>Hungary</td>\n",
       "      <td>2021Q2</td>\n",
       "      <td>16155.32</td>\n",
       "      <td>11.80</td>\n",
       "      <td>16.50</td>\n",
       "      <td>0.6</td>\n",
       "      <td>15</td>\n",
       "      <td>8</td>\n",
       "    </tr>\n",
       "    <tr>\n",
       "      <th>10</th>\n",
       "      <td>Ireland</td>\n",
       "      <td>2021Q2</td>\n",
       "      <td>7240.15</td>\n",
       "      <td>18.17</td>\n",
       "      <td>17.97</td>\n",
       "      <td>0.7</td>\n",
       "      <td>17</td>\n",
       "      <td>8</td>\n",
       "    </tr>\n",
       "    <tr>\n",
       "      <th>11</th>\n",
       "      <td>Italy</td>\n",
       "      <td>2021Q2</td>\n",
       "      <td>11168.83</td>\n",
       "      <td>28.40</td>\n",
       "      <td>33.00</td>\n",
       "      <td>3.9</td>\n",
       "      <td>19</td>\n",
       "      <td>8</td>\n",
       "    </tr>\n",
       "    <tr>\n",
       "      <th>12</th>\n",
       "      <td>Latvia</td>\n",
       "      <td>2021Q2</td>\n",
       "      <td>18729.10</td>\n",
       "      <td>13.47</td>\n",
       "      <td>18.93</td>\n",
       "      <td>7.9</td>\n",
       "      <td>22</td>\n",
       "      <td>8</td>\n",
       "    </tr>\n",
       "    <tr>\n",
       "      <th>13</th>\n",
       "      <td>Lithuania</td>\n",
       "      <td>2021Q2</td>\n",
       "      <td>23275.17</td>\n",
       "      <td>17.73</td>\n",
       "      <td>20.80</td>\n",
       "      <td>5.8</td>\n",
       "      <td>23</td>\n",
       "      <td>8</td>\n",
       "    </tr>\n",
       "    <tr>\n",
       "      <th>14</th>\n",
       "      <td>Luxembourg</td>\n",
       "      <td>2021Q2</td>\n",
       "      <td>14260.87</td>\n",
       "      <td>18.30</td>\n",
       "      <td>18.33</td>\n",
       "      <td>6.3</td>\n",
       "      <td>24</td>\n",
       "      <td>8</td>\n",
       "    </tr>\n",
       "    <tr>\n",
       "      <th>15</th>\n",
       "      <td>Netherlands</td>\n",
       "      <td>2021Q2</td>\n",
       "      <td>24003.65</td>\n",
       "      <td>7.93</td>\n",
       "      <td>8.80</td>\n",
       "      <td>6.5</td>\n",
       "      <td>26</td>\n",
       "      <td>8</td>\n",
       "    </tr>\n",
       "    <tr>\n",
       "      <th>16</th>\n",
       "      <td>Poland</td>\n",
       "      <td>2021Q2</td>\n",
       "      <td>14765.56</td>\n",
       "      <td>11.90</td>\n",
       "      <td>16.57</td>\n",
       "      <td>4.1</td>\n",
       "      <td>29</td>\n",
       "      <td>8</td>\n",
       "    </tr>\n",
       "    <tr>\n",
       "      <th>17</th>\n",
       "      <td>Portugal</td>\n",
       "      <td>2021Q2</td>\n",
       "      <td>5455.69</td>\n",
       "      <td>22.63</td>\n",
       "      <td>28.40</td>\n",
       "      <td>-0.6</td>\n",
       "      <td>30</td>\n",
       "      <td>8</td>\n",
       "    </tr>\n",
       "    <tr>\n",
       "      <th>18</th>\n",
       "      <td>Slovakia</td>\n",
       "      <td>2021Q2</td>\n",
       "      <td>12309.54</td>\n",
       "      <td>20.43</td>\n",
       "      <td>22.70</td>\n",
       "      <td>-3.3</td>\n",
       "      <td>31</td>\n",
       "      <td>8</td>\n",
       "    </tr>\n",
       "    <tr>\n",
       "      <th>19</th>\n",
       "      <td>Slovenia</td>\n",
       "      <td>2021Q2</td>\n",
       "      <td>20053.18</td>\n",
       "      <td>13.40</td>\n",
       "      <td>16.30</td>\n",
       "      <td>1.9</td>\n",
       "      <td>32</td>\n",
       "      <td>8</td>\n",
       "    </tr>\n",
       "    <tr>\n",
       "      <th>20</th>\n",
       "      <td>Spain</td>\n",
       "      <td>2021Q2</td>\n",
       "      <td>11025.30</td>\n",
       "      <td>27.73</td>\n",
       "      <td>39.07</td>\n",
       "      <td>3.2</td>\n",
       "      <td>33</td>\n",
       "      <td>8</td>\n",
       "    </tr>\n",
       "    <tr>\n",
       "      <th>21</th>\n",
       "      <td>Sweden</td>\n",
       "      <td>2021Q2</td>\n",
       "      <td>28036.67</td>\n",
       "      <td>27.73</td>\n",
       "      <td>23.90</td>\n",
       "      <td>9.0</td>\n",
       "      <td>34</td>\n",
       "      <td>8</td>\n",
       "    </tr>\n",
       "  </tbody>\n",
       "</table>\n",
       "</div>"
      ],
      "text/plain": [
       "           Country    year    Corona  unmen  unwomen  trade  id  t\n",
       "0          Austria  2021Q2  11514.23  12.10    11.90    2.3   2  8\n",
       "1          Belgium  2021Q2  17373.73  18.00    20.70   11.6   3  8\n",
       "2   Czech Republic  2021Q2  12567.70   7.40     8.57    3.0   8  8\n",
       "3          Denmark  2021Q2  10791.46    NaN      NaN    4.1   9  8\n",
       "4          Estonia  2021Q2  18566.42  15.93    19.07    7.6  10  8\n",
       "5          Finland  2021Q2   3232.49  21.07    18.13    5.8  11  8\n",
       "6           France  2021Q2  16766.01  19.23    20.23    1.6  12  8\n",
       "7          Germany  2021Q2  10628.72   7.50     6.70    1.5  13  8\n",
       "8           Greece  2021Q2  15248.66  34.94    43.77    3.9  14  8\n",
       "9          Hungary  2021Q2  16155.32  11.80    16.50    0.6  15  8\n",
       "10         Ireland  2021Q2   7240.15  18.17    17.97    0.7  17  8\n",
       "11           Italy  2021Q2  11168.83  28.40    33.00    3.9  19  8\n",
       "12          Latvia  2021Q2  18729.10  13.47    18.93    7.9  22  8\n",
       "13      Lithuania   2021Q2  23275.17  17.73    20.80    5.8  23  8\n",
       "14     Luxembourg   2021Q2  14260.87  18.30    18.33    6.3  24  8\n",
       "15    Netherlands   2021Q2  24003.65   7.93     8.80    6.5  26  8\n",
       "16          Poland  2021Q2  14765.56  11.90    16.57    4.1  29  8\n",
       "17        Portugal  2021Q2   5455.69  22.63    28.40   -0.6  30  8\n",
       "18        Slovakia  2021Q2  12309.54  20.43    22.70   -3.3  31  8\n",
       "19        Slovenia  2021Q2  20053.18  13.40    16.30    1.9  32  8\n",
       "20           Spain  2021Q2  11025.30  27.73    39.07    3.2  33  8\n",
       "21          Sweden  2021Q2  28036.67  27.73    23.90    9.0  34  8"
      ]
     },
     "execution_count": 137,
     "metadata": {},
     "output_type": "execute_result"
    }
   ],
   "source": [
    "data3.reset_index(inplace = True, drop = True) # Drop old index too\n",
    "data3.iloc[0:300,:]"
   ]
  },
  {
   "cell_type": "code",
   "execution_count": 138,
   "metadata": {},
   "outputs": [
    {
     "data": {
      "application/vnd.plotly.v1+json": {
       "config": {
        "plotlyServerURL": "https://plot.ly"
       },
       "data": [
        {
         "hovertemplate": "Corona=%{x}<br>unwomen=%{y}<extra></extra>",
         "legendgroup": "",
         "marker": {
          "color": "#636efa",
          "symbol": "circle"
         },
         "mode": "markers",
         "name": "",
         "orientation": "v",
         "showlegend": false,
         "type": "scatter",
         "x": [
          11514.23,
          17373.73,
          12567.7,
          10791.46,
          18566.42,
          3232.49,
          16766.01,
          10628.72,
          15248.66,
          16155.32,
          7240.15,
          11168.83,
          18729.1,
          23275.17,
          14260.87,
          24003.65,
          14765.56,
          5455.69,
          12309.54,
          20053.18,
          11025.3,
          28036.67
         ],
         "xaxis": "x",
         "y": [
          11.9,
          20.7,
          8.57,
          null,
          19.07,
          18.13,
          20.23,
          6.7,
          43.77,
          16.5,
          17.97,
          33,
          18.93,
          20.8,
          18.33,
          8.8,
          16.57,
          28.4,
          22.7,
          16.3,
          39.07,
          23.9
         ],
         "yaxis": "y"
        },
        {
         "hovertemplate": "<b>OLS trendline</b><br>unwomen = -0.000165013 * Corona + 22.947<br>R<sup>2</sup>=0.011716<br><br>Corona=%{x}<br>unwomen=%{y} <b>(trend)</b><extra></extra>",
         "legendgroup": "",
         "marker": {
          "color": "#636efa",
          "symbol": "circle"
         },
         "mode": "lines",
         "name": "",
         "showlegend": false,
         "type": "scatter",
         "x": [
          3232.49,
          5455.69,
          7240.15,
          10628.72,
          11025.3,
          11168.83,
          11514.23,
          12309.54,
          12567.7,
          14260.87,
          14765.56,
          15248.66,
          16155.32,
          16766.01,
          17373.73,
          18566.42,
          18729.1,
          20053.18,
          23275.17,
          24003.65,
          28036.67
         ],
         "xaxis": "x",
         "y": [
          22.413557495069117,
          22.046701471262498,
          21.75224307784672,
          21.193086314356982,
          21.127645615399974,
          21.103961356180395,
          21.046966002355816,
          20.915729827340684,
          20.873130173190848,
          20.59373578050074,
          20.510455568799156,
          20.43073797924312,
          20.281127650642677,
          20.18035610279342,
          20.08007464238151,
          19.883265758325237,
          19.856421507716718,
          19.637931617467586,
          19.10626265374652,
          18.986054271134677,
          18.320555134245257
         ],
         "yaxis": "y"
        }
       ],
       "layout": {
        "legend": {
         "tracegroupgap": 0
        },
        "margin": {
         "t": 60
        },
        "template": {
         "data": {
          "bar": [
           {
            "error_x": {
             "color": "#2a3f5f"
            },
            "error_y": {
             "color": "#2a3f5f"
            },
            "marker": {
             "line": {
              "color": "#E5ECF6",
              "width": 0.5
             },
             "pattern": {
              "fillmode": "overlay",
              "size": 10,
              "solidity": 0.2
             }
            },
            "type": "bar"
           }
          ],
          "barpolar": [
           {
            "marker": {
             "line": {
              "color": "#E5ECF6",
              "width": 0.5
             },
             "pattern": {
              "fillmode": "overlay",
              "size": 10,
              "solidity": 0.2
             }
            },
            "type": "barpolar"
           }
          ],
          "carpet": [
           {
            "aaxis": {
             "endlinecolor": "#2a3f5f",
             "gridcolor": "white",
             "linecolor": "white",
             "minorgridcolor": "white",
             "startlinecolor": "#2a3f5f"
            },
            "baxis": {
             "endlinecolor": "#2a3f5f",
             "gridcolor": "white",
             "linecolor": "white",
             "minorgridcolor": "white",
             "startlinecolor": "#2a3f5f"
            },
            "type": "carpet"
           }
          ],
          "choropleth": [
           {
            "colorbar": {
             "outlinewidth": 0,
             "ticks": ""
            },
            "type": "choropleth"
           }
          ],
          "contour": [
           {
            "colorbar": {
             "outlinewidth": 0,
             "ticks": ""
            },
            "colorscale": [
             [
              0,
              "#0d0887"
             ],
             [
              0.1111111111111111,
              "#46039f"
             ],
             [
              0.2222222222222222,
              "#7201a8"
             ],
             [
              0.3333333333333333,
              "#9c179e"
             ],
             [
              0.4444444444444444,
              "#bd3786"
             ],
             [
              0.5555555555555556,
              "#d8576b"
             ],
             [
              0.6666666666666666,
              "#ed7953"
             ],
             [
              0.7777777777777778,
              "#fb9f3a"
             ],
             [
              0.8888888888888888,
              "#fdca26"
             ],
             [
              1,
              "#f0f921"
             ]
            ],
            "type": "contour"
           }
          ],
          "contourcarpet": [
           {
            "colorbar": {
             "outlinewidth": 0,
             "ticks": ""
            },
            "type": "contourcarpet"
           }
          ],
          "heatmap": [
           {
            "colorbar": {
             "outlinewidth": 0,
             "ticks": ""
            },
            "colorscale": [
             [
              0,
              "#0d0887"
             ],
             [
              0.1111111111111111,
              "#46039f"
             ],
             [
              0.2222222222222222,
              "#7201a8"
             ],
             [
              0.3333333333333333,
              "#9c179e"
             ],
             [
              0.4444444444444444,
              "#bd3786"
             ],
             [
              0.5555555555555556,
              "#d8576b"
             ],
             [
              0.6666666666666666,
              "#ed7953"
             ],
             [
              0.7777777777777778,
              "#fb9f3a"
             ],
             [
              0.8888888888888888,
              "#fdca26"
             ],
             [
              1,
              "#f0f921"
             ]
            ],
            "type": "heatmap"
           }
          ],
          "heatmapgl": [
           {
            "colorbar": {
             "outlinewidth": 0,
             "ticks": ""
            },
            "colorscale": [
             [
              0,
              "#0d0887"
             ],
             [
              0.1111111111111111,
              "#46039f"
             ],
             [
              0.2222222222222222,
              "#7201a8"
             ],
             [
              0.3333333333333333,
              "#9c179e"
             ],
             [
              0.4444444444444444,
              "#bd3786"
             ],
             [
              0.5555555555555556,
              "#d8576b"
             ],
             [
              0.6666666666666666,
              "#ed7953"
             ],
             [
              0.7777777777777778,
              "#fb9f3a"
             ],
             [
              0.8888888888888888,
              "#fdca26"
             ],
             [
              1,
              "#f0f921"
             ]
            ],
            "type": "heatmapgl"
           }
          ],
          "histogram": [
           {
            "marker": {
             "pattern": {
              "fillmode": "overlay",
              "size": 10,
              "solidity": 0.2
             }
            },
            "type": "histogram"
           }
          ],
          "histogram2d": [
           {
            "colorbar": {
             "outlinewidth": 0,
             "ticks": ""
            },
            "colorscale": [
             [
              0,
              "#0d0887"
             ],
             [
              0.1111111111111111,
              "#46039f"
             ],
             [
              0.2222222222222222,
              "#7201a8"
             ],
             [
              0.3333333333333333,
              "#9c179e"
             ],
             [
              0.4444444444444444,
              "#bd3786"
             ],
             [
              0.5555555555555556,
              "#d8576b"
             ],
             [
              0.6666666666666666,
              "#ed7953"
             ],
             [
              0.7777777777777778,
              "#fb9f3a"
             ],
             [
              0.8888888888888888,
              "#fdca26"
             ],
             [
              1,
              "#f0f921"
             ]
            ],
            "type": "histogram2d"
           }
          ],
          "histogram2dcontour": [
           {
            "colorbar": {
             "outlinewidth": 0,
             "ticks": ""
            },
            "colorscale": [
             [
              0,
              "#0d0887"
             ],
             [
              0.1111111111111111,
              "#46039f"
             ],
             [
              0.2222222222222222,
              "#7201a8"
             ],
             [
              0.3333333333333333,
              "#9c179e"
             ],
             [
              0.4444444444444444,
              "#bd3786"
             ],
             [
              0.5555555555555556,
              "#d8576b"
             ],
             [
              0.6666666666666666,
              "#ed7953"
             ],
             [
              0.7777777777777778,
              "#fb9f3a"
             ],
             [
              0.8888888888888888,
              "#fdca26"
             ],
             [
              1,
              "#f0f921"
             ]
            ],
            "type": "histogram2dcontour"
           }
          ],
          "mesh3d": [
           {
            "colorbar": {
             "outlinewidth": 0,
             "ticks": ""
            },
            "type": "mesh3d"
           }
          ],
          "parcoords": [
           {
            "line": {
             "colorbar": {
              "outlinewidth": 0,
              "ticks": ""
             }
            },
            "type": "parcoords"
           }
          ],
          "pie": [
           {
            "automargin": true,
            "type": "pie"
           }
          ],
          "scatter": [
           {
            "fillpattern": {
             "fillmode": "overlay",
             "size": 10,
             "solidity": 0.2
            },
            "type": "scatter"
           }
          ],
          "scatter3d": [
           {
            "line": {
             "colorbar": {
              "outlinewidth": 0,
              "ticks": ""
             }
            },
            "marker": {
             "colorbar": {
              "outlinewidth": 0,
              "ticks": ""
             }
            },
            "type": "scatter3d"
           }
          ],
          "scattercarpet": [
           {
            "marker": {
             "colorbar": {
              "outlinewidth": 0,
              "ticks": ""
             }
            },
            "type": "scattercarpet"
           }
          ],
          "scattergeo": [
           {
            "marker": {
             "colorbar": {
              "outlinewidth": 0,
              "ticks": ""
             }
            },
            "type": "scattergeo"
           }
          ],
          "scattergl": [
           {
            "marker": {
             "colorbar": {
              "outlinewidth": 0,
              "ticks": ""
             }
            },
            "type": "scattergl"
           }
          ],
          "scattermapbox": [
           {
            "marker": {
             "colorbar": {
              "outlinewidth": 0,
              "ticks": ""
             }
            },
            "type": "scattermapbox"
           }
          ],
          "scatterpolar": [
           {
            "marker": {
             "colorbar": {
              "outlinewidth": 0,
              "ticks": ""
             }
            },
            "type": "scatterpolar"
           }
          ],
          "scatterpolargl": [
           {
            "marker": {
             "colorbar": {
              "outlinewidth": 0,
              "ticks": ""
             }
            },
            "type": "scatterpolargl"
           }
          ],
          "scatterternary": [
           {
            "marker": {
             "colorbar": {
              "outlinewidth": 0,
              "ticks": ""
             }
            },
            "type": "scatterternary"
           }
          ],
          "surface": [
           {
            "colorbar": {
             "outlinewidth": 0,
             "ticks": ""
            },
            "colorscale": [
             [
              0,
              "#0d0887"
             ],
             [
              0.1111111111111111,
              "#46039f"
             ],
             [
              0.2222222222222222,
              "#7201a8"
             ],
             [
              0.3333333333333333,
              "#9c179e"
             ],
             [
              0.4444444444444444,
              "#bd3786"
             ],
             [
              0.5555555555555556,
              "#d8576b"
             ],
             [
              0.6666666666666666,
              "#ed7953"
             ],
             [
              0.7777777777777778,
              "#fb9f3a"
             ],
             [
              0.8888888888888888,
              "#fdca26"
             ],
             [
              1,
              "#f0f921"
             ]
            ],
            "type": "surface"
           }
          ],
          "table": [
           {
            "cells": {
             "fill": {
              "color": "#EBF0F8"
             },
             "line": {
              "color": "white"
             }
            },
            "header": {
             "fill": {
              "color": "#C8D4E3"
             },
             "line": {
              "color": "white"
             }
            },
            "type": "table"
           }
          ]
         },
         "layout": {
          "annotationdefaults": {
           "arrowcolor": "#2a3f5f",
           "arrowhead": 0,
           "arrowwidth": 1
          },
          "autotypenumbers": "strict",
          "coloraxis": {
           "colorbar": {
            "outlinewidth": 0,
            "ticks": ""
           }
          },
          "colorscale": {
           "diverging": [
            [
             0,
             "#8e0152"
            ],
            [
             0.1,
             "#c51b7d"
            ],
            [
             0.2,
             "#de77ae"
            ],
            [
             0.3,
             "#f1b6da"
            ],
            [
             0.4,
             "#fde0ef"
            ],
            [
             0.5,
             "#f7f7f7"
            ],
            [
             0.6,
             "#e6f5d0"
            ],
            [
             0.7,
             "#b8e186"
            ],
            [
             0.8,
             "#7fbc41"
            ],
            [
             0.9,
             "#4d9221"
            ],
            [
             1,
             "#276419"
            ]
           ],
           "sequential": [
            [
             0,
             "#0d0887"
            ],
            [
             0.1111111111111111,
             "#46039f"
            ],
            [
             0.2222222222222222,
             "#7201a8"
            ],
            [
             0.3333333333333333,
             "#9c179e"
            ],
            [
             0.4444444444444444,
             "#bd3786"
            ],
            [
             0.5555555555555556,
             "#d8576b"
            ],
            [
             0.6666666666666666,
             "#ed7953"
            ],
            [
             0.7777777777777778,
             "#fb9f3a"
            ],
            [
             0.8888888888888888,
             "#fdca26"
            ],
            [
             1,
             "#f0f921"
            ]
           ],
           "sequentialminus": [
            [
             0,
             "#0d0887"
            ],
            [
             0.1111111111111111,
             "#46039f"
            ],
            [
             0.2222222222222222,
             "#7201a8"
            ],
            [
             0.3333333333333333,
             "#9c179e"
            ],
            [
             0.4444444444444444,
             "#bd3786"
            ],
            [
             0.5555555555555556,
             "#d8576b"
            ],
            [
             0.6666666666666666,
             "#ed7953"
            ],
            [
             0.7777777777777778,
             "#fb9f3a"
            ],
            [
             0.8888888888888888,
             "#fdca26"
            ],
            [
             1,
             "#f0f921"
            ]
           ]
          },
          "colorway": [
           "#636efa",
           "#EF553B",
           "#00cc96",
           "#ab63fa",
           "#FFA15A",
           "#19d3f3",
           "#FF6692",
           "#B6E880",
           "#FF97FF",
           "#FECB52"
          ],
          "font": {
           "color": "#2a3f5f"
          },
          "geo": {
           "bgcolor": "white",
           "lakecolor": "white",
           "landcolor": "#E5ECF6",
           "showlakes": true,
           "showland": true,
           "subunitcolor": "white"
          },
          "hoverlabel": {
           "align": "left"
          },
          "hovermode": "closest",
          "mapbox": {
           "style": "light"
          },
          "paper_bgcolor": "white",
          "plot_bgcolor": "#E5ECF6",
          "polar": {
           "angularaxis": {
            "gridcolor": "white",
            "linecolor": "white",
            "ticks": ""
           },
           "bgcolor": "#E5ECF6",
           "radialaxis": {
            "gridcolor": "white",
            "linecolor": "white",
            "ticks": ""
           }
          },
          "scene": {
           "xaxis": {
            "backgroundcolor": "#E5ECF6",
            "gridcolor": "white",
            "gridwidth": 2,
            "linecolor": "white",
            "showbackground": true,
            "ticks": "",
            "zerolinecolor": "white"
           },
           "yaxis": {
            "backgroundcolor": "#E5ECF6",
            "gridcolor": "white",
            "gridwidth": 2,
            "linecolor": "white",
            "showbackground": true,
            "ticks": "",
            "zerolinecolor": "white"
           },
           "zaxis": {
            "backgroundcolor": "#E5ECF6",
            "gridcolor": "white",
            "gridwidth": 2,
            "linecolor": "white",
            "showbackground": true,
            "ticks": "",
            "zerolinecolor": "white"
           }
          },
          "shapedefaults": {
           "line": {
            "color": "#2a3f5f"
           }
          },
          "ternary": {
           "aaxis": {
            "gridcolor": "white",
            "linecolor": "white",
            "ticks": ""
           },
           "baxis": {
            "gridcolor": "white",
            "linecolor": "white",
            "ticks": ""
           },
           "bgcolor": "#E5ECF6",
           "caxis": {
            "gridcolor": "white",
            "linecolor": "white",
            "ticks": ""
           }
          },
          "title": {
           "x": 0.05
          },
          "xaxis": {
           "automargin": true,
           "gridcolor": "white",
           "linecolor": "white",
           "ticks": "",
           "title": {
            "standoff": 15
           },
           "zerolinecolor": "white",
           "zerolinewidth": 2
          },
          "yaxis": {
           "automargin": true,
           "gridcolor": "white",
           "linecolor": "white",
           "ticks": "",
           "title": {
            "standoff": 15
           },
           "zerolinecolor": "white",
           "zerolinewidth": 2
          }
         }
        },
        "title": {
         "text": "Corona cases and women's unemployment rate for 2021Q2"
        },
        "xaxis": {
         "anchor": "y",
         "domain": [
          0,
          1
         ],
         "title": {
          "text": "Corona cases"
         }
        },
        "yaxis": {
         "anchor": "x",
         "domain": [
          0,
          1
         ],
         "title": {
          "text": "Unemployment"
         }
        }
       }
      }
     },
     "metadata": {},
     "output_type": "display_data"
    }
   ],
   "source": [
    "# creating scatterplot\n",
    "fig = px.scatter(data_frame=data3, x='Corona', y='unwomen', trendline=\"ols\")\n",
    "\n",
    "# customizing layout\n",
    "fig.update_layout(\n",
    "    title=\"Corona cases and women's unemployment rate for 2021Q2\",\n",
    "    xaxis_title='Corona cases',\n",
    "    yaxis_title='Unemployment'\n",
    ")\n",
    "\n",
    "# show scatterplot\n",
    "fig.show()"
   ]
  },
  {
   "attachments": {},
   "cell_type": "markdown",
   "metadata": {},
   "source": [
    "This scatter plot shows no correlation between women's unemployment and corona cases in the second quarter of 2021."
   ]
  },
  {
   "attachments": {},
   "cell_type": "markdown",
   "metadata": {},
   "source": [
    "**Sub plot**"
   ]
  },
  {
   "cell_type": "code",
   "execution_count": 139,
   "metadata": {},
   "outputs": [
    {
     "data": {
      "image/png": "[encoded data removed]",
      "text/plain": [
       "<Figure size 640x480 with 1 Axes>"
      ]
     },
     "metadata": {},
     "output_type": "display_data"
    }
   ],
   "source": [
    "# creating sub plot\n",
    "fig, ax = plt.subplots()\n",
    "data3.plot.bar(x = 'Corona', y = ['unmen', 'unwomen'], rot = 40, ax = ax) ;"
   ]
  },
  {
   "attachments": {},
   "cell_type": "markdown",
   "metadata": {},
   "source": [
    "The tendencies for all countries is that women's unemployment is higher than men's unemployment in the second quarter of 2021.\n",
    "\n",
    "Note: change this plot to a plot that shows how women's unemployment change duing the time period."
   ]
  },
  {
   "cell_type": "markdown",
   "metadata": {},
   "source": [
    "# Analysis"
   ]
  },
  {
   "attachments": {},
   "cell_type": "markdown",
   "metadata": {},
   "source": [
    "We want to investigate the effect of corona on the unemployment rate for young women by using a fixed effect estimation. We assume that there exist unobservable time invariant variables for example gender, marriage, nationality etc., which are relevant for our model. Thus, we are using fixed effect estimation to be able to remove these variables and create a consistent model. We are using trade and the unemployment rate for men as control variables."
   ]
  },
  {
   "cell_type": "code",
   "execution_count": 140,
   "metadata": {},
   "outputs": [
    {
     "name": "stdout",
     "output_type": "stream",
     "text": [
      "                            OLS Regression Results                            \n",
      "==============================================================================\n",
      "Dep. Variable:                unwomen   R-squared:                       0.777\n",
      "Model:                            OLS   Adj. R-squared:                  0.763\n",
      "Method:                 Least Squares   F-statistic:                     56.73\n",
      "Date:                Wed, 12 Apr 2023   Prob (F-statistic):           1.97e-52\n",
      "Time:                        14:19:12   Log-Likelihood:                -553.40\n",
      "No. Observations:                 191   AIC:                             1131.\n",
      "Df Residuals:                     179   BIC:                             1170.\n",
      "Df Model:                          11                                         \n",
      "Covariance Type:            nonrobust                                         \n",
      "==============================================================================\n",
      "                 coef    std err          t      P>|t|      [0.025      0.975]\n",
      "------------------------------------------------------------------------------\n",
      "Intercept     -1.7513      1.206     -1.452      0.148      -4.132       0.629\n",
      "C(t)[T.2]     -0.1412      1.371     -0.103      0.918      -2.847       2.565\n",
      "C(t)[T.3]     -0.1620      1.383     -0.117      0.907      -2.892       2.568\n",
      "C(t)[T.4]     -0.3592      1.806     -0.199      0.843      -3.923       3.204\n",
      "C(t)[T.5]      1.6652      2.444      0.681      0.497      -3.158       6.488\n",
      "C(t)[T.6]      0.2114      1.978      0.107      0.915      -3.692       4.115\n",
      "C(t)[T.7]      1.8460      1.931      0.956      0.340      -1.965       5.657\n",
      "C(t)[T.8]      1.6320      1.555      1.050      0.295      -1.436       4.700\n",
      "C(t)[T.9]      0.3621      1.476      0.245      0.806      -2.550       3.274\n",
      "Corona      4.688e-05    3.8e-05      1.232      0.219   -2.82e-05       0.000\n",
      "unmen          1.1228      0.047     23.851      0.000       1.030       1.216\n",
      "trade         -0.0450      0.068     -0.664      0.508      -0.179       0.089\n",
      "==============================================================================\n",
      "Omnibus:                        9.380   Durbin-Watson:                   0.710\n",
      "Prob(Omnibus):                  0.009   Jarque-Bera (JB):               16.239\n",
      "Skew:                           0.205   Prob(JB):                     0.000298\n",
      "Kurtosis:                       4.368   Cond. No.                     2.09e+05\n",
      "==============================================================================\n",
      "\n",
      "Notes:\n",
      "[1] Standard Errors assume that the covariance matrix of the errors is correctly specified.\n",
      "[2] The condition number is large, 2.09e+05. This might indicate that there are\n",
      "strong multicollinearity or other numerical problems.\n"
     ]
    }
   ],
   "source": [
    "results_fe1 = smf.ols(\"unwomen ~ Corona + unmen + trade + C(t)\", data=data2).fit()\n",
    "print(results_fe1.summary())"
   ]
  },
  {
   "attachments": {},
   "cell_type": "markdown",
   "metadata": {},
   "source": [
    "The model is predicting the unemployment rate from 2019Q3-2021Q3. In 2019Q3 it is predicted to be -1.7513, in 2019Q4 to be -1.8925 (-1.7513-0.1412) and so on. Corona appears to be insignificant, which indicating that it does not have any effect on the unemployment rate for young women. This is also the case for the trade variable. Whereas the unemployment rate for men is significant, which is expected. Hereby, we can conclude that the unemployment rate for men affects the unemployment rate for women. "
   ]
  },
  {
   "cell_type": "markdown",
   "metadata": {},
   "source": [
    "# Conclusion"
   ]
  },
  {
   "attachments": {},
   "cell_type": "markdown",
   "metadata": {},
   "source": [
    "We have investigated corona's influence on young women's unemployment using descriptive plot and fixed effect estimation. We find that there is no correlation between the numbers of corona cases and women's unemployment. For further investigation of the model, it could be relevant to include variables as GDP, investment ect. since it is highly possible that it affects the unemployment rate of young women."
   ]
  }
 ],
 "metadata": {
  "kernelspec": {
   "display_name": "Python 3.9.16 ('base')",
   "language": "python",
   "name": "python3"
  },
  "language_info": {
   "codemirror_mode": {
    "name": "ipython",
    "version": 3
   },
   "file_extension": ".py",
   "mimetype": "text/x-python",
   "name": "python",
   "nbconvert_exporter": "python",
   "pygments_lexer": "ipython3",
   "version": "3.9.13"
  },
  "toc-autonumbering": true,
  "vscode": {
   "interpreter": {
    "hash": "4582a841dbf878a0539951acd7f7b380e902b457459f65ec297260d5078dd399"
   }
  }
 },
 "nbformat": 4,
 "nbformat_minor": 4
}
